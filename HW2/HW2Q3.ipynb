{
 "cells": [
  {
   "cell_type": "code",
   "execution_count": 1,
   "id": "01eeffe0",
   "metadata": {},
   "outputs": [],
   "source": [
    "import pandas as pd\n",
    "import numpy as np\n",
    "from scipy.optimize import minimize"
   ]
  },
  {
   "cell_type": "code",
   "execution_count": 2,
   "id": "89de3599",
   "metadata": {},
   "outputs": [
    {
     "name": "stdout",
     "output_type": "stream",
     "text": [
      "| label values\n",
      "\n",
      "unacc, acc, good, vgood\n",
      "\n",
      "| attributes\n",
      "\n",
      "buying:   vhigh, high, med, low.\n",
      "maint:    vhigh, high, med, low.\n",
      "doors:    2, 3, 4, 5more.\n",
      "persons:  2, 4, more.\n",
      "lug_boot: small, med, big.\n",
      "safety:   low, med, high.\n",
      "\n",
      "| columns\n",
      "buying,maint,doors,persons,lug_boot,safety,label\n",
      "\n"
     ]
    }
   ],
   "source": [
    "f = open(\"car/data-desc.txt\", \"r\")\n",
    "print(f.read())"
   ]
  },
  {
   "cell_type": "code",
   "execution_count": 3,
   "id": "518baa0b",
   "metadata": {},
   "outputs": [
    {
     "data": {
      "text/html": [
       "<div>\n",
       "<style scoped>\n",
       "    .dataframe tbody tr th:only-of-type {\n",
       "        vertical-align: middle;\n",
       "    }\n",
       "\n",
       "    .dataframe tbody tr th {\n",
       "        vertical-align: top;\n",
       "    }\n",
       "\n",
       "    .dataframe thead th {\n",
       "        text-align: right;\n",
       "    }\n",
       "</style>\n",
       "<table border=\"1\" class=\"dataframe\">\n",
       "  <thead>\n",
       "    <tr style=\"text-align: right;\">\n",
       "      <th></th>\n",
       "      <th>buying</th>\n",
       "      <th>maint</th>\n",
       "      <th>doors</th>\n",
       "      <th>persons</th>\n",
       "      <th>lug_boot</th>\n",
       "      <th>safety</th>\n",
       "      <th>label</th>\n",
       "    </tr>\n",
       "  </thead>\n",
       "  <tbody>\n",
       "    <tr>\n",
       "      <th>0</th>\n",
       "      <td>low</td>\n",
       "      <td>vhigh</td>\n",
       "      <td>4</td>\n",
       "      <td>4</td>\n",
       "      <td>big</td>\n",
       "      <td>med</td>\n",
       "      <td>acc</td>\n",
       "    </tr>\n",
       "    <tr>\n",
       "      <th>1</th>\n",
       "      <td>low</td>\n",
       "      <td>high</td>\n",
       "      <td>5more</td>\n",
       "      <td>4</td>\n",
       "      <td>med</td>\n",
       "      <td>high</td>\n",
       "      <td>vgood</td>\n",
       "    </tr>\n",
       "    <tr>\n",
       "      <th>2</th>\n",
       "      <td>vhigh</td>\n",
       "      <td>med</td>\n",
       "      <td>2</td>\n",
       "      <td>2</td>\n",
       "      <td>big</td>\n",
       "      <td>high</td>\n",
       "      <td>unacc</td>\n",
       "    </tr>\n",
       "    <tr>\n",
       "      <th>3</th>\n",
       "      <td>high</td>\n",
       "      <td>high</td>\n",
       "      <td>2</td>\n",
       "      <td>2</td>\n",
       "      <td>small</td>\n",
       "      <td>high</td>\n",
       "      <td>unacc</td>\n",
       "    </tr>\n",
       "    <tr>\n",
       "      <th>4</th>\n",
       "      <td>vhigh</td>\n",
       "      <td>low</td>\n",
       "      <td>3</td>\n",
       "      <td>2</td>\n",
       "      <td>big</td>\n",
       "      <td>low</td>\n",
       "      <td>unacc</td>\n",
       "    </tr>\n",
       "  </tbody>\n",
       "</table>\n",
       "</div>"
      ],
      "text/plain": [
       "  buying  maint  doors persons lug_boot safety  label\n",
       "0    low  vhigh      4       4      big    med    acc\n",
       "1    low   high  5more       4      med   high  vgood\n",
       "2  vhigh    med      2       2      big   high  unacc\n",
       "3   high   high      2       2    small   high  unacc\n",
       "4  vhigh    low      3       2      big    low  unacc"
      ]
     },
     "execution_count": 3,
     "metadata": {},
     "output_type": "execute_result"
    }
   ],
   "source": [
    "df = pd.read_csv(\"car/train.csv\", \n",
    "                 names = ['buying', 'maint', 'doors', 'persons', 'lug_boot', 'safety', 'label'])\n",
    "df.head()"
   ]
  },
  {
   "cell_type": "code",
   "execution_count": 4,
   "id": "29b89340",
   "metadata": {},
   "outputs": [
    {
     "data": {
      "text/html": [
       "<div>\n",
       "<style scoped>\n",
       "    .dataframe tbody tr th:only-of-type {\n",
       "        vertical-align: middle;\n",
       "    }\n",
       "\n",
       "    .dataframe tbody tr th {\n",
       "        vertical-align: top;\n",
       "    }\n",
       "\n",
       "    .dataframe thead th {\n",
       "        text-align: right;\n",
       "    }\n",
       "</style>\n",
       "<table border=\"1\" class=\"dataframe\">\n",
       "  <thead>\n",
       "    <tr style=\"text-align: right;\">\n",
       "      <th></th>\n",
       "      <th>label</th>\n",
       "      <th>buying_high</th>\n",
       "      <th>buying_low</th>\n",
       "      <th>buying_med</th>\n",
       "      <th>buying_vhigh</th>\n",
       "      <th>maint_high</th>\n",
       "      <th>maint_low</th>\n",
       "      <th>maint_med</th>\n",
       "      <th>maint_vhigh</th>\n",
       "      <th>doors_2</th>\n",
       "      <th>...</th>\n",
       "      <th>doors_5more</th>\n",
       "      <th>persons_2</th>\n",
       "      <th>persons_4</th>\n",
       "      <th>persons_more</th>\n",
       "      <th>lug_boot_big</th>\n",
       "      <th>lug_boot_med</th>\n",
       "      <th>lug_boot_small</th>\n",
       "      <th>safety_high</th>\n",
       "      <th>safety_low</th>\n",
       "      <th>safety_med</th>\n",
       "    </tr>\n",
       "  </thead>\n",
       "  <tbody>\n",
       "    <tr>\n",
       "      <th>0</th>\n",
       "      <td>acc</td>\n",
       "      <td>0</td>\n",
       "      <td>1</td>\n",
       "      <td>0</td>\n",
       "      <td>0</td>\n",
       "      <td>0</td>\n",
       "      <td>0</td>\n",
       "      <td>0</td>\n",
       "      <td>1</td>\n",
       "      <td>0</td>\n",
       "      <td>...</td>\n",
       "      <td>0</td>\n",
       "      <td>0</td>\n",
       "      <td>1</td>\n",
       "      <td>0</td>\n",
       "      <td>1</td>\n",
       "      <td>0</td>\n",
       "      <td>0</td>\n",
       "      <td>0</td>\n",
       "      <td>0</td>\n",
       "      <td>1</td>\n",
       "    </tr>\n",
       "    <tr>\n",
       "      <th>1</th>\n",
       "      <td>vgood</td>\n",
       "      <td>0</td>\n",
       "      <td>1</td>\n",
       "      <td>0</td>\n",
       "      <td>0</td>\n",
       "      <td>1</td>\n",
       "      <td>0</td>\n",
       "      <td>0</td>\n",
       "      <td>0</td>\n",
       "      <td>0</td>\n",
       "      <td>...</td>\n",
       "      <td>1</td>\n",
       "      <td>0</td>\n",
       "      <td>1</td>\n",
       "      <td>0</td>\n",
       "      <td>0</td>\n",
       "      <td>1</td>\n",
       "      <td>0</td>\n",
       "      <td>1</td>\n",
       "      <td>0</td>\n",
       "      <td>0</td>\n",
       "    </tr>\n",
       "    <tr>\n",
       "      <th>2</th>\n",
       "      <td>unacc</td>\n",
       "      <td>0</td>\n",
       "      <td>0</td>\n",
       "      <td>0</td>\n",
       "      <td>1</td>\n",
       "      <td>0</td>\n",
       "      <td>0</td>\n",
       "      <td>1</td>\n",
       "      <td>0</td>\n",
       "      <td>1</td>\n",
       "      <td>...</td>\n",
       "      <td>0</td>\n",
       "      <td>1</td>\n",
       "      <td>0</td>\n",
       "      <td>0</td>\n",
       "      <td>1</td>\n",
       "      <td>0</td>\n",
       "      <td>0</td>\n",
       "      <td>1</td>\n",
       "      <td>0</td>\n",
       "      <td>0</td>\n",
       "    </tr>\n",
       "    <tr>\n",
       "      <th>3</th>\n",
       "      <td>unacc</td>\n",
       "      <td>1</td>\n",
       "      <td>0</td>\n",
       "      <td>0</td>\n",
       "      <td>0</td>\n",
       "      <td>1</td>\n",
       "      <td>0</td>\n",
       "      <td>0</td>\n",
       "      <td>0</td>\n",
       "      <td>1</td>\n",
       "      <td>...</td>\n",
       "      <td>0</td>\n",
       "      <td>1</td>\n",
       "      <td>0</td>\n",
       "      <td>0</td>\n",
       "      <td>0</td>\n",
       "      <td>0</td>\n",
       "      <td>1</td>\n",
       "      <td>1</td>\n",
       "      <td>0</td>\n",
       "      <td>0</td>\n",
       "    </tr>\n",
       "    <tr>\n",
       "      <th>4</th>\n",
       "      <td>unacc</td>\n",
       "      <td>0</td>\n",
       "      <td>0</td>\n",
       "      <td>0</td>\n",
       "      <td>1</td>\n",
       "      <td>0</td>\n",
       "      <td>1</td>\n",
       "      <td>0</td>\n",
       "      <td>0</td>\n",
       "      <td>0</td>\n",
       "      <td>...</td>\n",
       "      <td>0</td>\n",
       "      <td>1</td>\n",
       "      <td>0</td>\n",
       "      <td>0</td>\n",
       "      <td>1</td>\n",
       "      <td>0</td>\n",
       "      <td>0</td>\n",
       "      <td>0</td>\n",
       "      <td>1</td>\n",
       "      <td>0</td>\n",
       "    </tr>\n",
       "  </tbody>\n",
       "</table>\n",
       "<p>5 rows × 22 columns</p>\n",
       "</div>"
      ],
      "text/plain": [
       "   label  buying_high  buying_low  buying_med  buying_vhigh  maint_high  \\\n",
       "0    acc            0           1           0             0           0   \n",
       "1  vgood            0           1           0             0           1   \n",
       "2  unacc            0           0           0             1           0   \n",
       "3  unacc            1           0           0             0           1   \n",
       "4  unacc            0           0           0             1           0   \n",
       "\n",
       "   maint_low  maint_med  maint_vhigh  doors_2  ...  doors_5more  persons_2  \\\n",
       "0          0          0            1        0  ...            0          0   \n",
       "1          0          0            0        0  ...            1          0   \n",
       "2          0          1            0        1  ...            0          1   \n",
       "3          0          0            0        1  ...            0          1   \n",
       "4          1          0            0        0  ...            0          1   \n",
       "\n",
       "   persons_4  persons_more  lug_boot_big  lug_boot_med  lug_boot_small  \\\n",
       "0          1             0             1             0               0   \n",
       "1          1             0             0             1               0   \n",
       "2          0             0             1             0               0   \n",
       "3          0             0             0             0               1   \n",
       "4          0             0             1             0               0   \n",
       "\n",
       "   safety_high  safety_low  safety_med  \n",
       "0            0           0           1  \n",
       "1            1           0           0  \n",
       "2            1           0           0  \n",
       "3            1           0           0  \n",
       "4            0           1           0  \n",
       "\n",
       "[5 rows x 22 columns]"
      ]
     },
     "execution_count": 4,
     "metadata": {},
     "output_type": "execute_result"
    }
   ],
   "source": [
    "df_hot= pd.get_dummies(df, columns=['buying', 'maint', 'doors', 'persons', 'lug_boot', 'safety'])\n",
    "df_hot.head()"
   ]
  },
  {
   "cell_type": "code",
   "execution_count": 5,
   "id": "88406f78",
   "metadata": {},
   "outputs": [],
   "source": [
    "df_hot_ready_to_use = df_hot.copy()\n",
    "Labels = ['unacc', 'acc', 'good', 'vgood']"
   ]
  },
  {
   "cell_type": "code",
   "execution_count": 6,
   "id": "081219a2",
   "metadata": {},
   "outputs": [],
   "source": [
    "for i in range(len(Labels)):\n",
    "    df_hot_ready_to_use.loc[(df_hot_ready_to_use['label'] == Labels[i]), 'label'] = i"
   ]
  },
  {
   "cell_type": "code",
   "execution_count": 7,
   "id": "1f8674d7",
   "metadata": {},
   "outputs": [
    {
     "data": {
      "text/html": [
       "<div>\n",
       "<style scoped>\n",
       "    .dataframe tbody tr th:only-of-type {\n",
       "        vertical-align: middle;\n",
       "    }\n",
       "\n",
       "    .dataframe tbody tr th {\n",
       "        vertical-align: top;\n",
       "    }\n",
       "\n",
       "    .dataframe thead th {\n",
       "        text-align: right;\n",
       "    }\n",
       "</style>\n",
       "<table border=\"1\" class=\"dataframe\">\n",
       "  <thead>\n",
       "    <tr style=\"text-align: right;\">\n",
       "      <th></th>\n",
       "      <th>label</th>\n",
       "      <th>buying_high</th>\n",
       "      <th>buying_low</th>\n",
       "      <th>buying_med</th>\n",
       "      <th>buying_vhigh</th>\n",
       "      <th>maint_high</th>\n",
       "      <th>maint_low</th>\n",
       "      <th>maint_med</th>\n",
       "      <th>maint_vhigh</th>\n",
       "      <th>doors_2</th>\n",
       "      <th>...</th>\n",
       "      <th>doors_5more</th>\n",
       "      <th>persons_2</th>\n",
       "      <th>persons_4</th>\n",
       "      <th>persons_more</th>\n",
       "      <th>lug_boot_big</th>\n",
       "      <th>lug_boot_med</th>\n",
       "      <th>lug_boot_small</th>\n",
       "      <th>safety_high</th>\n",
       "      <th>safety_low</th>\n",
       "      <th>safety_med</th>\n",
       "    </tr>\n",
       "  </thead>\n",
       "  <tbody>\n",
       "    <tr>\n",
       "      <th>0</th>\n",
       "      <td>1</td>\n",
       "      <td>0</td>\n",
       "      <td>1</td>\n",
       "      <td>0</td>\n",
       "      <td>0</td>\n",
       "      <td>0</td>\n",
       "      <td>0</td>\n",
       "      <td>0</td>\n",
       "      <td>1</td>\n",
       "      <td>0</td>\n",
       "      <td>...</td>\n",
       "      <td>0</td>\n",
       "      <td>0</td>\n",
       "      <td>1</td>\n",
       "      <td>0</td>\n",
       "      <td>1</td>\n",
       "      <td>0</td>\n",
       "      <td>0</td>\n",
       "      <td>0</td>\n",
       "      <td>0</td>\n",
       "      <td>1</td>\n",
       "    </tr>\n",
       "    <tr>\n",
       "      <th>1</th>\n",
       "      <td>3</td>\n",
       "      <td>0</td>\n",
       "      <td>1</td>\n",
       "      <td>0</td>\n",
       "      <td>0</td>\n",
       "      <td>1</td>\n",
       "      <td>0</td>\n",
       "      <td>0</td>\n",
       "      <td>0</td>\n",
       "      <td>0</td>\n",
       "      <td>...</td>\n",
       "      <td>1</td>\n",
       "      <td>0</td>\n",
       "      <td>1</td>\n",
       "      <td>0</td>\n",
       "      <td>0</td>\n",
       "      <td>1</td>\n",
       "      <td>0</td>\n",
       "      <td>1</td>\n",
       "      <td>0</td>\n",
       "      <td>0</td>\n",
       "    </tr>\n",
       "    <tr>\n",
       "      <th>2</th>\n",
       "      <td>0</td>\n",
       "      <td>0</td>\n",
       "      <td>0</td>\n",
       "      <td>0</td>\n",
       "      <td>1</td>\n",
       "      <td>0</td>\n",
       "      <td>0</td>\n",
       "      <td>1</td>\n",
       "      <td>0</td>\n",
       "      <td>1</td>\n",
       "      <td>...</td>\n",
       "      <td>0</td>\n",
       "      <td>1</td>\n",
       "      <td>0</td>\n",
       "      <td>0</td>\n",
       "      <td>1</td>\n",
       "      <td>0</td>\n",
       "      <td>0</td>\n",
       "      <td>1</td>\n",
       "      <td>0</td>\n",
       "      <td>0</td>\n",
       "    </tr>\n",
       "    <tr>\n",
       "      <th>3</th>\n",
       "      <td>0</td>\n",
       "      <td>1</td>\n",
       "      <td>0</td>\n",
       "      <td>0</td>\n",
       "      <td>0</td>\n",
       "      <td>1</td>\n",
       "      <td>0</td>\n",
       "      <td>0</td>\n",
       "      <td>0</td>\n",
       "      <td>1</td>\n",
       "      <td>...</td>\n",
       "      <td>0</td>\n",
       "      <td>1</td>\n",
       "      <td>0</td>\n",
       "      <td>0</td>\n",
       "      <td>0</td>\n",
       "      <td>0</td>\n",
       "      <td>1</td>\n",
       "      <td>1</td>\n",
       "      <td>0</td>\n",
       "      <td>0</td>\n",
       "    </tr>\n",
       "    <tr>\n",
       "      <th>4</th>\n",
       "      <td>0</td>\n",
       "      <td>0</td>\n",
       "      <td>0</td>\n",
       "      <td>0</td>\n",
       "      <td>1</td>\n",
       "      <td>0</td>\n",
       "      <td>1</td>\n",
       "      <td>0</td>\n",
       "      <td>0</td>\n",
       "      <td>0</td>\n",
       "      <td>...</td>\n",
       "      <td>0</td>\n",
       "      <td>1</td>\n",
       "      <td>0</td>\n",
       "      <td>0</td>\n",
       "      <td>1</td>\n",
       "      <td>0</td>\n",
       "      <td>0</td>\n",
       "      <td>0</td>\n",
       "      <td>1</td>\n",
       "      <td>0</td>\n",
       "    </tr>\n",
       "  </tbody>\n",
       "</table>\n",
       "<p>5 rows × 22 columns</p>\n",
       "</div>"
      ],
      "text/plain": [
       "  label  buying_high  buying_low  buying_med  buying_vhigh  maint_high  \\\n",
       "0     1            0           1           0             0           0   \n",
       "1     3            0           1           0             0           1   \n",
       "2     0            0           0           0             1           0   \n",
       "3     0            1           0           0             0           1   \n",
       "4     0            0           0           0             1           0   \n",
       "\n",
       "   maint_low  maint_med  maint_vhigh  doors_2  ...  doors_5more  persons_2  \\\n",
       "0          0          0            1        0  ...            0          0   \n",
       "1          0          0            0        0  ...            1          0   \n",
       "2          0          1            0        1  ...            0          1   \n",
       "3          0          0            0        1  ...            0          1   \n",
       "4          1          0            0        0  ...            0          1   \n",
       "\n",
       "   persons_4  persons_more  lug_boot_big  lug_boot_med  lug_boot_small  \\\n",
       "0          1             0             1             0               0   \n",
       "1          1             0             0             1               0   \n",
       "2          0             0             1             0               0   \n",
       "3          0             0             0             0               1   \n",
       "4          0             0             1             0               0   \n",
       "\n",
       "   safety_high  safety_low  safety_med  \n",
       "0            0           0           1  \n",
       "1            1           0           0  \n",
       "2            1           0           0  \n",
       "3            1           0           0  \n",
       "4            0           1           0  \n",
       "\n",
       "[5 rows x 22 columns]"
      ]
     },
     "execution_count": 7,
     "metadata": {},
     "output_type": "execute_result"
    }
   ],
   "source": [
    "df_hot_ready_to_use.head()"
   ]
  },
  {
   "cell_type": "code",
   "execution_count": 8,
   "id": "73b41715",
   "metadata": {},
   "outputs": [
    {
     "name": "stdout",
     "output_type": "stream",
     "text": [
      "['buying_high', 'buying_low', 'buying_med', 'buying_vhigh', 'maint_high', 'maint_low', 'maint_med', 'maint_vhigh', 'doors_2', 'doors_3', 'doors_4', 'doors_5more', 'persons_2', 'persons_4', 'persons_more', 'lug_boot_big', 'lug_boot_med', 'lug_boot_small', 'safety_high', 'safety_low', 'safety_med']\n"
     ]
    }
   ],
   "source": [
    "columns = list(df_hot_ready_to_use.columns)\n",
    "columns.remove('label')\n",
    "print(columns)"
   ]
  },
  {
   "cell_type": "code",
   "execution_count": 9,
   "id": "0d6fbdc4",
   "metadata": {},
   "outputs": [
    {
     "data": {
      "text/plain": [
       "(1000,)"
      ]
     },
     "execution_count": 9,
     "metadata": {},
     "output_type": "execute_result"
    }
   ],
   "source": [
    "label = df_hot_ready_to_use['label'].to_numpy(dtype = int)\n",
    "label.shape"
   ]
  },
  {
   "cell_type": "code",
   "execution_count": 10,
   "id": "f8e5abad",
   "metadata": {},
   "outputs": [
    {
     "name": "stdout",
     "output_type": "stream",
     "text": [
      "(1000, 21)\n"
     ]
    },
    {
     "data": {
      "text/plain": [
       "(1000, 22)"
      ]
     },
     "execution_count": 10,
     "metadata": {},
     "output_type": "execute_result"
    }
   ],
   "source": [
    "train_data = df_hot_ready_to_use[columns].to_numpy(dtype = float)\n",
    "print(train_data.shape)\n",
    "train_data = np.hstack((np.ones((train_data.shape[0],1)), train_data))\n",
    "train_data.shape"
   ]
  },
  {
   "cell_type": "code",
   "execution_count": 11,
   "id": "50e80061",
   "metadata": {},
   "outputs": [],
   "source": [
    "def softmax(arr):\n",
    "    Max = arr.max(axis = 1)\n",
    "    arr = arr - Max.reshape(-1,1)\n",
    "    exp = np.exp(arr)\n",
    "    return exp/exp.sum(axis =1,keepdims = True)"
   ]
  },
  {
   "cell_type": "code",
   "execution_count": 12,
   "id": "e1b4a814",
   "metadata": {},
   "outputs": [],
   "source": [
    "class  multi_class_logistic_regression:\n",
    "    def __init__(self, n_class, n_features, initial = 'zero', prior_cov = 1):\n",
    "        if initial == \"zero\":\n",
    "            self.w = np.zeros((n_features, n_class))\n",
    "        elif initial == \"random\":\n",
    "            self.w = 1e-4*np.random.normal(loc = 0, scale = 1, size = (n_features, n_class))\n",
    "        \n",
    "        \n",
    "    def train(self, data, label, lr= 1e-3, max_iter = 100, eps = 1e-6):\n",
    "        self.data = data\n",
    "        self.label = label\n",
    "        self.lr = lr\n",
    "        c = 0\n",
    "        tolerance = np.inf\n",
    "        while c < max_iter and tolerance > eps:\n",
    "            c += 1\n",
    "            w_old = self.w.copy()\n",
    "                \n",
    "            self.forward()\n",
    "            self.backward()\n",
    "            tolerance = ((self.w-w_old)**2).sum()\n",
    "        \n",
    "        \n",
    "    def forward(self):\n",
    "        N, _ = self.data.shape\n",
    "        scores = self.data @ self.w # (N, n_n_features)x(n_features, n_class) = (N, n_class)\n",
    "        softmax_prop = softmax(scores) #(N, n_class)\n",
    "\n",
    "            \n",
    "        corrected_scores =-np.log(1e-10 + softmax_prop[range(N), self.label])\n",
    "            \n",
    "        loss = corrected_scores.sum() + 1 * (self.w.T@self.w).sum()\n",
    "            \n",
    "        grad = softmax_prop # (N x n_class)\n",
    "        grad[range(N), self.label] -= 1\n",
    "            \n",
    "        self.grad = self.data.T @ grad - 1/2 * self.w\n",
    "        \n",
    "\n",
    "            \n",
    "    def backward(self):\n",
    "        self.w -= self.lr * self.grad\n",
    "            \n",
    "    def accuracy(self,x, y):\n",
    "        scores = x @ self.w # (N, n_n_features)x(n_features, n_class) = (N, n_class)\n",
    "        softmax_prop = softmax(scores)\n",
    "        y_pred = np.argmax(softmax_prop, axis = 1)\n",
    "        return (y_pred==y).mean()"
   ]
  },
  {
   "cell_type": "markdown",
   "id": "7fddc3b9",
   "metadata": {},
   "source": [
    "## Usnig gradient descent to Train"
   ]
  },
  {
   "cell_type": "markdown",
   "id": "7462af1c",
   "metadata": {},
   "source": [
    "### 1. Zero initialization "
   ]
  },
  {
   "cell_type": "code",
   "execution_count": 13,
   "id": "dba5c53d",
   "metadata": {},
   "outputs": [],
   "source": [
    "model_0 = multi_class_logistic_regression(n_class =4 , n_features = 22, initial = 'zero')"
   ]
  },
  {
   "cell_type": "code",
   "execution_count": 14,
   "id": "408a2896",
   "metadata": {},
   "outputs": [],
   "source": [
    "model_0.train(train_data, label, lr= 2e-3, max_iter = 1000, eps = 1e-8)"
   ]
  },
  {
   "cell_type": "code",
   "execution_count": 15,
   "id": "d0c44066",
   "metadata": {},
   "outputs": [
    {
     "data": {
      "text/plain": [
       "(22, 4)"
      ]
     },
     "execution_count": 15,
     "metadata": {},
     "output_type": "execute_result"
    }
   ],
   "source": [
    "model_0.w.shape"
   ]
  },
  {
   "cell_type": "code",
   "execution_count": 16,
   "id": "919be35a",
   "metadata": {},
   "outputs": [
    {
     "data": {
      "text/plain": [
       "0.949"
      ]
     },
     "execution_count": 16,
     "metadata": {},
     "output_type": "execute_result"
    }
   ],
   "source": [
    "model_0.accuracy(train_data, label)"
   ]
  },
  {
   "cell_type": "code",
   "execution_count": 17,
   "id": "c6f56707",
   "metadata": {},
   "outputs": [],
   "source": [
    "model_r = multi_class_logistic_regression(n_class =4 , n_features = 22, initial = 'random')"
   ]
  },
  {
   "cell_type": "code",
   "execution_count": 18,
   "id": "28767435",
   "metadata": {},
   "outputs": [],
   "source": [
    "model_r.train(train_data, label, lr= 2e-3, max_iter = 1000, eps = 1e-8)"
   ]
  },
  {
   "cell_type": "code",
   "execution_count": 19,
   "id": "6a18a9ad",
   "metadata": {},
   "outputs": [
    {
     "data": {
      "text/plain": [
       "(22, 4)"
      ]
     },
     "execution_count": 19,
     "metadata": {},
     "output_type": "execute_result"
    }
   ],
   "source": [
    "model_r.w.shape"
   ]
  },
  {
   "cell_type": "code",
   "execution_count": 20,
   "id": "dc5f9059",
   "metadata": {},
   "outputs": [
    {
     "data": {
      "text/plain": [
       "0.949"
      ]
     },
     "execution_count": 20,
     "metadata": {},
     "output_type": "execute_result"
    }
   ],
   "source": [
    "model_r.accuracy(train_data, label)"
   ]
  },
  {
   "cell_type": "markdown",
   "id": "2f58e6d7",
   "metadata": {},
   "source": [
    "### 1. Random initialization "
   ]
  },
  {
   "cell_type": "markdown",
   "id": "38c63410",
   "metadata": {},
   "source": [
    "# Loading Test Data "
   ]
  },
  {
   "cell_type": "code",
   "execution_count": 21,
   "id": "2e888333",
   "metadata": {},
   "outputs": [
    {
     "data": {
      "text/html": [
       "<div>\n",
       "<style scoped>\n",
       "    .dataframe tbody tr th:only-of-type {\n",
       "        vertical-align: middle;\n",
       "    }\n",
       "\n",
       "    .dataframe tbody tr th {\n",
       "        vertical-align: top;\n",
       "    }\n",
       "\n",
       "    .dataframe thead th {\n",
       "        text-align: right;\n",
       "    }\n",
       "</style>\n",
       "<table border=\"1\" class=\"dataframe\">\n",
       "  <thead>\n",
       "    <tr style=\"text-align: right;\">\n",
       "      <th></th>\n",
       "      <th>buying</th>\n",
       "      <th>maint</th>\n",
       "      <th>doors</th>\n",
       "      <th>persons</th>\n",
       "      <th>lug_boot</th>\n",
       "      <th>safety</th>\n",
       "      <th>label</th>\n",
       "    </tr>\n",
       "  </thead>\n",
       "  <tbody>\n",
       "    <tr>\n",
       "      <th>0</th>\n",
       "      <td>vhigh</td>\n",
       "      <td>high</td>\n",
       "      <td>5more</td>\n",
       "      <td>2</td>\n",
       "      <td>small</td>\n",
       "      <td>low</td>\n",
       "      <td>unacc</td>\n",
       "    </tr>\n",
       "    <tr>\n",
       "      <th>1</th>\n",
       "      <td>low</td>\n",
       "      <td>low</td>\n",
       "      <td>5more</td>\n",
       "      <td>2</td>\n",
       "      <td>small</td>\n",
       "      <td>med</td>\n",
       "      <td>unacc</td>\n",
       "    </tr>\n",
       "    <tr>\n",
       "      <th>2</th>\n",
       "      <td>low</td>\n",
       "      <td>vhigh</td>\n",
       "      <td>4</td>\n",
       "      <td>2</td>\n",
       "      <td>med</td>\n",
       "      <td>low</td>\n",
       "      <td>unacc</td>\n",
       "    </tr>\n",
       "    <tr>\n",
       "      <th>3</th>\n",
       "      <td>high</td>\n",
       "      <td>vhigh</td>\n",
       "      <td>3</td>\n",
       "      <td>4</td>\n",
       "      <td>med</td>\n",
       "      <td>med</td>\n",
       "      <td>unacc</td>\n",
       "    </tr>\n",
       "    <tr>\n",
       "      <th>4</th>\n",
       "      <td>vhigh</td>\n",
       "      <td>low</td>\n",
       "      <td>4</td>\n",
       "      <td>4</td>\n",
       "      <td>med</td>\n",
       "      <td>low</td>\n",
       "      <td>unacc</td>\n",
       "    </tr>\n",
       "  </tbody>\n",
       "</table>\n",
       "</div>"
      ],
      "text/plain": [
       "  buying  maint  doors persons lug_boot safety  label\n",
       "0  vhigh   high  5more       2    small    low  unacc\n",
       "1    low    low  5more       2    small    med  unacc\n",
       "2    low  vhigh      4       2      med    low  unacc\n",
       "3   high  vhigh      3       4      med    med  unacc\n",
       "4  vhigh    low      4       4      med    low  unacc"
      ]
     },
     "execution_count": 21,
     "metadata": {},
     "output_type": "execute_result"
    }
   ],
   "source": [
    "df_test = pd.read_csv(\"car/test.csv\", \n",
    "                 names = ['buying', 'maint', 'doors', 'persons', 'lug_boot', 'safety', 'label'])\n",
    "df_test.head()"
   ]
  },
  {
   "cell_type": "code",
   "execution_count": 22,
   "id": "b3074e79",
   "metadata": {},
   "outputs": [
    {
     "data": {
      "text/html": [
       "<div>\n",
       "<style scoped>\n",
       "    .dataframe tbody tr th:only-of-type {\n",
       "        vertical-align: middle;\n",
       "    }\n",
       "\n",
       "    .dataframe tbody tr th {\n",
       "        vertical-align: top;\n",
       "    }\n",
       "\n",
       "    .dataframe thead th {\n",
       "        text-align: right;\n",
       "    }\n",
       "</style>\n",
       "<table border=\"1\" class=\"dataframe\">\n",
       "  <thead>\n",
       "    <tr style=\"text-align: right;\">\n",
       "      <th></th>\n",
       "      <th>label</th>\n",
       "      <th>buying_high</th>\n",
       "      <th>buying_low</th>\n",
       "      <th>buying_med</th>\n",
       "      <th>buying_vhigh</th>\n",
       "      <th>maint_high</th>\n",
       "      <th>maint_low</th>\n",
       "      <th>maint_med</th>\n",
       "      <th>maint_vhigh</th>\n",
       "      <th>doors_2</th>\n",
       "      <th>...</th>\n",
       "      <th>doors_5more</th>\n",
       "      <th>persons_2</th>\n",
       "      <th>persons_4</th>\n",
       "      <th>persons_more</th>\n",
       "      <th>lug_boot_big</th>\n",
       "      <th>lug_boot_med</th>\n",
       "      <th>lug_boot_small</th>\n",
       "      <th>safety_high</th>\n",
       "      <th>safety_low</th>\n",
       "      <th>safety_med</th>\n",
       "    </tr>\n",
       "  </thead>\n",
       "  <tbody>\n",
       "    <tr>\n",
       "      <th>0</th>\n",
       "      <td>unacc</td>\n",
       "      <td>0</td>\n",
       "      <td>0</td>\n",
       "      <td>0</td>\n",
       "      <td>1</td>\n",
       "      <td>1</td>\n",
       "      <td>0</td>\n",
       "      <td>0</td>\n",
       "      <td>0</td>\n",
       "      <td>0</td>\n",
       "      <td>...</td>\n",
       "      <td>1</td>\n",
       "      <td>1</td>\n",
       "      <td>0</td>\n",
       "      <td>0</td>\n",
       "      <td>0</td>\n",
       "      <td>0</td>\n",
       "      <td>1</td>\n",
       "      <td>0</td>\n",
       "      <td>1</td>\n",
       "      <td>0</td>\n",
       "    </tr>\n",
       "    <tr>\n",
       "      <th>1</th>\n",
       "      <td>unacc</td>\n",
       "      <td>0</td>\n",
       "      <td>1</td>\n",
       "      <td>0</td>\n",
       "      <td>0</td>\n",
       "      <td>0</td>\n",
       "      <td>1</td>\n",
       "      <td>0</td>\n",
       "      <td>0</td>\n",
       "      <td>0</td>\n",
       "      <td>...</td>\n",
       "      <td>1</td>\n",
       "      <td>1</td>\n",
       "      <td>0</td>\n",
       "      <td>0</td>\n",
       "      <td>0</td>\n",
       "      <td>0</td>\n",
       "      <td>1</td>\n",
       "      <td>0</td>\n",
       "      <td>0</td>\n",
       "      <td>1</td>\n",
       "    </tr>\n",
       "    <tr>\n",
       "      <th>2</th>\n",
       "      <td>unacc</td>\n",
       "      <td>0</td>\n",
       "      <td>1</td>\n",
       "      <td>0</td>\n",
       "      <td>0</td>\n",
       "      <td>0</td>\n",
       "      <td>0</td>\n",
       "      <td>0</td>\n",
       "      <td>1</td>\n",
       "      <td>0</td>\n",
       "      <td>...</td>\n",
       "      <td>0</td>\n",
       "      <td>1</td>\n",
       "      <td>0</td>\n",
       "      <td>0</td>\n",
       "      <td>0</td>\n",
       "      <td>1</td>\n",
       "      <td>0</td>\n",
       "      <td>0</td>\n",
       "      <td>1</td>\n",
       "      <td>0</td>\n",
       "    </tr>\n",
       "    <tr>\n",
       "      <th>3</th>\n",
       "      <td>unacc</td>\n",
       "      <td>1</td>\n",
       "      <td>0</td>\n",
       "      <td>0</td>\n",
       "      <td>0</td>\n",
       "      <td>0</td>\n",
       "      <td>0</td>\n",
       "      <td>0</td>\n",
       "      <td>1</td>\n",
       "      <td>0</td>\n",
       "      <td>...</td>\n",
       "      <td>0</td>\n",
       "      <td>0</td>\n",
       "      <td>1</td>\n",
       "      <td>0</td>\n",
       "      <td>0</td>\n",
       "      <td>1</td>\n",
       "      <td>0</td>\n",
       "      <td>0</td>\n",
       "      <td>0</td>\n",
       "      <td>1</td>\n",
       "    </tr>\n",
       "    <tr>\n",
       "      <th>4</th>\n",
       "      <td>unacc</td>\n",
       "      <td>0</td>\n",
       "      <td>0</td>\n",
       "      <td>0</td>\n",
       "      <td>1</td>\n",
       "      <td>0</td>\n",
       "      <td>1</td>\n",
       "      <td>0</td>\n",
       "      <td>0</td>\n",
       "      <td>0</td>\n",
       "      <td>...</td>\n",
       "      <td>0</td>\n",
       "      <td>0</td>\n",
       "      <td>1</td>\n",
       "      <td>0</td>\n",
       "      <td>0</td>\n",
       "      <td>1</td>\n",
       "      <td>0</td>\n",
       "      <td>0</td>\n",
       "      <td>1</td>\n",
       "      <td>0</td>\n",
       "    </tr>\n",
       "  </tbody>\n",
       "</table>\n",
       "<p>5 rows × 22 columns</p>\n",
       "</div>"
      ],
      "text/plain": [
       "   label  buying_high  buying_low  buying_med  buying_vhigh  maint_high  \\\n",
       "0  unacc            0           0           0             1           1   \n",
       "1  unacc            0           1           0             0           0   \n",
       "2  unacc            0           1           0             0           0   \n",
       "3  unacc            1           0           0             0           0   \n",
       "4  unacc            0           0           0             1           0   \n",
       "\n",
       "   maint_low  maint_med  maint_vhigh  doors_2  ...  doors_5more  persons_2  \\\n",
       "0          0          0            0        0  ...            1          1   \n",
       "1          1          0            0        0  ...            1          1   \n",
       "2          0          0            1        0  ...            0          1   \n",
       "3          0          0            1        0  ...            0          0   \n",
       "4          1          0            0        0  ...            0          0   \n",
       "\n",
       "   persons_4  persons_more  lug_boot_big  lug_boot_med  lug_boot_small  \\\n",
       "0          0             0             0             0               1   \n",
       "1          0             0             0             0               1   \n",
       "2          0             0             0             1               0   \n",
       "3          1             0             0             1               0   \n",
       "4          1             0             0             1               0   \n",
       "\n",
       "   safety_high  safety_low  safety_med  \n",
       "0            0           1           0  \n",
       "1            0           0           1  \n",
       "2            0           1           0  \n",
       "3            0           0           1  \n",
       "4            0           1           0  \n",
       "\n",
       "[5 rows x 22 columns]"
      ]
     },
     "execution_count": 22,
     "metadata": {},
     "output_type": "execute_result"
    }
   ],
   "source": [
    "df_test_hot= pd.get_dummies(df_test, columns=['buying', 'maint', 'doors', 'persons', 'lug_boot', 'safety'])\n",
    "df_test_hot.head()"
   ]
  },
  {
   "cell_type": "code",
   "execution_count": 23,
   "id": "441e9c23",
   "metadata": {},
   "outputs": [],
   "source": [
    "df_test_hot_ready_to_use = df_test_hot.copy()"
   ]
  },
  {
   "cell_type": "code",
   "execution_count": 24,
   "id": "eb9993f5",
   "metadata": {},
   "outputs": [
    {
     "data": {
      "text/html": [
       "<div>\n",
       "<style scoped>\n",
       "    .dataframe tbody tr th:only-of-type {\n",
       "        vertical-align: middle;\n",
       "    }\n",
       "\n",
       "    .dataframe tbody tr th {\n",
       "        vertical-align: top;\n",
       "    }\n",
       "\n",
       "    .dataframe thead th {\n",
       "        text-align: right;\n",
       "    }\n",
       "</style>\n",
       "<table border=\"1\" class=\"dataframe\">\n",
       "  <thead>\n",
       "    <tr style=\"text-align: right;\">\n",
       "      <th></th>\n",
       "      <th>label</th>\n",
       "      <th>buying_high</th>\n",
       "      <th>buying_low</th>\n",
       "      <th>buying_med</th>\n",
       "      <th>buying_vhigh</th>\n",
       "      <th>maint_high</th>\n",
       "      <th>maint_low</th>\n",
       "      <th>maint_med</th>\n",
       "      <th>maint_vhigh</th>\n",
       "      <th>doors_2</th>\n",
       "      <th>...</th>\n",
       "      <th>doors_5more</th>\n",
       "      <th>persons_2</th>\n",
       "      <th>persons_4</th>\n",
       "      <th>persons_more</th>\n",
       "      <th>lug_boot_big</th>\n",
       "      <th>lug_boot_med</th>\n",
       "      <th>lug_boot_small</th>\n",
       "      <th>safety_high</th>\n",
       "      <th>safety_low</th>\n",
       "      <th>safety_med</th>\n",
       "    </tr>\n",
       "  </thead>\n",
       "  <tbody>\n",
       "    <tr>\n",
       "      <th>0</th>\n",
       "      <td>0</td>\n",
       "      <td>0</td>\n",
       "      <td>0</td>\n",
       "      <td>0</td>\n",
       "      <td>1</td>\n",
       "      <td>1</td>\n",
       "      <td>0</td>\n",
       "      <td>0</td>\n",
       "      <td>0</td>\n",
       "      <td>0</td>\n",
       "      <td>...</td>\n",
       "      <td>1</td>\n",
       "      <td>1</td>\n",
       "      <td>0</td>\n",
       "      <td>0</td>\n",
       "      <td>0</td>\n",
       "      <td>0</td>\n",
       "      <td>1</td>\n",
       "      <td>0</td>\n",
       "      <td>1</td>\n",
       "      <td>0</td>\n",
       "    </tr>\n",
       "    <tr>\n",
       "      <th>1</th>\n",
       "      <td>0</td>\n",
       "      <td>0</td>\n",
       "      <td>1</td>\n",
       "      <td>0</td>\n",
       "      <td>0</td>\n",
       "      <td>0</td>\n",
       "      <td>1</td>\n",
       "      <td>0</td>\n",
       "      <td>0</td>\n",
       "      <td>0</td>\n",
       "      <td>...</td>\n",
       "      <td>1</td>\n",
       "      <td>1</td>\n",
       "      <td>0</td>\n",
       "      <td>0</td>\n",
       "      <td>0</td>\n",
       "      <td>0</td>\n",
       "      <td>1</td>\n",
       "      <td>0</td>\n",
       "      <td>0</td>\n",
       "      <td>1</td>\n",
       "    </tr>\n",
       "    <tr>\n",
       "      <th>2</th>\n",
       "      <td>0</td>\n",
       "      <td>0</td>\n",
       "      <td>1</td>\n",
       "      <td>0</td>\n",
       "      <td>0</td>\n",
       "      <td>0</td>\n",
       "      <td>0</td>\n",
       "      <td>0</td>\n",
       "      <td>1</td>\n",
       "      <td>0</td>\n",
       "      <td>...</td>\n",
       "      <td>0</td>\n",
       "      <td>1</td>\n",
       "      <td>0</td>\n",
       "      <td>0</td>\n",
       "      <td>0</td>\n",
       "      <td>1</td>\n",
       "      <td>0</td>\n",
       "      <td>0</td>\n",
       "      <td>1</td>\n",
       "      <td>0</td>\n",
       "    </tr>\n",
       "    <tr>\n",
       "      <th>3</th>\n",
       "      <td>0</td>\n",
       "      <td>1</td>\n",
       "      <td>0</td>\n",
       "      <td>0</td>\n",
       "      <td>0</td>\n",
       "      <td>0</td>\n",
       "      <td>0</td>\n",
       "      <td>0</td>\n",
       "      <td>1</td>\n",
       "      <td>0</td>\n",
       "      <td>...</td>\n",
       "      <td>0</td>\n",
       "      <td>0</td>\n",
       "      <td>1</td>\n",
       "      <td>0</td>\n",
       "      <td>0</td>\n",
       "      <td>1</td>\n",
       "      <td>0</td>\n",
       "      <td>0</td>\n",
       "      <td>0</td>\n",
       "      <td>1</td>\n",
       "    </tr>\n",
       "    <tr>\n",
       "      <th>4</th>\n",
       "      <td>0</td>\n",
       "      <td>0</td>\n",
       "      <td>0</td>\n",
       "      <td>0</td>\n",
       "      <td>1</td>\n",
       "      <td>0</td>\n",
       "      <td>1</td>\n",
       "      <td>0</td>\n",
       "      <td>0</td>\n",
       "      <td>0</td>\n",
       "      <td>...</td>\n",
       "      <td>0</td>\n",
       "      <td>0</td>\n",
       "      <td>1</td>\n",
       "      <td>0</td>\n",
       "      <td>0</td>\n",
       "      <td>1</td>\n",
       "      <td>0</td>\n",
       "      <td>0</td>\n",
       "      <td>1</td>\n",
       "      <td>0</td>\n",
       "    </tr>\n",
       "  </tbody>\n",
       "</table>\n",
       "<p>5 rows × 22 columns</p>\n",
       "</div>"
      ],
      "text/plain": [
       "  label  buying_high  buying_low  buying_med  buying_vhigh  maint_high  \\\n",
       "0     0            0           0           0             1           1   \n",
       "1     0            0           1           0             0           0   \n",
       "2     0            0           1           0             0           0   \n",
       "3     0            1           0           0             0           0   \n",
       "4     0            0           0           0             1           0   \n",
       "\n",
       "   maint_low  maint_med  maint_vhigh  doors_2  ...  doors_5more  persons_2  \\\n",
       "0          0          0            0        0  ...            1          1   \n",
       "1          1          0            0        0  ...            1          1   \n",
       "2          0          0            1        0  ...            0          1   \n",
       "3          0          0            1        0  ...            0          0   \n",
       "4          1          0            0        0  ...            0          0   \n",
       "\n",
       "   persons_4  persons_more  lug_boot_big  lug_boot_med  lug_boot_small  \\\n",
       "0          0             0             0             0               1   \n",
       "1          0             0             0             0               1   \n",
       "2          0             0             0             1               0   \n",
       "3          1             0             0             1               0   \n",
       "4          1             0             0             1               0   \n",
       "\n",
       "   safety_high  safety_low  safety_med  \n",
       "0            0           1           0  \n",
       "1            0           0           1  \n",
       "2            0           1           0  \n",
       "3            0           0           1  \n",
       "4            0           1           0  \n",
       "\n",
       "[5 rows x 22 columns]"
      ]
     },
     "execution_count": 24,
     "metadata": {},
     "output_type": "execute_result"
    }
   ],
   "source": [
    "for i in range(len(Labels)):\n",
    "    df_test_hot_ready_to_use.loc[(df_test_hot_ready_to_use['label'] == Labels[i]), 'label'] = i\n",
    "df_test_hot_ready_to_use.head()"
   ]
  },
  {
   "cell_type": "code",
   "execution_count": 25,
   "id": "c8fe0df1",
   "metadata": {},
   "outputs": [
    {
     "data": {
      "text/plain": [
       "(728,)"
      ]
     },
     "execution_count": 25,
     "metadata": {},
     "output_type": "execute_result"
    }
   ],
   "source": [
    "label_test = df_test_hot_ready_to_use['label'].to_numpy(dtype = int)\n",
    "label_test.shape"
   ]
  },
  {
   "cell_type": "code",
   "execution_count": 26,
   "id": "d2dc6eee",
   "metadata": {},
   "outputs": [
    {
     "name": "stdout",
     "output_type": "stream",
     "text": [
      "(728, 21)\n"
     ]
    },
    {
     "data": {
      "text/plain": [
       "(728, 22)"
      ]
     },
     "execution_count": 26,
     "metadata": {},
     "output_type": "execute_result"
    }
   ],
   "source": [
    "test_data = df_test_hot_ready_to_use[columns].to_numpy(dtype = float)\n",
    "print(test_data.shape)\n",
    "test_data = np.hstack((np.ones((test_data.shape[0],1)), test_data))\n",
    "test_data.shape"
   ]
  },
  {
   "cell_type": "code",
   "execution_count": 27,
   "id": "fcb36832",
   "metadata": {},
   "outputs": [
    {
     "data": {
      "text/plain": [
       "0.9175824175824175"
      ]
     },
     "execution_count": 27,
     "metadata": {},
     "output_type": "execute_result"
    }
   ],
   "source": [
    "model_0.accuracy(test_data, label_test)"
   ]
  },
  {
   "cell_type": "code",
   "execution_count": 28,
   "id": "d5dafab7",
   "metadata": {},
   "outputs": [
    {
     "data": {
      "text/plain": [
       "0.9175824175824175"
      ]
     },
     "execution_count": 28,
     "metadata": {},
     "output_type": "execute_result"
    }
   ],
   "source": [
    "model_r.accuracy(test_data, label_test)"
   ]
  },
  {
   "cell_type": "markdown",
   "id": "a3f2ac98",
   "metadata": {},
   "source": [
    "# Using L-BFGS method"
   ]
  },
  {
   "cell_type": "code",
   "execution_count": 29,
   "id": "6a36586f",
   "metadata": {},
   "outputs": [],
   "source": [
    "def loss_grad(w, data, label, n_features = 22 , n_class = 4):\n",
    "    \n",
    "    N, _ = data.shape\n",
    "    W = w.reshape(n_features, n_class)\n",
    "    \n",
    "    scores = data @ W # (N, n_features)x(n_features, n_class) = (N, n_class)\n",
    "    softmax_prop = softmax(scores) # (N, n_class)\n",
    "\n",
    "            \n",
    "    corrected_scores = -np.log(softmax_prop[range(N), label])\n",
    "            \n",
    "    loss = corrected_scores.sum() + 1 * (W.T@ W).sum()\n",
    "            \n",
    "    grad = softmax_prop # (N x n_class)\n",
    "    grad[range(N), label] -= 1\n",
    "            \n",
    "    grad = data.T @ grad - 1/2 * W\n",
    "    return loss, grad.reshape(-1,)"
   ]
  },
  {
   "cell_type": "code",
   "execution_count": 30,
   "id": "84208a14",
   "metadata": {},
   "outputs": [],
   "source": [
    "loss = lambda w: loss_grad(w, train_data, label)[0]\n",
    "grad = lambda w: loss_grad(w, train_data, label)[1]"
   ]
  },
  {
   "cell_type": "markdown",
   "id": "f7f050b5",
   "metadata": {},
   "source": [
    "### Zero initialization"
   ]
  },
  {
   "cell_type": "code",
   "execution_count": 31,
   "id": "d2af01c5",
   "metadata": {},
   "outputs": [
    {
     "data": {
      "text/plain": [
       "(1000, 22)"
      ]
     },
     "execution_count": 31,
     "metadata": {},
     "output_type": "execute_result"
    }
   ],
   "source": [
    "w = np.zeros(22*4)\n",
    "train_data.shape"
   ]
  },
  {
   "cell_type": "code",
   "execution_count": 32,
   "id": "fd1f4ccd",
   "metadata": {},
   "outputs": [
    {
     "name": "stderr",
     "output_type": "stream",
     "text": [
      "/var/folders/0y/hx4crw9178xfvr_01vxxcmkh0000gn/T/ipykernel_13832/172314720.py:10: RuntimeWarning: divide by zero encountered in log\n",
      "  corrected_scores = -np.log(softmax_prop[range(N), label])\n"
     ]
    }
   ],
   "source": [
    "model3 = minimize(loss, w, method = 'L-BFGS-B', jac= grad, options={'disp': False})"
   ]
  },
  {
   "cell_type": "code",
   "execution_count": 33,
   "id": "a577d56f",
   "metadata": {},
   "outputs": [],
   "source": [
    "def accuracy(w ,x, y):\n",
    "    scores = x @ w # (N, n_n_features)x(n_features, n_class) = (N, n_class)\n",
    "    softmax_prop = softmax(scores)\n",
    "    y_pred = np.argmax(softmax_prop, axis = 1)\n",
    "    return (y_pred==y).mean()"
   ]
  },
  {
   "cell_type": "code",
   "execution_count": 34,
   "id": "1c3486e4",
   "metadata": {},
   "outputs": [
    {
     "data": {
      "text/plain": [
       "(22, 4)"
      ]
     },
     "execution_count": 34,
     "metadata": {},
     "output_type": "execute_result"
    }
   ],
   "source": [
    "w = model3.x.reshape(22,4)\n",
    "w.shape"
   ]
  },
  {
   "cell_type": "code",
   "execution_count": 35,
   "id": "0136c35e",
   "metadata": {},
   "outputs": [
    {
     "data": {
      "text/plain": [
       "0.928"
      ]
     },
     "execution_count": 35,
     "metadata": {},
     "output_type": "execute_result"
    }
   ],
   "source": [
    "accuracy(w ,train_data, label)"
   ]
  },
  {
   "cell_type": "code",
   "execution_count": 36,
   "id": "cda9db6d",
   "metadata": {},
   "outputs": [
    {
     "data": {
      "text/plain": [
       "0.907967032967033"
      ]
     },
     "execution_count": 36,
     "metadata": {},
     "output_type": "execute_result"
    }
   ],
   "source": [
    "accuracy(w ,test_data, label_test)"
   ]
  },
  {
   "cell_type": "markdown",
   "id": "16ce97f1",
   "metadata": {},
   "source": [
    "### Random Initialization"
   ]
  },
  {
   "cell_type": "code",
   "execution_count": 37,
   "id": "c3fe2cd9",
   "metadata": {},
   "outputs": [],
   "source": [
    "w = 1e-3*np.random.normal(loc=0.0, scale=1.0, size=22*4)"
   ]
  },
  {
   "cell_type": "code",
   "execution_count": 38,
   "id": "d70f23a4",
   "metadata": {},
   "outputs": [
    {
     "name": "stderr",
     "output_type": "stream",
     "text": [
      "/var/folders/0y/hx4crw9178xfvr_01vxxcmkh0000gn/T/ipykernel_13832/172314720.py:10: RuntimeWarning: divide by zero encountered in log\n",
      "  corrected_scores = -np.log(softmax_prop[range(N), label])\n"
     ]
    }
   ],
   "source": [
    "model3 = minimize(loss, w, method = 'L-BFGS-B', jac= grad, options={'disp': False})"
   ]
  },
  {
   "cell_type": "code",
   "execution_count": 39,
   "id": "3c17d4b6",
   "metadata": {},
   "outputs": [],
   "source": [
    "w_r = model3.x.reshape(22,4)"
   ]
  },
  {
   "cell_type": "code",
   "execution_count": 40,
   "id": "2c61b8ca",
   "metadata": {},
   "outputs": [
    {
     "data": {
      "text/plain": [
       "0.9010989010989011"
      ]
     },
     "execution_count": 40,
     "metadata": {},
     "output_type": "execute_result"
    }
   ],
   "source": [
    "accuracy(w_r ,test_data, label_test)"
   ]
  },
  {
   "cell_type": "markdown",
   "id": "4dac6452",
   "metadata": {},
   "source": [
    "# Ugly method "
   ]
  },
  {
   "cell_type": "code",
   "execution_count": 41,
   "id": "73a456e6",
   "metadata": {},
   "outputs": [],
   "source": [
    "label_ = df_hot['label'].to_numpy()\n",
    "#label_"
   ]
  },
  {
   "cell_type": "code",
   "execution_count": 42,
   "id": "2b3778c9",
   "metadata": {},
   "outputs": [],
   "source": [
    "def get_ugly_label(label, Labels = Labels):\n",
    "    label_ugly = {}\n",
    "    for value in Labels:\n",
    "        \n",
    "        temp_label = label.copy()\n",
    "        temp_label[label == value] = 1\n",
    "        temp_label[label != value] = 0\n",
    "        label_ugly[value] = temp_label.astype(int).copy()\n",
    "    \n",
    "    return  label_ugly"
   ]
  },
  {
   "cell_type": "code",
   "execution_count": 43,
   "id": "93241f73",
   "metadata": {},
   "outputs": [],
   "source": [
    "ugly_label = get_ugly_label(label_)"
   ]
  },
  {
   "cell_type": "code",
   "execution_count": 44,
   "id": "4636e62e",
   "metadata": {},
   "outputs": [
    {
     "data": {
      "text/plain": [
       "dict_keys(['unacc', 'acc', 'good', 'vgood'])"
      ]
     },
     "execution_count": 44,
     "metadata": {},
     "output_type": "execute_result"
    }
   ],
   "source": [
    "ugly_label.keys()"
   ]
  },
  {
   "cell_type": "code",
   "execution_count": 45,
   "id": "70a577ec",
   "metadata": {},
   "outputs": [],
   "source": [
    "def ugly_logistic_regression(data, label_dict, itital = 'zero'):\n",
    "    n_features = data.shape[1]\n",
    "    n_class = len(label_dict.keys())\n",
    "    W= np.zeros((n_features, n_class))\n",
    "    keys = list(label_dict.keys())\n",
    "    for i in range(len(keys)):\n",
    "        model = multi_class_logistic_regression(n_class =2 , n_features = 22, initial = itital)\n",
    "        model.train(data, label_dict[keys[i]])\n",
    "        W[:,i] = model.w[:,1]\n",
    "    return W"
   ]
  },
  {
   "cell_type": "markdown",
   "id": "bfb8c9b9",
   "metadata": {},
   "source": [
    "### Zero initialization"
   ]
  },
  {
   "cell_type": "code",
   "execution_count": 46,
   "id": "c40ebc08",
   "metadata": {},
   "outputs": [],
   "source": [
    "W = ugly_logistic_regression(train_data, ugly_label, itital = 'zero')"
   ]
  },
  {
   "cell_type": "code",
   "execution_count": 47,
   "id": "415afbeb",
   "metadata": {},
   "outputs": [],
   "source": [
    "def predict(W, data):\n",
    "    scores = data @ W\n",
    "    y_hat = np.argmax(scores, axis = 1)\n",
    "    return y_hat"
   ]
  },
  {
   "cell_type": "code",
   "execution_count": 48,
   "id": "6cfc445e",
   "metadata": {},
   "outputs": [
    {
     "data": {
      "text/plain": [
       "0.867"
      ]
     },
     "execution_count": 48,
     "metadata": {},
     "output_type": "execute_result"
    }
   ],
   "source": [
    "(label == predict(W, train_data)).mean()"
   ]
  },
  {
   "cell_type": "code",
   "execution_count": 49,
   "id": "2ab2eb33",
   "metadata": {},
   "outputs": [
    {
     "data": {
      "text/plain": [
       "0.853021978021978"
      ]
     },
     "execution_count": 49,
     "metadata": {},
     "output_type": "execute_result"
    }
   ],
   "source": [
    "(label_test == predict(W, test_data)).mean()"
   ]
  },
  {
   "cell_type": "markdown",
   "id": "7af832b8",
   "metadata": {},
   "source": [
    "### Random initialization"
   ]
  },
  {
   "cell_type": "code",
   "execution_count": 50,
   "id": "1691b0c5",
   "metadata": {},
   "outputs": [],
   "source": [
    "W = ugly_logistic_regression(train_data, ugly_label, itital = 'random')"
   ]
  },
  {
   "cell_type": "code",
   "execution_count": 51,
   "id": "8db4ed59",
   "metadata": {},
   "outputs": [
    {
     "data": {
      "text/plain": [
       "0.853021978021978"
      ]
     },
     "execution_count": 51,
     "metadata": {},
     "output_type": "execute_result"
    }
   ],
   "source": [
    "(label_test == predict(W, test_data)).mean()"
   ]
  },
  {
   "cell_type": "markdown",
   "id": "8fadbc18",
   "metadata": {},
   "source": [
    "## Ugly method via 'L-BFGS-B'"
   ]
  },
  {
   "cell_type": "code",
   "execution_count": 52,
   "id": "93259ff7",
   "metadata": {},
   "outputs": [],
   "source": [
    "def sigmoid(z):\n",
    "    return (z>=0) * 1/(1+np.exp(-z * (z>=0))) + (z<0)*np.exp(z*(z<0))/(1+np.exp(z*(z<0)))"
   ]
  },
  {
   "cell_type": "code",
   "execution_count": 53,
   "id": "e52612b2",
   "metadata": {},
   "outputs": [],
   "source": [
    "def loss_grad_ugly(w, data, label, n_features = 22 , n_class = 4):\n",
    "    eps = 1e-10\n",
    "    N, _ = data.shape\n",
    "    W = w.reshape(n_features, n_class)\n",
    "    \n",
    "    scores = data @ W # (N, n_features)x(n_features, n_class) = (N, n_class)\n",
    "    sigmoid_prop = sigmoid(scores) # (N, n_class)\n",
    "\n",
    "    mask = np.array([label == i for i in range(n_class)]).astype(int).T #(N, n_class)\n",
    "    \n",
    "    Y = -np.log(eps + mask*sigmoid_prop + (1-mask)*(1-sigmoid_prop)) # (N, n_class)\n",
    "    \n",
    "    grad = data.T @ (sigmoid_prop - mask) - 1/2 * W\n",
    "    \n",
    "    loss = np.sum(Y) + (W*W).sum()\n",
    "\n",
    "    return loss, grad"
   ]
  },
  {
   "cell_type": "code",
   "execution_count": 54,
   "id": "36841d02",
   "metadata": {},
   "outputs": [],
   "source": [
    "loss_ugly = lambda w: loss_grad_ugly(w, train_data, label)[0]\n",
    "grad_ugly = lambda w: loss_grad_ugly(w, train_data, label)[1].reshape(-1,)"
   ]
  },
  {
   "cell_type": "code",
   "execution_count": 55,
   "id": "157b2dc3",
   "metadata": {},
   "outputs": [
    {
     "data": {
      "text/plain": [
       "(1000, 22)"
      ]
     },
     "execution_count": 55,
     "metadata": {},
     "output_type": "execute_result"
    }
   ],
   "source": [
    "w = 1e-4*np.random.normal(loc=0.0, scale=1.0, size=22*4)\n",
    "train_data.shape"
   ]
  },
  {
   "cell_type": "code",
   "execution_count": 56,
   "id": "97302c30",
   "metadata": {},
   "outputs": [],
   "source": [
    "model_ugly = minimize(loss_ugly, w, method = 'L-BFGS-B', jac= grad_ugly, options={'disp': False})"
   ]
  },
  {
   "cell_type": "code",
   "execution_count": 57,
   "id": "118b1547",
   "metadata": {},
   "outputs": [],
   "source": [
    "w_ugly= model_ugly.x.reshape(22,4)"
   ]
  },
  {
   "cell_type": "code",
   "execution_count": 58,
   "id": "c2282186",
   "metadata": {},
   "outputs": [
    {
     "data": {
      "text/plain": [
       "0.868"
      ]
     },
     "execution_count": 58,
     "metadata": {},
     "output_type": "execute_result"
    }
   ],
   "source": [
    "(label == predict(w_ugly, train_data)).mean()"
   ]
  },
  {
   "cell_type": "code",
   "execution_count": 59,
   "id": "3d72b74f",
   "metadata": {},
   "outputs": [
    {
     "data": {
      "text/plain": [
       "0.8612637362637363"
      ]
     },
     "execution_count": 59,
     "metadata": {},
     "output_type": "execute_result"
    }
   ],
   "source": [
    "(label_test == predict(w_ugly, test_data)).mean()"
   ]
  },
  {
   "cell_type": "markdown",
   "id": "2200bd3f",
   "metadata": {},
   "source": [
    "### Check if the gradiant is implimented correctly"
   ]
  },
  {
   "cell_type": "code",
   "execution_count": 60,
   "id": "153f093c",
   "metadata": {},
   "outputs": [],
   "source": [
    "def num_grad(w, loss_function = loss):\n",
    "    l = []\n",
    "    n = len(w)\n",
    "    for i in range(n):\n",
    "        w_1 = w.copy()\n",
    "        w_2 = w.copy()\n",
    "        w_1[i] -= 1e-6\n",
    "        w_2[i] += 1e-6\n",
    "        l.append((loss_function(w_2) -loss_function(w_1))/2e-6)\n",
    "    return np.array(l)"
   ]
  },
  {
   "cell_type": "code",
   "execution_count": 61,
   "id": "98f1ddae",
   "metadata": {},
   "outputs": [
    {
     "data": {
      "text/plain": [
       "(array([-8.84955061e+01,  4.22682204e+02,  3.49597938e+02,  4.06486211e+02,\n",
       "        -2.23349912e+00,  1.06156695e+02,  8.67990852e+01,  1.12977756e+02,\n",
       "         4.04693992e-01,  1.05781904e+02,  5.81077936e+01,  9.97855711e+01,\n",
       "         4.26461156e-01,  8.27749918e+01,  8.59133102e+01,  8.64560611e+01,\n",
       "        -8.82621589e+01,  1.27252031e+02,  1.21012725e+02,  1.05013907e+02,\n",
       "        -4.34736378e+01,  8.71308587e+01,  1.02249000e+02,  1.05660434e+02,\n",
       "         9.79991455e-01,  9.86861357e+01,  4.92096210e+01,  5.93720908e+01,\n",
       "        -9.31538580e-02,  1.06987062e+02,  6.44716456e+01,  1.12076012e+02,\n",
       "        -4.38772126e+01,  1.28621914e+02,  1.34807345e+02,  1.30501694e+02,\n",
       "        -2.66694735e+01,  1.38787462e+02,  1.09575777e+02,  9.54654786e+01,\n",
       "        -6.19062862e+01,  1.07941044e+02,  8.72978578e+01,  1.10331501e+02,\n",
       "         4.14892838e-01,  1.06954211e+02,  8.25521925e+01,  1.22755074e+02,\n",
       "        -5.50580353e-01,  6.81569802e+01,  7.34464536e+01,  7.77835398e+01,\n",
       "        -1.50222714e+02,  2.23252802e+02,  1.45811978e+02,  1.88351094e+02,\n",
       "         6.02575581e+01,  5.85212699e+01,  5.37800620e+01,  8.68913849e+01,\n",
       "        -1.81251608e-01,  1.40063660e+02,  1.49027922e+02,  1.30037758e+02,\n",
       "        -3.16592816e+01,  1.76215955e+02,  8.21373756e+01,  1.05510508e+02,\n",
       "         3.14606118e+01,  5.15497582e+01,  1.13885963e+02,  1.65774993e+02,\n",
       "        -9.11980933e+01,  1.93690753e+02,  1.54003735e+02,  1.33039225e+02,\n",
       "         3.35571431e+01,  5.57577755e+01,  1.27638118e+02,  1.02532758e+02,\n",
       "        -1.31472280e+02,  2.12352708e+02,  1.27933968e+02,  1.64565909e+02,\n",
       "         8.65788866e+00,  1.56045608e+02,  9.46066796e+01,  1.41173457e+02]),\n",
       " array([-8.97032915e+01,  4.21577677e+02,  3.50801336e+02,  4.06337071e+02,\n",
       "        -3.59241110e+00,  1.05423403e+02,  8.70808313e+01,  1.13565141e+02,\n",
       "         7.14749525e-01,  1.05674379e+02,  5.81116456e+01,  9.98903969e+01,\n",
       "         5.69497202e-01,  8.33610158e+01,  8.52013003e+01,  8.73425385e+01,\n",
       "        -8.71028779e+01,  1.27298025e+02,  1.19848814e+02,  1.06102224e+02,\n",
       "        -4.39977297e+01,  8.82058217e+01,  1.02111660e+02,  1.05339515e+02,\n",
       "        -2.55450619e-02,  9.92498686e+01,  5.02040726e+01,  6.09141885e+01,\n",
       "        -9.82936275e-01,  1.06453497e+02,  6.52088925e+01,  1.10788374e+02,\n",
       "        -4.52049538e+01,  1.27982548e+02,  1.32991792e+02,  1.29013989e+02,\n",
       "        -2.72159813e+01,  1.37287259e+02,  1.08083587e+02,  9.59287684e+01,\n",
       "        -6.06058527e+01,  1.08154234e+02,  8.66443563e+01,  1.10176239e+02,\n",
       "        -2.34575009e-01,  1.06216130e+02,  8.20180419e+01,  1.21748372e+02,\n",
       "        -1.59289718e+00,  7.01306811e+01,  7.32367648e+01,  7.85213452e+01,\n",
       "        -1.49269586e+02,  2.22935645e+02,  1.46069212e+02,  1.87447926e+02,\n",
       "         5.92167776e+01,  6.04776894e+01,  5.66132820e+01,  8.87328610e+01,\n",
       "         7.62242228e-01,  1.38375461e+02,  1.48363336e+02,  1.30457778e+02,\n",
       "        -2.99083687e+01,  1.74581794e+02,  8.35657017e+01,  1.07037442e+02,\n",
       "         3.04440415e+01,  5.47272750e+01,  1.14047889e+02,  1.65495584e+02,\n",
       "        -8.95136498e+01,  1.92575043e+02,  1.53080461e+02,  1.34344417e+02,\n",
       "         3.36303129e+01,  5.66684192e+01,  1.27313874e+02,  1.02048473e+02,\n",
       "        -1.31536441e+02,  2.11358602e+02,  1.28132788e+02,  1.63085579e+02,\n",
       "         8.39327258e+00,  1.53182185e+02,  9.52094665e+01,  1.40756541e+02]))"
      ]
     },
     "execution_count": 61,
     "metadata": {},
     "output_type": "execute_result"
    }
   ],
   "source": [
    "w = np.random.normal(loc=0.0, scale=1.0, size=22*4)/np.sqrt(5)\n",
    "\n",
    "num_grad(w, loss_ugly), grad_ugly(w)"
   ]
  },
  {
   "cell_type": "code",
   "execution_count": null,
   "id": "8d19358a",
   "metadata": {},
   "outputs": [],
   "source": []
  },
  {
   "cell_type": "code",
   "execution_count": null,
   "id": "e542696b",
   "metadata": {},
   "outputs": [],
   "source": []
  }
 ],
 "metadata": {
  "kernelspec": {
   "display_name": "Python 3 (ipykernel)",
   "language": "python",
   "name": "python3"
  },
  "language_info": {
   "codemirror_mode": {
    "name": "ipython",
    "version": 3
   },
   "file_extension": ".py",
   "mimetype": "text/x-python",
   "name": "python",
   "nbconvert_exporter": "python",
   "pygments_lexer": "ipython3",
   "version": "3.9.7"
  }
 },
 "nbformat": 4,
 "nbformat_minor": 5
}
