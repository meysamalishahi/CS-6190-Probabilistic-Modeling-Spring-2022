{
 "cells": [
  {
   "cell_type": "code",
   "execution_count": 1,
   "id": "27800ce6",
   "metadata": {},
   "outputs": [],
   "source": [
    "import pandas as pd\n",
    "import numpy as np\n",
    "from scipy.optimize import minimize"
   ]
  },
  {
   "cell_type": "markdown",
   "id": "9c06f5c3",
   "metadata": {},
   "source": [
    "# Data loading and cleaning"
   ]
  },
  {
   "cell_type": "code",
   "execution_count": 2,
   "id": "f43f2a83",
   "metadata": {},
   "outputs": [
    {
     "name": "stdout",
     "output_type": "stream",
     "text": [
      "https://archive.ics.uci.edu/ml/datasets/banknote+authentication\n",
      "\n",
      "Data Set Information:\n",
      "\n",
      "Data were extracted from images that were taken from genuine and forged banknote-like specimens. For digitization, an industrial camera usually used for print inspection was used. The final images have 400x 400 pixels. Due to the object lens and distance to the investigated object gray-scale pictures with a resolution of about 660 dpi were gained. Wavelet Transform tool were used to extract features from images.\n",
      "\n",
      "\n",
      "We use 4 attributions (the first 4 columns)\n",
      "\n",
      "1. variance of Wavelet Transformed image (continuous) \n",
      "2. skewness of Wavelet Transformed image (continuous) \n",
      "3. curtosis of Wavelet Transformed image (continuous) \n",
      "4. entropy of image (continuous) \n",
      "\n",
      "The label is the last column: genuine or forged\n",
      "\n",
      "\n",
      "\n"
     ]
    }
   ],
   "source": [
    "f = open(\"bank-note/data-desc.txt\", \"r\")\n",
    "print(f.read())"
   ]
  },
  {
   "cell_type": "code",
   "execution_count": 3,
   "id": "6ef4aac0",
   "metadata": {},
   "outputs": [
    {
     "data": {
      "text/html": [
       "<div>\n",
       "<style scoped>\n",
       "    .dataframe tbody tr th:only-of-type {\n",
       "        vertical-align: middle;\n",
       "    }\n",
       "\n",
       "    .dataframe tbody tr th {\n",
       "        vertical-align: top;\n",
       "    }\n",
       "\n",
       "    .dataframe thead th {\n",
       "        text-align: right;\n",
       "    }\n",
       "</style>\n",
       "<table border=\"1\" class=\"dataframe\">\n",
       "  <thead>\n",
       "    <tr style=\"text-align: right;\">\n",
       "      <th></th>\n",
       "      <th>variance</th>\n",
       "      <th>skewness</th>\n",
       "      <th>curtosis</th>\n",
       "      <th>entropy</th>\n",
       "      <th>label</th>\n",
       "    </tr>\n",
       "  </thead>\n",
       "  <tbody>\n",
       "    <tr>\n",
       "      <th>0</th>\n",
       "      <td>3.848100</td>\n",
       "      <td>10.15390</td>\n",
       "      <td>-3.85610</td>\n",
       "      <td>-4.22280</td>\n",
       "      <td>0</td>\n",
       "    </tr>\n",
       "    <tr>\n",
       "      <th>1</th>\n",
       "      <td>4.004700</td>\n",
       "      <td>0.45937</td>\n",
       "      <td>1.36210</td>\n",
       "      <td>1.61810</td>\n",
       "      <td>0</td>\n",
       "    </tr>\n",
       "    <tr>\n",
       "      <th>2</th>\n",
       "      <td>-0.048008</td>\n",
       "      <td>-1.60370</td>\n",
       "      <td>8.47560</td>\n",
       "      <td>0.75558</td>\n",
       "      <td>0</td>\n",
       "    </tr>\n",
       "    <tr>\n",
       "      <th>3</th>\n",
       "      <td>-1.266700</td>\n",
       "      <td>2.81830</td>\n",
       "      <td>-2.42600</td>\n",
       "      <td>-1.88620</td>\n",
       "      <td>1</td>\n",
       "    </tr>\n",
       "    <tr>\n",
       "      <th>4</th>\n",
       "      <td>2.203400</td>\n",
       "      <td>5.99470</td>\n",
       "      <td>0.53009</td>\n",
       "      <td>0.84998</td>\n",
       "      <td>0</td>\n",
       "    </tr>\n",
       "  </tbody>\n",
       "</table>\n",
       "</div>"
      ],
      "text/plain": [
       "   variance  skewness  curtosis  entropy  label\n",
       "0  3.848100  10.15390  -3.85610 -4.22280      0\n",
       "1  4.004700   0.45937   1.36210  1.61810      0\n",
       "2 -0.048008  -1.60370   8.47560  0.75558      0\n",
       "3 -1.266700   2.81830  -2.42600 -1.88620      1\n",
       "4  2.203400   5.99470   0.53009  0.84998      0"
      ]
     },
     "execution_count": 3,
     "metadata": {},
     "output_type": "execute_result"
    }
   ],
   "source": [
    "df = pd.read_csv(\"bank-note/train.csv\", \n",
    "                 names = ['variance', 'skewness', 'curtosis', 'entropy', 'label'])\n",
    "df.head()"
   ]
  },
  {
   "cell_type": "code",
   "execution_count": 4,
   "id": "bc25d112",
   "metadata": {},
   "outputs": [
    {
     "data": {
      "text/plain": [
       "(872, 6)"
      ]
     },
     "execution_count": 4,
     "metadata": {},
     "output_type": "execute_result"
    }
   ],
   "source": [
    "data_t = np.genfromtxt(\"bank-note/train.csv\", dtype=float, delimiter=',')\n",
    "data_t = np.hstack((np.ones((data_t.shape[0],1)), data_t))\n",
    "data_t.shape"
   ]
  },
  {
   "cell_type": "code",
   "execution_count": 5,
   "id": "5b4ba0bc",
   "metadata": {},
   "outputs": [
    {
     "data": {
      "text/plain": [
       "((872, 5), (872,))"
      ]
     },
     "execution_count": 5,
     "metadata": {},
     "output_type": "execute_result"
    }
   ],
   "source": [
    "data_train = data_t[:,:-1]\n",
    "label_train = data_t[:,-1].astype(int)\n",
    "data_train.shape, label_train.shape"
   ]
  },
  {
   "cell_type": "code",
   "execution_count": 6,
   "id": "9a1af6d7",
   "metadata": {},
   "outputs": [
    {
     "data": {
      "text/plain": [
       "(500, 6)"
      ]
     },
     "execution_count": 6,
     "metadata": {},
     "output_type": "execute_result"
    }
   ],
   "source": [
    "data_test = np.genfromtxt(\"bank-note/test.csv\", dtype=float, delimiter=',')\n",
    "data_test = np.hstack((np.ones((data_test.shape[0],1)), data_test))\n",
    "data_test.shape"
   ]
  },
  {
   "cell_type": "code",
   "execution_count": 7,
   "id": "01d886ef",
   "metadata": {},
   "outputs": [
    {
     "data": {
      "text/plain": [
       "((500, 5), (500,))"
      ]
     },
     "execution_count": 7,
     "metadata": {},
     "output_type": "execute_result"
    }
   ],
   "source": [
    "test = data_test[:,:-1]\n",
    "label = data_test[:,-1].astype(int)\n",
    "test.shape, label.shape"
   ]
  },
  {
   "cell_type": "markdown",
   "id": "b27f8431",
   "metadata": {},
   "source": [
    "# Defining functions "
   ]
  },
  {
   "cell_type": "code",
   "execution_count": 8,
   "id": "596b68c8",
   "metadata": {},
   "outputs": [],
   "source": [
    "rg = 1 #prior scale"
   ]
  },
  {
   "cell_type": "code",
   "execution_count": 9,
   "id": "e430c1c6",
   "metadata": {},
   "outputs": [],
   "source": [
    "#sigmoid = lambda z : 1/(1+np.exp(-z)) \n",
    "def sigmoid(z):\n",
    "    mask = (z>=0).astype(int)\n",
    "    return mask/(1+np.exp(-mask*z)) + (1-mask) *np.exp((1-mask)*z)/(1+np.exp((1-mask)*z))\n",
    "    \n",
    "\n",
    "def neg_log_likelihood(w, data, label, rg = rg):\n",
    "    \"\"\"\n",
    "    w is (5,) vector\n",
    "    train is (n, 4) vector\n",
    "    label is (n,) vector\n",
    "    \n",
    "    \"\"\"\n",
    "    eps = 1e-10\n",
    "    s = sigmoid(data @ w)\n",
    "    mask = (label==1).astype(int)\n",
    "    y_hat = mask * np.log(s+eps) + (1-mask) * np.log(1-s+eps)\n",
    "    return - y_hat.sum() + .5 * rg * np.dot(w,w)\n",
    "\n",
    "\n",
    "def grad_neg_log_likelihood(w, data, label, rg = 1):\n",
    "    m = label.shape[0]\n",
    "    mask = (label==1).astype(int)\n",
    "    grad = (mask * (1 - sigmoid(data @ w)) - (1-mask) * sigmoid(data @ w)) @ data\n",
    "    return -grad + rg * w\n",
    "\n",
    "def Hessian_(w, data, label, rg = rg):\n",
    "    m, n = data.shape\n",
    "    HH = sigmoid(data @ w)*(1 - sigmoid(data @ w))\n",
    "    HH =  data.T @ (HH.reshape(-1,1)*data)\n",
    "    return HH + rg * np.eye(n)\n",
    "\n",
    "def accuracy(w, data, label, h = None):\n",
    "    if h is None:\n",
    "        h = sigmoid\n",
    "    y_hat = (h(data@w) >= 0.5).astype(int)\n",
    "    return (y_hat == label).mean()"
   ]
  },
  {
   "cell_type": "code",
   "execution_count": 10,
   "id": "84b8a685",
   "metadata": {},
   "outputs": [],
   "source": [
    "rg = 1\n",
    "grad = lambda w: grad_neg_log_likelihood(w, data_train, label_train, rg = rg)\n",
    "loss = lambda w: neg_log_likelihood(w, data_train, label_train, rg = rg)\n",
    "Hessian = lambda w : Hessian_(w, data_train, label_train, rg = rg)"
   ]
  },
  {
   "cell_type": "code",
   "execution_count": 11,
   "id": "35aa3bbe",
   "metadata": {},
   "outputs": [],
   "source": [
    "def num_grad(w, loss_function = loss):\n",
    "    l = []\n",
    "    for i in range(4):\n",
    "        w_1 = w.copy()\n",
    "        w_2 = w.copy()\n",
    "        w_1[i] -= 1e-6\n",
    "        w_2[i] += 1e-6\n",
    "        l.append((loss_function(w_2) -loss_function(w_1))/2e-6)\n",
    "    return np.array(l)"
   ]
  },
  {
   "cell_type": "code",
   "execution_count": 12,
   "id": "3f40a650",
   "metadata": {},
   "outputs": [],
   "source": [
    "def num_Hessian(w, grad_function = grad):\n",
    "    l = []\n",
    "    n = w.shape[0]\n",
    "    for i in range(n):\n",
    "        w_1 = w.copy()\n",
    "        w_2 = w.copy()\n",
    "        w_1[i] -= 1e-6\n",
    "        w_2[i] += 1e-6\n",
    "        l.append((grad_function(w_2) -grad_function(w_1))/2e-6)\n",
    "    return np.array(l)"
   ]
  },
  {
   "cell_type": "code",
   "execution_count": 13,
   "id": "a9a9995e",
   "metadata": {},
   "outputs": [],
   "source": [
    "def Newton_Raphson(w, grad=grad, Hessian = Hessian, max_it = 100, tolerance = 1e-5, unit_disck = False):\n",
    "    c = 0\n",
    "    eps = 1e-10\n",
    "    while True:\n",
    "        w_old = w.copy()\n",
    "        w = w - np.linalg.inv(Hessian(w)+ eps*np.eye(w.shape[0]))@grad(w)\n",
    "        \n",
    "        if unit_disck and np.linalg.norm(w)>1:\n",
    "            w = w/np.linalg.norm(w)\n",
    "            \n",
    "        c += 1\n",
    "        if c >= max_it or np.linalg.norm(w_old - w) < tolerance:\n",
    "            return w , c    "
   ]
  },
  {
   "cell_type": "markdown",
   "id": "0ebb358a",
   "metadata": {},
   "source": [
    "## check if the Hessian is implimented correctly"
   ]
  },
  {
   "cell_type": "code",
   "execution_count": 14,
   "id": "9b2d79d4",
   "metadata": {},
   "outputs": [
    {
     "data": {
      "text/plain": [
       "array([[  36.06574604,   -2.12106636,   -2.54285214,   52.5418622 ,\n",
       "         -25.61763969],\n",
       "       [  -2.12106646,  219.12390355, -239.16958253,  125.36382314,\n",
       "          89.32705785],\n",
       "       [  -2.54285189, -239.16958207,  319.0960042 , -224.73712971,\n",
       "         -98.11838768],\n",
       "       [  52.5418622 ,  125.36382314, -224.73712943,  443.83065335,\n",
       "          19.71979327],\n",
       "       [ -25.61763969,   89.32705782,  -98.11838754,   19.71979333,\n",
       "         104.40391429]])"
      ]
     },
     "execution_count": 14,
     "metadata": {},
     "output_type": "execute_result"
    }
   ],
   "source": [
    "w_0 = np.random.normal(loc=0.0, scale=1.0, size=5)\n",
    "num_Hessian(w_0, grad_function = grad)"
   ]
  },
  {
   "cell_type": "code",
   "execution_count": 15,
   "id": "9702d493",
   "metadata": {},
   "outputs": [
    {
     "data": {
      "text/plain": [
       "array([[  36.06574608,   -2.12106646,   -2.54285188,   52.54186219,\n",
       "         -25.61763969],\n",
       "       [  -2.12106646,  219.12390339, -239.1695821 ,  125.36382315,\n",
       "          89.32705789],\n",
       "       [  -2.54285188, -239.1695821 ,  319.09600461, -224.73712973,\n",
       "         -98.11838764],\n",
       "       [  52.54186219,  125.36382315, -224.73712973,  443.83065318,\n",
       "          19.71979332],\n",
       "       [ -25.61763969,   89.32705789,  -98.11838764,   19.71979332,\n",
       "         104.40391434]])"
      ]
     },
     "execution_count": 15,
     "metadata": {},
     "output_type": "execute_result"
    }
   ],
   "source": [
    "Hessian(w_0)"
   ]
  },
  {
   "cell_type": "markdown",
   "id": "e2975ec4",
   "metadata": {},
   "source": [
    "# Training using  Newton Raphson Method"
   ]
  },
  {
   "cell_type": "markdown",
   "id": "02fed2da",
   "metadata": {},
   "source": [
    "## 1. set all the weights to be zero"
   ]
  },
  {
   "cell_type": "code",
   "execution_count": 16,
   "id": "19908a4a",
   "metadata": {},
   "outputs": [
    {
     "data": {
      "text/plain": [
       "(array([ 2.85594015, -2.69321743, -1.59105632, -1.89926156, -0.17689773]), 10)"
      ]
     },
     "execution_count": 16,
     "metadata": {},
     "output_type": "execute_result"
    }
   ],
   "source": [
    "w = np.zeros(5)\n",
    "w_MAP, c_ = Newton_Raphson(w.copy())\n",
    "w_MAP, c_"
   ]
  },
  {
   "cell_type": "code",
   "execution_count": 17,
   "id": "dd5159eb",
   "metadata": {},
   "outputs": [
    {
     "data": {
      "text/plain": [
       "(0.9908256880733946, 0.99)"
      ]
     },
     "execution_count": 17,
     "metadata": {},
     "output_type": "execute_result"
    }
   ],
   "source": [
    "accuracy(w_MAP, data_train, label_train), accuracy(w_MAP, test, label)"
   ]
  },
  {
   "cell_type": "code",
   "execution_count": 18,
   "id": "b7bb2792",
   "metadata": {},
   "outputs": [
    {
     "data": {
      "text/plain": [
       "(604.4243412738722, 34.900646722038424)"
      ]
     },
     "execution_count": 18,
     "metadata": {},
     "output_type": "execute_result"
    }
   ],
   "source": [
    "loss(w), loss(w_MAP)"
   ]
  },
  {
   "cell_type": "markdown",
   "id": "1ea37547",
   "metadata": {},
   "source": [
    "## 2. random initialization"
   ]
  },
  {
   "cell_type": "code",
   "execution_count": 19,
   "id": "ddc801cc",
   "metadata": {},
   "outputs": [
    {
     "data": {
      "text/plain": [
       "(array([ -112.00280204,  -947.3944766 , -3283.84446633,  1427.65680292,\n",
       "          613.46207925]),\n",
       " 100)"
      ]
     },
     "execution_count": 19,
     "metadata": {},
     "output_type": "execute_result"
    }
   ],
   "source": [
    "#np.random.seed(19)\n",
    "w = 1*np.random.normal(loc=0.0, scale=1.0, size=5)\n",
    "w_MAP, c_ = Newton_Raphson(w.copy())\n",
    "w_MAP, c_"
   ]
  },
  {
   "cell_type": "code",
   "execution_count": 20,
   "id": "3c4dbdaf",
   "metadata": {},
   "outputs": [
    {
     "data": {
      "text/plain": [
       "(0.6364678899082569, 0.634)"
      ]
     },
     "execution_count": 20,
     "metadata": {},
     "output_type": "execute_result"
    }
   ],
   "source": [
    "accuracy(w_MAP, data_train, label_train), accuracy(w_MAP, test, label)"
   ]
  },
  {
   "cell_type": "markdown",
   "id": "5b939378",
   "metadata": {},
   "source": [
    "### 3. Initiate w randomly near to zero"
   ]
  },
  {
   "cell_type": "code",
   "execution_count": 21,
   "id": "920659f1",
   "metadata": {},
   "outputs": [
    {
     "data": {
      "text/plain": [
       "(array([ 0.81996897, -0.43668681, -0.22649189, -0.29186132,  0.02176976]), 11)"
      ]
     },
     "execution_count": 21,
     "metadata": {},
     "output_type": "execute_result"
    }
   ],
   "source": [
    "w = 1e-5*np.random.normal(loc=0.0, scale=1.0, size=5)\n",
    "w_MAP, c_ = Newton_Raphson(w.copy(), unit_disck = True)\n",
    "w_MAP, c_"
   ]
  },
  {
   "cell_type": "code",
   "execution_count": 22,
   "id": "226f8f64",
   "metadata": {},
   "outputs": [
    {
     "data": {
      "text/plain": [
       "(0.9827981651376146, 0.984)"
      ]
     },
     "execution_count": 22,
     "metadata": {},
     "output_type": "execute_result"
    }
   ],
   "source": [
    "accuracy(w_MAP, data_train, label_train), accuracy(w_MAP, test, label)"
   ]
  },
  {
   "cell_type": "markdown",
   "id": "fdbdaaf1",
   "metadata": {},
   "source": [
    "### 4. Finding $w$ only in Unit Ball!!"
   ]
  },
  {
   "cell_type": "code",
   "execution_count": 23,
   "id": "33495e12",
   "metadata": {},
   "outputs": [
    {
     "data": {
      "text/plain": [
       "(array([ 0.81996649, -0.43668688, -0.22649644, -0.29186447,  0.02177198]), 16)"
      ]
     },
     "execution_count": 23,
     "metadata": {},
     "output_type": "execute_result"
    }
   ],
   "source": [
    "w = np.random.normal(loc=0.0, scale=1.0, size=5)\n",
    "w_MAP, c_ = Newton_Raphson(w.copy(), unit_disck = True)\n",
    "w_MAP, c_"
   ]
  },
  {
   "cell_type": "code",
   "execution_count": 24,
   "id": "77015651",
   "metadata": {},
   "outputs": [
    {
     "data": {
      "text/plain": [
       "(0.9827981651376146, 0.984)"
      ]
     },
     "execution_count": 24,
     "metadata": {},
     "output_type": "execute_result"
    }
   ],
   "source": [
    "accuracy(w_MAP, data_train, label_train), accuracy(w_MAP, test, label)"
   ]
  },
  {
   "cell_type": "markdown",
   "id": "cb60d8a0",
   "metadata": {},
   "source": [
    "# Training using scipy.optimize"
   ]
  },
  {
   "cell_type": "code",
   "execution_count": 25,
   "id": "19bfe926",
   "metadata": {},
   "outputs": [],
   "source": [
    "w = 1e-5* np.random.normal(loc=0.0, scale=1.0, size=5)\n",
    "r = minimize(loss, w, method = 'L-BFGS-B', jac= grad, options={'disp': False, 'maxiter': 100}, tol= 1e-5)"
   ]
  },
  {
   "cell_type": "code",
   "execution_count": 26,
   "id": "551cfb2e",
   "metadata": {},
   "outputs": [
    {
     "data": {
      "text/plain": [
       "array([ 2.85591159, -2.69301687, -1.59109426, -1.89922607, -0.17701738])"
      ]
     },
     "execution_count": 26,
     "metadata": {},
     "output_type": "execute_result"
    }
   ],
   "source": [
    "r.x"
   ]
  },
  {
   "cell_type": "code",
   "execution_count": 27,
   "id": "f5e2f791",
   "metadata": {},
   "outputs": [
    {
     "data": {
      "text/plain": [
       "(0.9908256880733946, 0.99)"
      ]
     },
     "execution_count": 27,
     "metadata": {},
     "output_type": "execute_result"
    }
   ],
   "source": [
    "accuracy(r.x, data_train, label_train), accuracy(r.x, test, label)"
   ]
  },
  {
   "cell_type": "code",
   "execution_count": 28,
   "id": "3b370282",
   "metadata": {},
   "outputs": [
    {
     "name": "stdout",
     "output_type": "stream",
     "text": [
      "Optimization terminated successfully.\n",
      "         Current function value: 34.900647\n",
      "         Iterations: 34\n",
      "         Function evaluations: 37\n",
      "         Gradient evaluations: 37\n"
     ]
    }
   ],
   "source": [
    "w_0 = 1e-5*np.random.normal(loc=0.0, scale=1.0, size=5)\n",
    "model =  minimize(loss, w_0, jac= grad, method='BFGS', tol= 1e-5, options={'disp': True, 'maxiter': 100})"
   ]
  },
  {
   "cell_type": "code",
   "execution_count": 29,
   "id": "78d8eb71",
   "metadata": {},
   "outputs": [
    {
     "data": {
      "text/plain": [
       "array([ 2.85594009, -2.69321744, -1.59105633, -1.89926156, -0.17689774])"
      ]
     },
     "execution_count": 29,
     "metadata": {},
     "output_type": "execute_result"
    }
   ],
   "source": [
    "model.x"
   ]
  },
  {
   "cell_type": "code",
   "execution_count": 30,
   "id": "80b653b7",
   "metadata": {},
   "outputs": [
    {
     "data": {
      "text/plain": [
       "(0.9908256880733946, 0.99)"
      ]
     },
     "execution_count": 30,
     "metadata": {},
     "output_type": "execute_result"
    }
   ],
   "source": [
    "accuracy(model.x, data_train, label_train), accuracy(r.x, test, label)"
   ]
  },
  {
   "cell_type": "markdown",
   "id": "b0b47b3b",
   "metadata": {},
   "source": [
    "# (b) Implement MAP estimation algorithm for Probit regression model"
   ]
  },
  {
   "cell_type": "code",
   "execution_count": 31,
   "id": "20d5a0d7",
   "metadata": {},
   "outputs": [],
   "source": [
    "from scipy.stats import norm"
   ]
  },
  {
   "cell_type": "code",
   "execution_count": 32,
   "id": "409f324a",
   "metadata": {},
   "outputs": [],
   "source": [
    "def NLL_Probit_loss(w, data, label, rg = 1):\n",
    "    s = norm.cdf(data@w)\n",
    "    mask = (label==1).astype(int)\n",
    "    y_hat = mask * np.log(s+1e-10) + (1-mask) * np.log(1-s+1e-10)\n",
    "    return - y_hat.sum() + .5 * rg * np.dot(w,w)"
   ]
  },
  {
   "cell_type": "code",
   "execution_count": 33,
   "id": "b5ff2597",
   "metadata": {},
   "outputs": [],
   "source": [
    "eps = 1e-10\n",
    "def grad_NLL_Probit_loss(w, data, label, rg = 1):\n",
    "    s = norm.pdf(data@w)\n",
    "    ss = norm.cdf(data@w)\n",
    "    mask = (label==1).astype(int)\n",
    "    grad = ((-mask/(eps+ss) + (1-mask)/(eps+1-ss)) * s) @ data\n",
    "    return grad + rg * w"
   ]
  },
  {
   "cell_type": "code",
   "execution_count": 34,
   "id": "861302c4",
   "metadata": {},
   "outputs": [],
   "source": [
    "Probit_loss = lambda w: NLL_Probit_loss(w, data_train, label_train, rg = 1)\n",
    "grad_Probit = lambda w: grad_NLL_Probit_loss(w, data_train, label_train, rg = 1)"
   ]
  },
  {
   "cell_type": "markdown",
   "id": "2de2800e",
   "metadata": {},
   "source": [
    "# Using BFGS method"
   ]
  },
  {
   "cell_type": "markdown",
   "id": "f6be97a4",
   "metadata": {},
   "source": [
    "### 1. set all the weights to be zero"
   ]
  },
  {
   "cell_type": "code",
   "execution_count": 35,
   "id": "63066e1a",
   "metadata": {},
   "outputs": [
    {
     "name": "stdout",
     "output_type": "stream",
     "text": [
      "Optimization terminated successfully.\n",
      "         Current function value: 25.111541\n",
      "         Iterations: 38\n",
      "         Function evaluations: 41\n",
      "         Gradient evaluations: 41\n"
     ]
    }
   ],
   "source": [
    "w_0 = np.zeros(5)\n",
    "model_0 = minimize(Probit_loss, w_0, method='BFGS', jac =grad_Probit, \n",
    "                   tol= 1e-6, options={'disp': True, 'maxiter': 100})"
   ]
  },
  {
   "cell_type": "code",
   "execution_count": 36,
   "id": "1032c338",
   "metadata": {},
   "outputs": [
    {
     "data": {
      "text/plain": [
       "array([ 2.0787747 , -2.01663088, -1.18786756, -1.43311194, -0.13853574])"
      ]
     },
     "execution_count": 36,
     "metadata": {},
     "output_type": "execute_result"
    }
   ],
   "source": [
    "model_0.x"
   ]
  },
  {
   "cell_type": "code",
   "execution_count": 37,
   "id": "b0f1fa9a",
   "metadata": {},
   "outputs": [
    {
     "data": {
      "text/plain": [
       "(0.9908256880733946, 0.988)"
      ]
     },
     "execution_count": 37,
     "metadata": {},
     "output_type": "execute_result"
    }
   ],
   "source": [
    "accuracy(model_0.x, data_train, label_train, h=norm.cdf), accuracy(model_0.x, test, label, h=norm.cdf)"
   ]
  },
  {
   "cell_type": "markdown",
   "id": "c21cfb90",
   "metadata": {},
   "source": [
    "### 2. random initialization"
   ]
  },
  {
   "cell_type": "code",
   "execution_count": 38,
   "id": "bc97dca8",
   "metadata": {},
   "outputs": [
    {
     "name": "stdout",
     "output_type": "stream",
     "text": [
      "Optimization terminated successfully.\n",
      "         Current function value: 25.111541\n",
      "         Iterations: 35\n",
      "         Function evaluations: 38\n",
      "         Gradient evaluations: 38\n"
     ]
    }
   ],
   "source": [
    "w_0 = np.random.normal(loc=0.0, scale=1.0, size=5)\n",
    "model_p = minimize(Probit_loss, w_0, method='BFGS', jac =grad_Probit, tol= 1e-5, options={'disp': True, 'maxiter': 100})"
   ]
  },
  {
   "cell_type": "code",
   "execution_count": 39,
   "id": "ccb2f25b",
   "metadata": {},
   "outputs": [
    {
     "data": {
      "text/plain": [
       "array([ 2.07877472, -2.01663087, -1.18786756, -1.43311195, -0.13853576])"
      ]
     },
     "execution_count": 39,
     "metadata": {},
     "output_type": "execute_result"
    }
   ],
   "source": [
    "model_p.x"
   ]
  },
  {
   "cell_type": "code",
   "execution_count": 40,
   "id": "310c07ab",
   "metadata": {},
   "outputs": [
    {
     "data": {
      "text/plain": [
       "(0.9908256880733946, 0.988)"
      ]
     },
     "execution_count": 40,
     "metadata": {},
     "output_type": "execute_result"
    }
   ],
   "source": [
    "accuracy(model_p.x, data_train, label_train, h=norm.cdf), accuracy(model_p.x, test, label, h=norm.cdf)"
   ]
  },
  {
   "cell_type": "markdown",
   "id": "a445bd60",
   "metadata": {},
   "source": [
    "# (c) Using Newton Raphson Method"
   ]
  },
  {
   "cell_type": "code",
   "execution_count": 41,
   "id": "cd86d6d1",
   "metadata": {},
   "outputs": [],
   "source": [
    "def Hessian_NLL_Probit_loss(w, data, label, rg = 1):\n",
    "    eps = 1e-6\n",
    "    score = data @ w\n",
    "    s_1 = norm.pdf(score)\n",
    "    y = norm.cdf(data @ w)\n",
    "    \n",
    "    term_1 = (label/((y+eps)**2) + (1-label)/(1-y+eps)**2) * (s_1**2)\n",
    "    term_2 = (y - label)/((y+eps)*(1-y+eps)) * s_1 * score\n",
    "    \n",
    "    return data.T@ ((term_1+term_2).reshape(-1,1) * data) + np.eye(data.shape[1])"
   ]
  },
  {
   "cell_type": "code",
   "execution_count": 42,
   "id": "73280d4a",
   "metadata": {},
   "outputs": [],
   "source": [
    "def Hessian_NLL_Probit_loss_new(w, data, label, rg = 1): # More numerically stable implementation \n",
    "    eps = 1e-12\n",
    "    score = data @ w\n",
    "    s_1 = norm.pdf(score)\n",
    "    y = np.zeros(s_1.shape)\n",
    "    y[s_1>=0] = 1- norm.cdf(-score[s_1>=0])\n",
    "    y[s_1<0] = norm.cdf(score[s_1<0])\n",
    "    \n",
    "    term_1 = np.zeros(s_1.shape)\n",
    "    term_1[label == 1] = 1/(y[label == 1]+eps)**2\n",
    "    term_1[label == 0] = 1/(1-y[label == 0]+eps)**2\n",
    "    term_1 = term_1 * (s_1**2)\n",
    "    \n",
    "    \n",
    "    term_2 = np.zeros(s_1.shape)\n",
    "    term_2[label == 1] = 1/(y[label == 1]+eps)\n",
    "    term_2[label == 0] = -1/(1-y[label == 0]+eps)\n",
    "    \n",
    "    term_2 = term_2 * s_1 * score\n",
    "    \n",
    "    return data.T@ ((term_1+term_2).reshape(-1,1) * data) + np.eye(data.shape[1])"
   ]
  },
  {
   "cell_type": "code",
   "execution_count": 43,
   "id": "7182f3fa",
   "metadata": {},
   "outputs": [],
   "source": [
    "Hessian_NLL = lambda w: Hessian_NLL_Probit_loss_new(w, data_train, label_train, rg = 1)"
   ]
  },
  {
   "cell_type": "code",
   "execution_count": 44,
   "id": "9b6c5bfb",
   "metadata": {},
   "outputs": [
    {
     "data": {
      "text/plain": [
       "0.0"
      ]
     },
     "execution_count": 44,
     "metadata": {},
     "output_type": "execute_result"
    }
   ],
   "source": [
    "w_1 = np.zeros(5)\n",
    "y = norm.cdf(-40)\n",
    "y"
   ]
  },
  {
   "cell_type": "code",
   "execution_count": 45,
   "id": "feb9d98a",
   "metadata": {},
   "outputs": [
    {
     "data": {
      "text/plain": [
       "array([[  557.02490148,   255.75643042,  1080.60236096,   737.50059716,\n",
       "         -649.33056046],\n",
       "       [  255.75643042,  4420.61233036,  2983.64907329, -2157.75278719,\n",
       "          504.84464663],\n",
       "       [ 1080.60236096,  2983.64907329, 20852.66627844, -9318.5950864 ,\n",
       "        -4721.96316601],\n",
       "       [  737.50059716, -2157.75278719, -9318.5950864 , 11060.63241168,\n",
       "          681.72658334],\n",
       "       [ -649.33056046,   504.84464663, -4721.96316601,   681.72658334,\n",
       "         3094.09619535]])"
      ]
     },
     "execution_count": 45,
     "metadata": {},
     "output_type": "execute_result"
    }
   ],
   "source": [
    "w_0 = 1e-3*np.random.normal(loc=0.0, scale=1.0, size=5)\n",
    "H_1 = Hessian_NLL(w_0)\n",
    "H_1"
   ]
  },
  {
   "cell_type": "code",
   "execution_count": 46,
   "id": "7951d7b9",
   "metadata": {},
   "outputs": [
    {
     "data": {
      "text/plain": [
       "array([[  557.02490126,   255.75643031,  1080.60236062,   737.50059681,\n",
       "         -649.3305602 ],\n",
       "       [  255.75643033,  4420.61232866,  2983.64907201, -2157.7527863 ,\n",
       "          504.84464643],\n",
       "       [ 1080.60236054,  2983.64907201, 20852.66627023, -9318.59508259,\n",
       "        -4721.96316414],\n",
       "       [  737.50059686, -2157.75278639, -9318.59508285, 11060.63240718,\n",
       "          681.72658307],\n",
       "       [ -649.33056019,   504.84464623, -4721.963164  ,   681.72658303,\n",
       "         3094.0961941 ]])"
      ]
     },
     "execution_count": 46,
     "metadata": {},
     "output_type": "execute_result"
    }
   ],
   "source": [
    "H_2 = num_Hessian(w_0, grad_function = grad_Probit)\n",
    "H_2"
   ]
  },
  {
   "cell_type": "markdown",
   "id": "e4ccf180",
   "metadata": {},
   "source": [
    "### Initilizing with random weights "
   ]
  },
  {
   "cell_type": "code",
   "execution_count": 47,
   "id": "46ccb5ad",
   "metadata": {},
   "outputs": [
    {
     "data": {
      "text/plain": [
       "((5,), 11)"
      ]
     },
     "execution_count": 47,
     "metadata": {},
     "output_type": "execute_result"
    }
   ],
   "source": [
    "w_0 = 1e-3*np.random.normal(loc=0.0, scale=1.0, size=5)\n",
    "w_pp, c = Newton_Raphson(w_0, grad=grad_Probit, Hessian = Hessian_NLL, max_it = 100, tolerance = 1e-5)\n",
    "w_pp.shape, c"
   ]
  },
  {
   "cell_type": "code",
   "execution_count": 48,
   "id": "b849da2d",
   "metadata": {},
   "outputs": [
    {
     "data": {
      "text/plain": [
       "(0.9908256880733946, 0.988)"
      ]
     },
     "execution_count": 48,
     "metadata": {},
     "output_type": "execute_result"
    }
   ],
   "source": [
    "accuracy(w_pp, data_train, label_train, h=norm.cdf), accuracy(w_pp, test, label, h=norm.cdf)"
   ]
  },
  {
   "cell_type": "code",
   "execution_count": 49,
   "id": "fe5fda51",
   "metadata": {},
   "outputs": [
    {
     "data": {
      "text/plain": [
       "(array([ 2.0787747 , -2.01663088, -1.18786756, -1.43311194, -0.13853574]),\n",
       " array([ 2.07877472, -2.01663087, -1.18786756, -1.43311195, -0.13853576]))"
      ]
     },
     "execution_count": 49,
     "metadata": {},
     "output_type": "execute_result"
    }
   ],
   "source": [
    "w_pp, model_p.x"
   ]
  },
  {
   "cell_type": "markdown",
   "id": "06db5737",
   "metadata": {},
   "source": [
    "### Initilizing with zero weights "
   ]
  },
  {
   "cell_type": "code",
   "execution_count": 50,
   "id": "c42f97cb",
   "metadata": {},
   "outputs": [
    {
     "data": {
      "text/plain": [
       "((5,), 11)"
      ]
     },
     "execution_count": 50,
     "metadata": {},
     "output_type": "execute_result"
    }
   ],
   "source": [
    "w_0 = np.zeros(5)\n",
    "w_pp, c = Newton_Raphson(w_0, grad=grad_Probit, Hessian = Hessian_NLL, max_it = 100, tolerance = 1e-5)\n",
    "w_pp.shape, c"
   ]
  },
  {
   "cell_type": "code",
   "execution_count": 51,
   "id": "f18916ad",
   "metadata": {},
   "outputs": [
    {
     "data": {
      "text/plain": [
       "(0.9908256880733946, 0.988)"
      ]
     },
     "execution_count": 51,
     "metadata": {},
     "output_type": "execute_result"
    }
   ],
   "source": [
    "accuracy(w_pp, data_train, label_train, h=norm.cdf), accuracy(w_pp, test, label, h=norm.cdf)"
   ]
  }
 ],
 "metadata": {
  "kernelspec": {
   "display_name": "Python 3 (ipykernel)",
   "language": "python",
   "name": "python3"
  },
  "language_info": {
   "codemirror_mode": {
    "name": "ipython",
    "version": 3
   },
   "file_extension": ".py",
   "mimetype": "text/x-python",
   "name": "python",
   "nbconvert_exporter": "python",
   "pygments_lexer": "ipython3",
   "version": "3.9.7"
  }
 },
 "nbformat": 4,
 "nbformat_minor": 5
}
