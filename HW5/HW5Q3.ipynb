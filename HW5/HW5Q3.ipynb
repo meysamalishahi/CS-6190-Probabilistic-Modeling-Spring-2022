{
 "cells": [
  {
   "cell_type": "code",
   "execution_count": null,
   "id": "e61a7d92",
   "metadata": {},
   "outputs": [],
   "source": [
    "import pandas as pd\n",
    "import numpy as np\n",
    "\n",
    "from numpy.random import multivariate_normal as Gaussian\n",
    "\n",
    "import time\n",
    "from scipy.stats import logistic, truncnorm\n",
    "\n",
    "#from scipy.optimize import minimize"
   ]
  },
  {
   "cell_type": "code",
   "execution_count": null,
   "id": "04d8c061",
   "metadata": {},
   "outputs": [],
   "source": [
    "def sigma(y):\n",
    "    O = np.zeros(y.shape)\n",
    "    I = (y>=0)\n",
    "    J = (y<0)\n",
    "    O[I] = 1/(1+np.exp(-y[I]))\n",
    "    O[J] = np.exp(y[J])/(1+np.exp(y[J]))\n",
    "    return O"
   ]
  },
  {
   "cell_type": "code",
   "execution_count": null,
   "id": "919fa4d2",
   "metadata": {},
   "outputs": [],
   "source": [
    "sigma__ = lambda z: logistic.cdf(z)"
   ]
  },
  {
   "cell_type": "code",
   "execution_count": null,
   "id": "7bf2f044",
   "metadata": {},
   "outputs": [],
   "source": [
    "data = np.genfromtxt(\"data/bank-note/train.csv\", dtype = float, delimiter = ',')\n",
    "data.shape"
   ]
  },
  {
   "cell_type": "code",
   "execution_count": null,
   "id": "cd354b2f",
   "metadata": {},
   "outputs": [],
   "source": [
    "data = np.hstack((np.ones((data.shape[0],1)), data))\n",
    "data.shape"
   ]
  },
  {
   "cell_type": "code",
   "execution_count": null,
   "id": "5db652cb",
   "metadata": {},
   "outputs": [],
   "source": [
    "data_train = data[:,:-1]\n",
    "label_train = data[:,-1].astype(int)\n",
    "data_train.shape, label_train.shape"
   ]
  },
  {
   "cell_type": "code",
   "execution_count": null,
   "id": "457e3bec",
   "metadata": {},
   "outputs": [],
   "source": [
    "test_ = np.genfromtxt(\"data/bank-note/test.csv\", dtype = float, delimiter = ',')\n",
    "test_.shape"
   ]
  },
  {
   "cell_type": "code",
   "execution_count": null,
   "id": "4adce3f4",
   "metadata": {},
   "outputs": [],
   "source": [
    "test_ = np.hstack((np.ones((test_.shape[0],1)), test_))\n",
    "test_.shape"
   ]
  },
  {
   "cell_type": "code",
   "execution_count": null,
   "id": "8ecac0d5",
   "metadata": {},
   "outputs": [],
   "source": [
    "test = test_[:,:-1]\n",
    "label = test_[:,-1].astype(int)\n",
    "test.shape, label.shape"
   ]
  },
  {
   "cell_type": "code",
   "execution_count": null,
   "id": "98d0de12",
   "metadata": {},
   "outputs": [],
   "source": [
    "def nll_(x, t, w):\n",
    "    s_ = x @ w\n",
    "    y_ = sigma(s_)\n",
    "    I = (t == 0)\n",
    "    y_[I] = 1-y_[I]\n",
    "    y_ = np.log(y_+1e-10)\n",
    "    return -y_.sum() + 0.5* np.dot(w,w)"
   ]
  },
  {
   "cell_type": "code",
   "execution_count": null,
   "id": "d42b9288",
   "metadata": {},
   "outputs": [],
   "source": [
    "nll = lambda w: nll_(data_train, label_train, w)"
   ]
  },
  {
   "cell_type": "code",
   "execution_count": null,
   "id": "3039f95f",
   "metadata": {},
   "outputs": [],
   "source": [
    "d = data_train.shape[1]\n",
    "mu = np.zeros(d)\n",
    "M = np.eye(d)\n",
    "M_inv = np.linalg.inv(M)"
   ]
  },
  {
   "cell_type": "code",
   "execution_count": null,
   "id": "d007fe31",
   "metadata": {},
   "outputs": [],
   "source": [
    "K = lambda r : 0.5 * r @ M_inv @ r"
   ]
  },
  {
   "cell_type": "code",
   "execution_count": null,
   "id": "a4782beb",
   "metadata": {},
   "outputs": [],
   "source": [
    "U = lambda w : nll(w)"
   ]
  },
  {
   "cell_type": "code",
   "execution_count": null,
   "id": "c0db312d",
   "metadata": {},
   "outputs": [],
   "source": [
    "def dU_(x, t, w):\n",
    "    y = t - sigma(x@w)\n",
    "    return w - x.T @ y"
   ]
  },
  {
   "cell_type": "code",
   "execution_count": null,
   "id": "4ce7bf10",
   "metadata": {},
   "outputs": [],
   "source": [
    "dU = lambda w : dU_(data_train, label_train, w)"
   ]
  },
  {
   "cell_type": "code",
   "execution_count": null,
   "id": "aa925c95",
   "metadata": {},
   "outputs": [],
   "source": [
    "H = lambda w, r : U(w) + K(r)"
   ]
  },
  {
   "cell_type": "code",
   "execution_count": null,
   "id": "b21b5860",
   "metadata": {},
   "outputs": [],
   "source": [
    "def Leapfrog(eps, w, r, dU = dU):\n",
    "    r_half = r - eps * dU(w)/2\n",
    "    w_new = w + eps * M_inv @ r_half\n",
    "    r_new = r_half - eps * dU(w_new)/2\n",
    "    return w_new, r_new"
   ]
  },
  {
   "cell_type": "code",
   "execution_count": null,
   "id": "6047c1e4",
   "metadata": {},
   "outputs": [],
   "source": [
    "def L_step_Leapfrog(w, r, eps, L):\n",
    "    r_ = r.copy()\n",
    "    w_ = w.copy()\n",
    "    for l in range(L):\n",
    "        w_, r_ = Leapfrog(eps = eps, w = w_, r = r_)\n",
    "    return w_ , r_"
   ]
  },
  {
   "cell_type": "code",
   "execution_count": null,
   "id": "5310b014",
   "metadata": {},
   "outputs": [],
   "source": [
    "def HMC(w_0, r_pdf = Gaussian, L = 10, eps = 0.01, \n",
    "        n_sample = 10000, burn_in_after = 10**5, pick_every = 10, display = True):\n",
    "    \n",
    "    Sample_points = []\n",
    "    iteration = -1\n",
    "    c = -1\n",
    "    sampled = 0\n",
    "    w_new = w_0.copy()\n",
    "    \n",
    "    while sampled <= n_sample or iteration >200000:\n",
    "        iteration += 1\n",
    "        r_0 = r_pdf(mu, M)\n",
    "        w_new, r_new = L_step_Leapfrog(eps = eps, w = w_0, r = r_0, L = L)\n",
    "        \n",
    "        log_p = np.log(np.random.uniform())\n",
    "        log_q = H(w_0, r_0) - H(w_new, -r_new)\n",
    "\n",
    "        if log_p <= log_q:\n",
    "            c += 1\n",
    "            if display and (iteration % 10000 == 0):\n",
    "                print('Iteration is {}, number of accepted points is {}'.format(iteration, c))\n",
    "                \n",
    "            if iteration == burn_in_after:\n",
    "                print('burn in stage started!')\n",
    "                \n",
    "            if iteration >= burn_in_after:\n",
    "                if sampled % 10 == 0:\n",
    "                    Sample_points.append(w_new)\n",
    "                    w_0 = w_new.copy()\n",
    "                sampled += 1\n",
    "            else:\n",
    "                w_0 = w_new.copy()\n",
    "                    \n",
    "    return np.array(Sample_points), c/iteration"
   ]
  },
  {
   "cell_type": "code",
   "execution_count": null,
   "id": "452961fc",
   "metadata": {},
   "outputs": [],
   "source": [
    "#t = time.time()\n",
    "#S, p = HMC(w_0 = np.zeros(d))\n",
    "#print(time.time()-t)"
   ]
  },
  {
   "cell_type": "code",
   "execution_count": null,
   "id": "40aadd36",
   "metadata": {},
   "outputs": [],
   "source": [
    "eps_list = [0.005, 0.1, 0.2, 0.5] #The last value is too BIG\n",
    "L_list = [10, 20, 50]"
   ]
  },
  {
   "cell_type": "code",
   "execution_count": null,
   "id": "6ed9642f",
   "metadata": {},
   "outputs": [],
   "source": [
    "def predict(x, t, w):\n",
    "    y = sigma(x@w)\n",
    "    l_pred = (y>=0.5).astype(int)\n",
    "    return (t==l_pred).mean()"
   ]
  },
  {
   "cell_type": "code",
   "execution_count": null,
   "id": "9f861cbc",
   "metadata": {},
   "outputs": [],
   "source": [
    "#av = 0\n",
    "#for i in range(1000):\n",
    "#    av += predict(x = data_train,t = label_train,w = S[i])\n",
    "#print('Train predictive accuracy: {}'.format(av/1000))"
   ]
  },
  {
   "cell_type": "code",
   "execution_count": null,
   "id": "77b9c896",
   "metadata": {},
   "outputs": [],
   "source": [
    "#av = 0\n",
    "#for i in range(1000):\n",
    "#    av += predict(x = test, t = label, w = S[i])\n",
    "#print('Test predictive accuracy: {}'.format(av/1000))"
   ]
  },
  {
   "cell_type": "code",
   "execution_count": null,
   "id": "722992c3",
   "metadata": {},
   "outputs": [],
   "source": [
    "def predictive_likelihood(x, t, w):\n",
    "    y = sigma(x@w)\n",
    "    I = (t == 0)\n",
    "    y[I] = 1 - y[I]\n",
    "    return y.mean() "
   ]
  },
  {
   "cell_type": "code",
   "execution_count": null,
   "id": "1567a31a",
   "metadata": {},
   "outputs": [],
   "source": [
    "#av = 0\n",
    "#for i in range(1000):\n",
    "#    av += predictive_likelihood(x = test, t = label, w = S[i])\n",
    "#print('Test predictive likelihood: {}'.format(av/1000))"
   ]
  },
  {
   "cell_type": "code",
   "execution_count": null,
   "id": "5f82cf55",
   "metadata": {},
   "outputs": [],
   "source": [
    "S_list = []\n",
    "for eps in eps_list:\n",
    "    for L in L_list:\n",
    "        print('eps: {} and L: {}'.format(eps, L))\n",
    "        t = time.time()\n",
    "        S, p = HMC(w_0 = np.zeros(d), L = L, eps = eps)\n",
    "        print('Running time for eps = {} and L = {} is {}'.format(eps, L, time.time()-t))\n",
    "        print('Acceptance rate: {}'.format(p))\n",
    "        S_list.append(S)\n",
    "        \n",
    "        av = 0\n",
    "        mean = np.zeros(d)\n",
    "        for i in range(1000):\n",
    "            mean += S[i]/1000\n",
    "            av += predictive_likelihood(x = test, t = label, w = S[i])\n",
    "        print('Test predictive likelihood for eps = {} and L = {} is {}'.format(eps, L, av/1000))\n",
    "            \n",
    "        av = 0\n",
    "        for i in range(1000):\n",
    "            av += predict(x = test, t = label, w = S[i])\n",
    "        print('Test predictive accuracy for eps = {} and L = {} is {}'.format(eps, L, av/1000))\n",
    "        print('Emperical mean is: ', mean)"
   ]
  },
  {
   "cell_type": "markdown",
   "id": "6a6f48a2",
   "metadata": {},
   "source": [
    "## (b) Gibbs sampling for the Bayesian probit model with augmented variables!"
   ]
  },
  {
   "cell_type": "code",
   "execution_count": null,
   "id": "6d47c60e",
   "metadata": {},
   "outputs": [],
   "source": [
    "truncnorm.rvs(a = 0, b= np.inf, loc=0, scale=1, size=1)"
   ]
  },
  {
   "cell_type": "code",
   "execution_count": null,
   "id": "23a64f57",
   "metadata": {},
   "outputs": [],
   "source": [
    "N, d = data_train.shape\n",
    "S_inv = np.eye(d) + data_train.T @ data_train\n",
    "S = np.linalg.inv(S_inv)"
   ]
  },
  {
   "cell_type": "code",
   "execution_count": null,
   "id": "2db7e9ab",
   "metadata": {},
   "outputs": [],
   "source": [
    "def _Z_update(w, x, t):\n",
    "    Z = np.zeros(N)\n",
    "    mu = x @ w\n",
    "    for i in range(N):\n",
    "            Z[i] = (2*t[i]-1)*truncnorm.rvs(a = 0, b = np.inf, loc=mu[i], scale=1, size=1)\n",
    "    return Z"
   ]
  },
  {
   "cell_type": "code",
   "execution_count": null,
   "id": "a864cd11",
   "metadata": {},
   "outputs": [],
   "source": [
    "def _w_update(z):\n",
    "    mu = S @ data_train.T @ z\n",
    "    w = Gaussian(mean = mu, cov = S)\n",
    "    return w"
   ]
  },
  {
   "cell_type": "code",
   "execution_count": null,
   "id": "e6e1521b",
   "metadata": {},
   "outputs": [],
   "source": [
    "def Gibbs_sampling(x = data_train, t = label_train, burn_in_at = 10**5, n_samples = 1000, pick_every  =10):\n",
    "    w_ = np.random.normal(0,1, size = d)\n",
    "    itr = 0\n",
    "    while itr< burn_in_at:\n",
    "        z_ = _Z_update(w_, x, t)\n",
    "        w_ = _w_update(z_)\n",
    "        itr += 1\n",
    "    itr = 0\n",
    "    w_Samples = []\n",
    "    z_Samples = []\n",
    "    print('burned in')\n",
    "    while itr < n_samples * pick_every:\n",
    "        if itr % pick_every == 0:\n",
    "            w_Samples.append(w_.copy())\n",
    "            z_Samples.append(z_.copy())\n",
    "        z_ = _Z_update(w_, x, t)\n",
    "        w_ = _w_update(z_)\n",
    "        itr += 1\n",
    "    return w_Samples, z_Samples"
   ]
  },
  {
   "cell_type": "code",
   "execution_count": null,
   "id": "edf23961",
   "metadata": {},
   "outputs": [],
   "source": [
    "W, Z = Gibbs_sampling()"
   ]
  },
  {
   "cell_type": "code",
   "execution_count": null,
   "id": "579882be",
   "metadata": {},
   "outputs": [],
   "source": [
    "Z_ = np.array(Z).T\n",
    "Z_.shape"
   ]
  },
  {
   "cell_type": "code",
   "execution_count": null,
   "id": "3c2724f6",
   "metadata": {},
   "outputs": [],
   "source": [
    "P = (Z_>= 0).astype(int)"
   ]
  },
  {
   "cell_type": "code",
   "execution_count": null,
   "id": "80ffe1c2",
   "metadata": {},
   "outputs": [],
   "source": [
    "ACC = []\n",
    "for i in range(P.shape[1]):\n",
    "    pp = ((P[:,i] - label_train) == 0).mean()\n",
    "    ACC.append(pp)"
   ]
  },
  {
   "cell_type": "code",
   "execution_count": null,
   "id": "eaab82cc",
   "metadata": {},
   "outputs": [],
   "source": [
    "np.array(ACC).mean()"
   ]
  },
  {
   "cell_type": "code",
   "execution_count": null,
   "id": "dc836005",
   "metadata": {},
   "outputs": [],
   "source": []
  }
 ],
 "metadata": {
  "kernelspec": {
   "display_name": "Python 3 (ipykernel)",
   "language": "python",
   "name": "python3"
  },
  "language_info": {
   "codemirror_mode": {
    "name": "ipython",
    "version": 3
   },
   "file_extension": ".py",
   "mimetype": "text/x-python",
   "name": "python",
   "nbconvert_exporter": "python",
   "pygments_lexer": "ipython3",
   "version": "3.9.7"
  }
 },
 "nbformat": 4,
 "nbformat_minor": 5
}
