{
 "cells": [
  {
   "cell_type": "code",
   "execution_count": 1,
   "id": "0debfa95",
   "metadata": {},
   "outputs": [],
   "source": [
    "import pandas as pd\n",
    "import numpy as np\n",
    "from scipy.stats import logistic, norm, multivariate_normal\n",
    "from scipy.optimize import minimize"
   ]
  },
  {
   "cell_type": "code",
   "execution_count": 2,
   "id": "d9c467a2",
   "metadata": {},
   "outputs": [],
   "source": [
    "'''\n",
    "This file contains sample code about how to use Gauss–Hermite quadrature to compute a \n",
    "specific type of integral numerically.\n",
    "\n",
    "The general form of this type of integral is:( see https://en.wikipedia.org/wiki/Gauss%E2%80%93Hermite_quadrature \n",
    "for more details)\n",
    "\n",
    "F = int_{ -inf}^{+inf} e^{-x*x) f(x) dx,  (1)\n",
    "\n",
    "in which we're calculating the integral of f(x) in the range ( -inf, +inf) weighted by e^(-x*x ).\n",
    "Note that for f(x) being polynomial function, this integral is guaranteed to converge. But for some others \n",
    "convergence is not guaranteed.\n",
    "'''\n",
    "\n",
    "import numpy as np\n",
    "\n",
    "\n",
    "def gass_hermite_quad(f, degree):\n",
    "    '''\n",
    "    Calculate the integral (1) numerically.\n",
    "    :param f: target function, takes a array as input x = [x0, x1,...,xn], and return a array of function \n",
    "    values f(x) = [f(x0),f(x1), ..., f(xn)]\n",
    "    :param degree: integer, >=1, number of points\n",
    "    :return:\n",
    "    '''\n",
    "\n",
    "    points, weights = np.polynomial.hermite.hermgauss(degree)\n",
    "\n",
    "    #function values at given points\n",
    "    f_x = f(points)\n",
    "\n",
    "    #weighted sum of function values\n",
    "    F = np.sum(f_x  * weights)\n",
    "\n",
    "    return F"
   ]
  },
  {
   "cell_type": "code",
   "execution_count": 3,
   "id": "a906d519",
   "metadata": {
    "scrolled": true
   },
   "outputs": [
    {
     "name": "stdout",
     "output_type": "stream",
     "text": [
      "https://archive.ics.uci.edu/ml/datasets/banknote+authentication\n",
      "\n",
      "Data Set Information:\n",
      "\n",
      "Data were extracted from images that were taken from genuine and forged banknote-like specimens. For digitization, an industrial camera usually used for print inspection was used. The final images have 400x 400 pixels. Due to the object lens and distance to the investigated object gray-scale pictures with a resolution of about 660 dpi were gained. Wavelet Transform tool were used to extract features from images.\n",
      "\n",
      "\n",
      "We use 4 attributions (the first 4 columns)\n",
      "\n",
      "1. variance of Wavelet Transformed image (continuous) \n",
      "2. skewness of Wavelet Transformed image (continuous) \n",
      "3. curtosis of Wavelet Transformed image (continuous) \n",
      "4. entropy of image (continuous) \n",
      "\n",
      "The label is the last column: genuine or forged\n",
      "\n",
      "\n",
      "\n"
     ]
    }
   ],
   "source": [
    "f = open(\"data/bank-note/data-desc.txt\", \"r\")\n",
    "print(f.read())"
   ]
  },
  {
   "cell_type": "code",
   "execution_count": 4,
   "id": "4a2581b8",
   "metadata": {},
   "outputs": [
    {
     "data": {
      "text/html": [
       "<div>\n",
       "<style scoped>\n",
       "    .dataframe tbody tr th:only-of-type {\n",
       "        vertical-align: middle;\n",
       "    }\n",
       "\n",
       "    .dataframe tbody tr th {\n",
       "        vertical-align: top;\n",
       "    }\n",
       "\n",
       "    .dataframe thead th {\n",
       "        text-align: right;\n",
       "    }\n",
       "</style>\n",
       "<table border=\"1\" class=\"dataframe\">\n",
       "  <thead>\n",
       "    <tr style=\"text-align: right;\">\n",
       "      <th></th>\n",
       "      <th>variance</th>\n",
       "      <th>skewness</th>\n",
       "      <th>curtosis</th>\n",
       "      <th>entropy</th>\n",
       "      <th>label</th>\n",
       "    </tr>\n",
       "  </thead>\n",
       "  <tbody>\n",
       "    <tr>\n",
       "      <th>0</th>\n",
       "      <td>3.848100</td>\n",
       "      <td>10.15390</td>\n",
       "      <td>-3.85610</td>\n",
       "      <td>-4.22280</td>\n",
       "      <td>0</td>\n",
       "    </tr>\n",
       "    <tr>\n",
       "      <th>1</th>\n",
       "      <td>4.004700</td>\n",
       "      <td>0.45937</td>\n",
       "      <td>1.36210</td>\n",
       "      <td>1.61810</td>\n",
       "      <td>0</td>\n",
       "    </tr>\n",
       "    <tr>\n",
       "      <th>2</th>\n",
       "      <td>-0.048008</td>\n",
       "      <td>-1.60370</td>\n",
       "      <td>8.47560</td>\n",
       "      <td>0.75558</td>\n",
       "      <td>0</td>\n",
       "    </tr>\n",
       "    <tr>\n",
       "      <th>3</th>\n",
       "      <td>-1.266700</td>\n",
       "      <td>2.81830</td>\n",
       "      <td>-2.42600</td>\n",
       "      <td>-1.88620</td>\n",
       "      <td>1</td>\n",
       "    </tr>\n",
       "    <tr>\n",
       "      <th>4</th>\n",
       "      <td>2.203400</td>\n",
       "      <td>5.99470</td>\n",
       "      <td>0.53009</td>\n",
       "      <td>0.84998</td>\n",
       "      <td>0</td>\n",
       "    </tr>\n",
       "  </tbody>\n",
       "</table>\n",
       "</div>"
      ],
      "text/plain": [
       "   variance  skewness  curtosis  entropy  label\n",
       "0  3.848100  10.15390  -3.85610 -4.22280      0\n",
       "1  4.004700   0.45937   1.36210  1.61810      0\n",
       "2 -0.048008  -1.60370   8.47560  0.75558      0\n",
       "3 -1.266700   2.81830  -2.42600 -1.88620      1\n",
       "4  2.203400   5.99470   0.53009  0.84998      0"
      ]
     },
     "execution_count": 4,
     "metadata": {},
     "output_type": "execute_result"
    }
   ],
   "source": [
    "df = pd.read_csv(\"data/bank-note/train.csv\", \n",
    "                 names = ['variance', 'skewness', 'curtosis', 'entropy', 'label'])\n",
    "df.head()"
   ]
  },
  {
   "cell_type": "code",
   "execution_count": 5,
   "id": "40a57b1e",
   "metadata": {},
   "outputs": [
    {
     "data": {
      "text/plain": [
       "(872, 6)"
      ]
     },
     "execution_count": 5,
     "metadata": {},
     "output_type": "execute_result"
    }
   ],
   "source": [
    "data = np.genfromtxt(\"data/bank-note/train.csv\", dtype=float, delimiter=',')\n",
    "data = np.hstack((np.ones((data.shape[0],1)), data))\n",
    "data.shape"
   ]
  },
  {
   "cell_type": "code",
   "execution_count": 6,
   "id": "beb7e2a2",
   "metadata": {},
   "outputs": [
    {
     "data": {
      "text/plain": [
       "((872, 5), (872,))"
      ]
     },
     "execution_count": 6,
     "metadata": {},
     "output_type": "execute_result"
    }
   ],
   "source": [
    "data_train = data[:,:-1]\n",
    "label_train = data[:,-1].astype(int)\n",
    "data_train.shape, label_train.shape"
   ]
  },
  {
   "cell_type": "code",
   "execution_count": 7,
   "id": "73ffced2",
   "metadata": {},
   "outputs": [
    {
     "data": {
      "text/plain": [
       "(500, 6)"
      ]
     },
     "execution_count": 7,
     "metadata": {},
     "output_type": "execute_result"
    }
   ],
   "source": [
    "data_test = np.genfromtxt(\"data/bank-note/test.csv\", dtype=float, delimiter=',')\n",
    "data_test = np.hstack((np.ones((data_test.shape[0],1)), data_test))\n",
    "data_test.shape"
   ]
  },
  {
   "cell_type": "code",
   "execution_count": 8,
   "id": "33b42b0f",
   "metadata": {},
   "outputs": [
    {
     "data": {
      "text/plain": [
       "((500, 5), (500,))"
      ]
     },
     "execution_count": 8,
     "metadata": {},
     "output_type": "execute_result"
    }
   ],
   "source": [
    "test = data_test[:,:-1]\n",
    "label = data_test[:,-1].astype(int)\n",
    "test.shape, label.shape"
   ]
  },
  {
   "cell_type": "markdown",
   "id": "f96d30fc",
   "metadata": {},
   "source": [
    "### Part (a)."
   ]
  },
  {
   "cell_type": "code",
   "execution_count": 9,
   "id": "2f307d18",
   "metadata": {},
   "outputs": [],
   "source": [
    "from scipy.stats import logistic, norm, multivariate_normal\n",
    "from scipy.optimize import minimize"
   ]
  },
  {
   "cell_type": "code",
   "execution_count": 10,
   "id": "b335f789",
   "metadata": {},
   "outputs": [],
   "source": [
    "def log_poterior_(x, t, w):\n",
    "    y = logistic.cdf(x@w)\n",
    "    y[t==0] = 1 - y[t==0]\n",
    "    y = np.log(y)\n",
    "    return -np.dot(w,w)/2 + y.sum()"
   ]
  },
  {
   "cell_type": "code",
   "execution_count": 11,
   "id": "ea1d7a0e",
   "metadata": {},
   "outputs": [],
   "source": [
    "def d_log_poterior_(x, t, w):\n",
    "    y = t - logistic.cdf(x@w)\n",
    "    return -w + x.T @ y"
   ]
  },
  {
   "cell_type": "code",
   "execution_count": 12,
   "id": "2cf02881",
   "metadata": {},
   "outputs": [],
   "source": [
    "def dd_log_poterior_(x, t, w):\n",
    "    y = logistic.cdf(x@w)\n",
    "    R = y*(1-y)\n",
    "    #print(-np.eye(w.shape[0])+x.T @ np.diag(R) @ x)\n",
    "    return -np.eye(w.shape[0]) - x.T @ (R.reshape(-1,1)*x)"
   ]
  },
  {
   "cell_type": "code",
   "execution_count": 13,
   "id": "28700b7c",
   "metadata": {},
   "outputs": [],
   "source": [
    "neg_log_poterior = lambda w: -log_poterior_(data_train, label_train, w)"
   ]
  },
  {
   "cell_type": "code",
   "execution_count": 14,
   "id": "11301c36",
   "metadata": {},
   "outputs": [],
   "source": [
    "d_neg_log_poterior = lambda w: -d_log_poterior_(data_train, label_train, w)"
   ]
  },
  {
   "cell_type": "code",
   "execution_count": 15,
   "id": "145be013",
   "metadata": {},
   "outputs": [],
   "source": [
    "dd_neg_log_poterior = lambda w: -dd_log_poterior_(data_train, label_train, w)"
   ]
  },
  {
   "cell_type": "markdown",
   "id": "6c2411ed",
   "metadata": {},
   "source": [
    "### Numerical Check"
   ]
  },
  {
   "cell_type": "code",
   "execution_count": 16,
   "id": "0488a0fd",
   "metadata": {},
   "outputs": [
    {
     "data": {
      "text/plain": [
       "array([-0.00873432,  0.01461048, -0.0098306 ,  0.00354918,  0.01437763])"
      ]
     },
     "execution_count": 16,
     "metadata": {},
     "output_type": "execute_result"
    }
   ],
   "source": [
    "w = np.random.normal(0, 1, size = (5))\n",
    "dw = np.zeros(5)\n",
    "for i in range(5):\n",
    "    x = w.copy()\n",
    "    y = w.copy()\n",
    "    x[i] += 1e-5\n",
    "    y[i] -= 1e-5\n",
    "    dw[i] = (neg_log_poterior(x)-neg_log_poterior(y))/2e-5\n",
    "dw-d_neg_log_poterior(w)"
   ]
  },
  {
   "cell_type": "code",
   "execution_count": 17,
   "id": "51fdcc75",
   "metadata": {},
   "outputs": [
    {
     "data": {
      "text/plain": [
       "array([[-5.38022960e-11,  4.27239755e-09, -3.96971700e-09,\n",
       "        -4.68628514e-09, -2.03490913e-09],\n",
       "       [ 4.09476186e-09, -2.41204816e-08,  3.78045399e-08,\n",
       "         7.12670811e-09, -1.66438099e-08],\n",
       "       [-2.72399916e-08,  1.06016643e-07, -3.02742137e-07,\n",
       "        -6.05508035e-08,  1.10671351e-07],\n",
       "       [-6.77573553e-11,  1.44236978e-09, -3.70738462e-09,\n",
       "        -1.06653388e-08,  6.24646646e-09],\n",
       "       [ 9.84897497e-10, -1.66438383e-08,  1.11953682e-08,\n",
       "         5.62124569e-10, -3.28384431e-10]])"
      ]
     },
     "execution_count": 17,
     "metadata": {},
     "output_type": "execute_result"
    }
   ],
   "source": [
    "ddw = np.zeros((5,5))\n",
    "for i in range(5):\n",
    "    x = w.copy()\n",
    "    y = w.copy()\n",
    "    x[i] += 1e-5\n",
    "    y[i] -= 1e-5\n",
    "    ddw[i] = (d_neg_log_poterior(x)-d_neg_log_poterior(y))/2e-5\n",
    "ddw-dd_neg_log_poterior(w)"
   ]
  },
  {
   "cell_type": "code",
   "execution_count": 18,
   "id": "df5a90c0",
   "metadata": {},
   "outputs": [],
   "source": [
    "w = np.random.normal(0, 1, size = (5))\n",
    "model_Q2a = minimize(neg_log_poterior, w, method = 'L-BFGS-B', jac = d_neg_log_poterior)"
   ]
  },
  {
   "cell_type": "code",
   "execution_count": 19,
   "id": "0aa7657c",
   "metadata": {},
   "outputs": [],
   "source": [
    "#model_Q2a = minimize(neg_log_poterior, w, method = 'L-BFGS-B')"
   ]
  },
  {
   "cell_type": "code",
   "execution_count": 20,
   "id": "e32ab31f",
   "metadata": {},
   "outputs": [],
   "source": [
    "#model_Q2a.x"
   ]
  },
  {
   "cell_type": "markdown",
   "id": "877aaa8b",
   "metadata": {},
   "source": [
    "### Laplace approximation for the posterior distribution"
   ]
  },
  {
   "cell_type": "code",
   "execution_count": 21,
   "id": "6128e336",
   "metadata": {},
   "outputs": [
    {
     "data": {
      "text/plain": [
       "array([ 2.85593266, -2.69321621, -1.59105559, -1.89926044, -0.17689869])"
      ]
     },
     "execution_count": 21,
     "metadata": {},
     "output_type": "execute_result"
    }
   ],
   "source": [
    "mu_Laplace = model_Q2a.x\n",
    "mu_Laplace"
   ]
  },
  {
   "cell_type": "code",
   "execution_count": 22,
   "id": "e3460f7f",
   "metadata": {},
   "outputs": [],
   "source": [
    "Cov_inv_Laplace = dd_neg_log_poterior(mu_Laplace)"
   ]
  },
  {
   "cell_type": "code",
   "execution_count": 23,
   "id": "8f971ae9",
   "metadata": {},
   "outputs": [],
   "source": [
    "Cov_Laplace = np.linalg.inv(Cov_inv_Laplace)"
   ]
  },
  {
   "cell_type": "code",
   "execution_count": 24,
   "id": "8d17608e",
   "metadata": {},
   "outputs": [
    {
     "data": {
      "text/plain": [
       "array([[ 0.13679694, -0.0563484 , -0.02708617, -0.0406639 ,  0.02068524],\n",
       "       [-0.0563484 ,  0.11964223,  0.05318781,  0.07181364,  0.00963916],\n",
       "       [-0.02708617,  0.05318781,  0.05011853,  0.05299426,  0.0231902 ],\n",
       "       [-0.0406639 ,  0.07181364,  0.05299426,  0.06216994,  0.01966918],\n",
       "       [ 0.02068524,  0.00963916,  0.0231902 ,  0.01966918,  0.03822871]])"
      ]
     },
     "execution_count": 24,
     "metadata": {},
     "output_type": "execute_result"
    }
   ],
   "source": [
    "Cov_Laplace"
   ]
  },
  {
   "cell_type": "code",
   "execution_count": 25,
   "id": "4f807376",
   "metadata": {},
   "outputs": [],
   "source": [
    "Laplace_dis = multivariate_normal(mean = mu_Laplace, cov = Cov_Laplace)"
   ]
  },
  {
   "cell_type": "code",
   "execution_count": 26,
   "id": "184d0db5",
   "metadata": {},
   "outputs": [],
   "source": [
    "def predict(x,t,w):\n",
    "    y = logistic.cdf(x@w)\n",
    "    l_pred = (y>=0.5).astype(int)\n",
    "    return (t==l_pred).mean()"
   ]
  },
  {
   "cell_type": "markdown",
   "id": "c82c7082",
   "metadata": {},
   "source": [
    "### Accuracy baced on w_MAP"
   ]
  },
  {
   "cell_type": "code",
   "execution_count": 27,
   "id": "a6226658",
   "metadata": {},
   "outputs": [
    {
     "data": {
      "text/plain": [
       "0.9908256880733946"
      ]
     },
     "execution_count": 27,
     "metadata": {},
     "output_type": "execute_result"
    }
   ],
   "source": [
    "predict(data_train, label_train, mu_Laplace)"
   ]
  },
  {
   "cell_type": "code",
   "execution_count": 28,
   "id": "ce75afb5",
   "metadata": {},
   "outputs": [
    {
     "data": {
      "text/plain": [
       "0.99"
      ]
     },
     "execution_count": 28,
     "metadata": {},
     "output_type": "execute_result"
    }
   ],
   "source": [
    "predict(test, label, mu_Laplace)"
   ]
  },
  {
   "cell_type": "markdown",
   "id": "ed307150",
   "metadata": {},
   "source": [
    "### The average predictive likelihood"
   ]
  },
  {
   "cell_type": "code",
   "execution_count": 29,
   "id": "62e41347",
   "metadata": {},
   "outputs": [],
   "source": [
    "def predictive_likelihood(x, mu = mu_Laplace, Cov = Cov_Laplace):\n",
    "    m = np.dot(x,mu)\n",
    "    s = x.reshape(1,-1)@ Cov @x.reshape(-1,1)\n",
    "    f = lambda z: logistic.cdf(np.sqrt(2)*s*z+m) \n",
    "    return 1/np.sqrt(np.pi)*gass_hermite_quad(f,200)"
   ]
  },
  {
   "cell_type": "code",
   "execution_count": 30,
   "id": "3957d471",
   "metadata": {},
   "outputs": [],
   "source": [
    "def accuracy_predictive_likelihood(x, t, mu = mu_Laplace, Cov = Cov_Laplace):\n",
    "    n= x.shape[0]\n",
    "    average_predictive_likelihood = np.zeros(n)\n",
    "    for i in range(n):\n",
    "        xi = test[i]\n",
    "        average_predictive_likelihood[i] = predictive_likelihood(xi, mu, Cov)\n",
    "    P = (average_predictive_likelihood>=0.5).astype(int)\n",
    "    return np.mean(P == t), average_predictive_likelihood"
   ]
  },
  {
   "cell_type": "code",
   "execution_count": 31,
   "id": "3b338f4c",
   "metadata": {},
   "outputs": [
    {
     "data": {
      "text/plain": [
       "0.99"
      ]
     },
     "execution_count": 31,
     "metadata": {},
     "output_type": "execute_result"
    }
   ],
   "source": [
    "n= test.shape[0]\n",
    "average_predictive_likelihood = np.zeros(n)\n",
    "for i in range(n):\n",
    "    x = test[i]\n",
    "    average_predictive_likelihood[i] = predictive_likelihood(x)\n",
    "P = (average_predictive_likelihood>=0.5).astype(int)\n",
    "np.mean(P == label)"
   ]
  },
  {
   "cell_type": "code",
   "execution_count": 32,
   "id": "01ac4d30",
   "metadata": {},
   "outputs": [],
   "source": [
    "accuracy_a_p_laplace, average_predictive_likelihood_laplace = accuracy_predictive_likelihood(test, label)"
   ]
  },
  {
   "cell_type": "code",
   "execution_count": 33,
   "id": "924ef2a5",
   "metadata": {},
   "outputs": [
    {
     "data": {
      "text/plain": [
       "0.99"
      ]
     },
     "execution_count": 33,
     "metadata": {},
     "output_type": "execute_result"
    }
   ],
   "source": [
    "accuracy_a_p_laplace"
   ]
  },
  {
   "cell_type": "code",
   "execution_count": 34,
   "id": "98864c53",
   "metadata": {},
   "outputs": [
    {
     "data": {
      "text/plain": [
       "0.9743241483386471"
      ]
     },
     "execution_count": 34,
     "metadata": {},
     "output_type": "execute_result"
    }
   ],
   "source": [
    "average_predictive_likelihood_laplace[label == 0] = 1- average_predictive_likelihood_laplace[label == 0]\n",
    "average_predictive_likelihood_laplace.mean()"
   ]
  },
  {
   "cell_type": "markdown",
   "id": "ebc3bbb1",
   "metadata": {},
   "source": [
    "###  Laplace approximation with the diagonal Hessian"
   ]
  },
  {
   "cell_type": "code",
   "execution_count": 35,
   "id": "c1d114d2",
   "metadata": {},
   "outputs": [],
   "source": [
    "Cov_diag = np.eye(Cov_Laplace.shape[0])*Cov_Laplace"
   ]
  },
  {
   "cell_type": "code",
   "execution_count": 36,
   "id": "c486daf2",
   "metadata": {},
   "outputs": [],
   "source": [
    "accuracy_a_p_diag, average_predictive_likelihood_diag = accuracy_predictive_likelihood(x= test, t = label, \n",
    "                                                                                       mu = mu_Laplace, Cov = Cov_diag)"
   ]
  },
  {
   "cell_type": "code",
   "execution_count": 37,
   "id": "2408774d",
   "metadata": {},
   "outputs": [
    {
     "data": {
      "text/plain": [
       "0.99"
      ]
     },
     "execution_count": 37,
     "metadata": {},
     "output_type": "execute_result"
    }
   ],
   "source": [
    "accuracy_a_p_diag"
   ]
  },
  {
   "cell_type": "code",
   "execution_count": 38,
   "id": "2baac66e",
   "metadata": {},
   "outputs": [
    {
     "data": {
      "text/plain": [
       "0.9139301859825464"
      ]
     },
     "execution_count": 38,
     "metadata": {},
     "output_type": "execute_result"
    }
   ],
   "source": [
    "average_predictive_likelihood_diag[label == 0] = 1- average_predictive_likelihood_diag[label == 0]\n",
    "average_predictive_likelihood_diag.mean()"
   ]
  },
  {
   "cell_type": "markdown",
   "id": "82197e98",
   "metadata": {},
   "source": [
    "### (c) Variational logistic regression"
   ]
  },
  {
   "cell_type": "code",
   "execution_count": 39,
   "id": "83c5d9dd",
   "metadata": {},
   "outputs": [],
   "source": [
    "def Lambda(x):\n",
    "    return (logistic.cdf(x)- 1/2)/(2*x)"
   ]
  },
  {
   "cell_type": "code",
   "execution_count": 40,
   "id": "67143d18",
   "metadata": {},
   "outputs": [],
   "source": [
    "def E_update(m_0,s_0,x,t,xi):\n",
    "    s_0_inv = np.linalg.inv(s_0)\n",
    "    lambda_xi = Lambda(xi)\n",
    "    \n",
    "    s_N_inv = s_0_inv + 2 * x.T @ (lambda_xi.reshape(-1,1)*x) #needs to review\n",
    "    \n",
    "    s_N = np.linalg.inv(s_N_inv)\n",
    "    m_N = s_N @(s_0_inv@m_0 + (t-0.5) @ x)\n",
    "    \n",
    "    return s_N, m_N"
   ]
  },
  {
   "cell_type": "code",
   "execution_count": 41,
   "id": "1fb3c219",
   "metadata": {},
   "outputs": [],
   "source": [
    "def M_update(x, s_N, m_N):\n",
    "    xi_squared = np.diag(x @ (s_N + m_N.reshape(-1,1) @ m_N.reshape(1,-1)) @ x.T )\n",
    "    return np.sqrt(xi_squared)"
   ]
  },
  {
   "cell_type": "code",
   "execution_count": 42,
   "id": "5b17061f",
   "metadata": {},
   "outputs": [],
   "source": [
    "def EM_vlr(m_0,s_0,x,t,xi_start):\n",
    "    while True:\n",
    "        s_N, m_N = E_update(m_0, s_0, x, t, xi_start)\n",
    "        xi = M_update(x, s_N, m_N)\n",
    "        if np.linalg.norm(xi - xi_start)> 1e-5:\n",
    "            xi_start = xi\n",
    "        else:\n",
    "            return m_N, s_N"
   ]
  },
  {
   "cell_type": "code",
   "execution_count": 43,
   "id": "ef48212f",
   "metadata": {},
   "outputs": [],
   "source": [
    "n, d = data_train.shape\n",
    "xi_0 = np.abs(np.random.normal(0,1, size = (n)))"
   ]
  },
  {
   "cell_type": "code",
   "execution_count": 44,
   "id": "f8c8764e",
   "metadata": {
    "scrolled": true
   },
   "outputs": [],
   "source": [
    "mu_vlr, s_vlr = EM_vlr(m_0 = np.zeros(d), s_0 = np.eye(d), x = data_train,t =label_train, xi_start = xi_0)"
   ]
  },
  {
   "cell_type": "code",
   "execution_count": 45,
   "id": "488976d5",
   "metadata": {},
   "outputs": [
    {
     "data": {
      "text/plain": [
       "0.99"
      ]
     },
     "execution_count": 45,
     "metadata": {},
     "output_type": "execute_result"
    }
   ],
   "source": [
    "predict(test, label, mu_vlr)"
   ]
  },
  {
   "cell_type": "code",
   "execution_count": 46,
   "id": "d82d9897",
   "metadata": {},
   "outputs": [
    {
     "data": {
      "text/plain": [
       "(array([ 2.89882616, -2.77086021, -1.63751078, -1.95377589, -0.19364377]),\n",
       " array([[ 0.0287931 , -0.00270207, -0.00196961, -0.0041901 ,  0.00504233],\n",
       "        [-0.00270207,  0.00360754, -0.00021745,  0.00078054, -0.001883  ],\n",
       "        [-0.00196961, -0.00021745,  0.00189673,  0.00157568,  0.00167853],\n",
       "        [-0.0041901 ,  0.00078054,  0.00157568,  0.0022857 ,  0.00045613],\n",
       "        [ 0.00504233, -0.001883  ,  0.00167853,  0.00045613,  0.00640488]]))"
      ]
     },
     "execution_count": 46,
     "metadata": {},
     "output_type": "execute_result"
    }
   ],
   "source": [
    "mu_vlr,s_vlr"
   ]
  },
  {
   "cell_type": "code",
   "execution_count": 47,
   "id": "efb7fd19",
   "metadata": {},
   "outputs": [],
   "source": [
    "accuracy_a_p_vlr, average_pred_likelihood_vlr  = accuracy_predictive_likelihood(x = test, t = label, \n",
    "                                                                                mu = mu_vlr, Cov = s_vlr)"
   ]
  },
  {
   "cell_type": "code",
   "execution_count": 48,
   "id": "6c988a56",
   "metadata": {},
   "outputs": [
    {
     "data": {
      "text/plain": [
       "0.99"
      ]
     },
     "execution_count": 48,
     "metadata": {},
     "output_type": "execute_result"
    }
   ],
   "source": [
    "accuracy_a_p_vlr"
   ]
  },
  {
   "cell_type": "code",
   "execution_count": 49,
   "id": "bffe4c06",
   "metadata": {},
   "outputs": [
    {
     "data": {
      "text/plain": [
       "0.9770066184572976"
      ]
     },
     "execution_count": 49,
     "metadata": {},
     "output_type": "execute_result"
    }
   ],
   "source": [
    "average_pred_likelihood_vlr[label==0] = 1 - average_pred_likelihood_vlr[label==0]\n",
    "average_pred_likelihood_vlr.mean()"
   ]
  },
  {
   "cell_type": "markdown",
   "id": "4612e88d",
   "metadata": {},
   "source": [
    "### Variational logistic regression via  fully factorized posterior"
   ]
  },
  {
   "cell_type": "code",
   "execution_count": 50,
   "id": "cb300246",
   "metadata": {},
   "outputs": [],
   "source": [
    "def E_update_Q_2d_v(x, t, mu, sigma, xi):\n",
    "    d = mu.shape[0]\n",
    "    l_xi = Lambda(xi)\n",
    "    temp = ((x*x)*l_xi.reshape(-1,1)).sum(axis = 0)\n",
    "    sigma_squared =1/(1+2*temp)\n",
    "        \n",
    "    R1 = 2*l_xi.reshape(-1,1)*(x @ mu.reshape(-1,1) - x * mu.reshape(1,-1))\n",
    "    R2 = t.reshape(-1,1)  - 1/2 -  R1\n",
    "    R3 = (R2 * x).sum(axis = 0)\n",
    "    R4 = sigma_squared * R3\n",
    "         \n",
    "    return R4, np.sqrt(sigma_squared)"
   ]
  },
  {
   "cell_type": "code",
   "execution_count": 51,
   "id": "fe31ee8d",
   "metadata": {},
   "outputs": [],
   "source": [
    "def E_update_Q_2d(x, t, mu, sigma, xi):\n",
    "    d = mu.shape[0]\n",
    "    l_xi = Lambda(xi)\n",
    "    temp = ((x*x)*l_xi.reshape(-1,1)).sum(axis = 0)\n",
    "    sigma_squared =1/(1+2*temp)\n",
    "    \n",
    "    for i in range(d):\n",
    "        temp1 = 2*l_xi * (x @ mu -  (mu[i]*x[:,i]))\n",
    "        temp2 = t  - 1/2 - temp1 \n",
    "        temp3 = np.dot(x[:,i], temp2)\n",
    "        mu[i] = sigma_squared[i]*temp3\n",
    "         \n",
    "    return mu, np.sqrt(sigma_squared)"
   ]
  },
  {
   "cell_type": "code",
   "execution_count": 52,
   "id": "c6300cab",
   "metadata": {},
   "outputs": [],
   "source": [
    "def M_update_Q_2d(x, mu, sigma):\n",
    "    B = (x*x) @ (sigma**2) + (x @ mu)**2\n",
    "    return np.sqrt(B)"
   ]
  },
  {
   "cell_type": "code",
   "execution_count": 53,
   "id": "49456c98",
   "metadata": {},
   "outputs": [],
   "source": [
    "def Em_Q_2d(x,t):\n",
    "    c = 0\n",
    "    n, d = x.shape\n",
    "    mu = np.zeros(d)\n",
    "    sigma = np.ones(d)\n",
    "    xi_0 = np.abs(np.random.normal(0,1, size = (n)))\n",
    "    while True:\n",
    "        mu, sigma = E_update_Q_2d(x,t,mu,sigma,xi_0)\n",
    "        xi = M_update_Q_2d(x, mu, sigma)\n",
    "        if np.linalg.norm(xi_0-xi)<1e-8 and c>3000:\n",
    "            return mu, sigma\n",
    "        else:\n",
    "            c += 1\n",
    "            xi_0 = xi"
   ]
  },
  {
   "cell_type": "code",
   "execution_count": 54,
   "id": "8ee9d5c7",
   "metadata": {},
   "outputs": [],
   "source": [
    "mu, sigma = Em_Q_2d(x= data_train, t = label_train)"
   ]
  },
  {
   "cell_type": "code",
   "execution_count": 55,
   "id": "74703e86",
   "metadata": {},
   "outputs": [
    {
     "data": {
      "text/plain": [
       "(array([ 2.89537268, -2.76699462, -1.63499389, -1.94911109, -0.19317358]),\n",
       " array([0.01532219, 0.00247973, 0.00047451, 0.00058978, 0.00290673]))"
      ]
     },
     "execution_count": 55,
     "metadata": {},
     "output_type": "execute_result"
    }
   ],
   "source": [
    "mu , sigma**2"
   ]
  },
  {
   "cell_type": "code",
   "execution_count": 56,
   "id": "1675bda2",
   "metadata": {},
   "outputs": [
    {
     "data": {
      "text/plain": [
       "(array([ 2.89882616, -2.77086021, -1.63751078, -1.95377589, -0.19364377]),\n",
       " array([0.0287931 , 0.00360754, 0.00189673, 0.0022857 , 0.00640488]))"
      ]
     },
     "execution_count": 56,
     "metadata": {},
     "output_type": "execute_result"
    }
   ],
   "source": [
    "mu_vlr, np.diag(s_vlr)"
   ]
  },
  {
   "cell_type": "code",
   "execution_count": 57,
   "id": "5915afec",
   "metadata": {},
   "outputs": [
    {
     "data": {
      "text/plain": [
       "(array([ 2.89537268, -2.76699462, -1.63499389, -1.94911109, -0.19317358]),\n",
       " array([0.12378284, 0.04979686, 0.02178334, 0.02428546, 0.0539141 ]))"
      ]
     },
     "execution_count": 57,
     "metadata": {},
     "output_type": "execute_result"
    }
   ],
   "source": [
    "mu , sigma"
   ]
  },
  {
   "cell_type": "code",
   "execution_count": 58,
   "id": "6b4f0a73",
   "metadata": {},
   "outputs": [
    {
     "data": {
      "text/plain": [
       "0.99"
      ]
     },
     "execution_count": 58,
     "metadata": {},
     "output_type": "execute_result"
    }
   ],
   "source": [
    "predict(test, label, mu)"
   ]
  },
  {
   "cell_type": "code",
   "execution_count": 59,
   "id": "e3885ad2",
   "metadata": {},
   "outputs": [],
   "source": [
    "d = test.shape[1]\n",
    "Cov =sigma*sigma* np.eye(d)"
   ]
  },
  {
   "cell_type": "code",
   "execution_count": 60,
   "id": "bc03141e",
   "metadata": {},
   "outputs": [],
   "source": [
    "accuracy_a_p_vlr, average_pred_likelihood_vlr  = accuracy_predictive_likelihood(x = test, t = label, \n",
    "                                                                                mu = mu, Cov = Cov)"
   ]
  },
  {
   "cell_type": "code",
   "execution_count": 61,
   "id": "8df2eda4",
   "metadata": {},
   "outputs": [
    {
     "data": {
      "text/plain": [
       "0.99"
      ]
     },
     "execution_count": 61,
     "metadata": {},
     "output_type": "execute_result"
    }
   ],
   "source": [
    "accuracy_a_p_vlr"
   ]
  },
  {
   "cell_type": "code",
   "execution_count": 62,
   "id": "7ff39e68",
   "metadata": {},
   "outputs": [
    {
     "data": {
      "text/plain": [
       "0.9769986162278478"
      ]
     },
     "execution_count": 62,
     "metadata": {},
     "output_type": "execute_result"
    }
   ],
   "source": [
    "average_pred_likelihood_vlr[label==0] = 1-average_pred_likelihood_vlr[label==0]\n",
    "average_pred_likelihood_vlr.mean()"
   ]
  },
  {
   "cell_type": "code",
   "execution_count": null,
   "id": "deea0b70",
   "metadata": {},
   "outputs": [],
   "source": []
  }
 ],
 "metadata": {
  "kernelspec": {
   "display_name": "Python 3 (ipykernel)",
   "language": "python",
   "name": "python3"
  },
  "language_info": {
   "codemirror_mode": {
    "name": "ipython",
    "version": 3
   },
   "file_extension": ".py",
   "mimetype": "text/x-python",
   "name": "python",
   "nbconvert_exporter": "python",
   "pygments_lexer": "ipython3",
   "version": "3.9.7"
  }
 },
 "nbformat": 4,
 "nbformat_minor": 5
}
