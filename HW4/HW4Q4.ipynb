{
 "cells": [
  {
   "cell_type": "code",
   "execution_count": 1,
   "id": "9a3a3a6c",
   "metadata": {},
   "outputs": [],
   "source": [
    "import pandas as pd\n",
    "import numpy as np\n",
    "from scipy.optimize import minimize\n",
    "from scipy.special import digamma\n",
    "from scipy.stats import dirichlet\n",
    "import time\n",
    "from scipy.special import gamma as Gamma"
   ]
  },
  {
   "cell_type": "markdown",
   "id": "ad36b3bb",
   "metadata": {},
   "source": [
    "### Latent Dirichlet Allocation (LDA). \n",
    "Please download the pre-processed corpus from `data/lda`. From `ap.txt`, you can see the original Associated Press corpus. `ap.dat` are the processed data which you will work on. Each row in `ap.dat` represents a document. In total, we have $2,246$ documents. The first number in each row is the number of words in the document. The following are a list of  **word-id:count** items. Word-id starts with 0. The corresponding word list is given in `vocab.txt`. The first row corresponds to Word-id 0, second, Word-id 1, and continue. \n",
    "The first number in each row is the number of words in the document. The following are a list of word-id:count items. Word-id starts with 0. The corresponding word list is given in `vocab.txt`. The first row correspond to Word-id 0, second, Word-id 1, and continue."
   ]
  },
  {
   "cell_type": "code",
   "execution_count": 2,
   "id": "351ac1b3",
   "metadata": {},
   "outputs": [],
   "source": [
    "def softmax(x, axis = 1):\n",
    "    z = x - np.max(x, axis = 1, keepdims = True)\n",
    "    numerator = np.exp(z)\n",
    "    denominator = np.sum(numerator, axis = 1, keepdims = True)\n",
    "    softmax = numerator/denominator\n",
    "    return softmax"
   ]
  },
  {
   "cell_type": "markdown",
   "id": "1b3e072c",
   "metadata": {},
   "source": [
    "### Data preparation!"
   ]
  },
  {
   "cell_type": "code",
   "execution_count": 3,
   "id": "ea796f58",
   "metadata": {},
   "outputs": [],
   "source": [
    "h = open(\"data/lda/vocab.txt\", \"r\")\n",
    "Vocab = h.read().splitlines()"
   ]
  },
  {
   "cell_type": "code",
   "execution_count": 4,
   "id": "11f523a6",
   "metadata": {},
   "outputs": [
    {
     "data": {
      "text/plain": [
       "['i', 'new', 'percent', 'people', 'year']"
      ]
     },
     "execution_count": 4,
     "metadata": {},
     "output_type": "execute_result"
    }
   ],
   "source": [
    "Vocab[:5]"
   ]
  },
  {
   "cell_type": "code",
   "execution_count": 5,
   "id": "d1fb116e",
   "metadata": {},
   "outputs": [
    {
     "data": {
      "text/plain": [
       "10473"
      ]
     },
     "execution_count": 5,
     "metadata": {},
     "output_type": "execute_result"
    }
   ],
   "source": [
    "V = len(Vocab)\n",
    "V # number of vocabulary"
   ]
  },
  {
   "cell_type": "code",
   "execution_count": 6,
   "id": "56da6ca8",
   "metadata": {},
   "outputs": [],
   "source": [
    "f = open(\"data/lda/ap.dat\", \"r\")\n",
    "list_Documents = f.read().splitlines()"
   ]
  },
  {
   "cell_type": "code",
   "execution_count": 7,
   "id": "31b108c8",
   "metadata": {},
   "outputs": [
    {
     "data": {
      "text/plain": [
       "2246"
      ]
     },
     "execution_count": 7,
     "metadata": {},
     "output_type": "execute_result"
    }
   ],
   "source": [
    "M = len(list_Documents)\n",
    "M # number of documnets"
   ]
  },
  {
   "cell_type": "code",
   "execution_count": 8,
   "id": "42e8064c",
   "metadata": {},
   "outputs": [],
   "source": [
    "def len_of_documents():\n",
    "    l_o_d = []\n",
    "    for i in range(M):\n",
    "        l_o_d.append(int(list_Documents[i].split(' ')[0]))\n",
    "    return l_o_d\n",
    "lengths_of_documents = len_of_documents()"
   ]
  },
  {
   "cell_type": "code",
   "execution_count": 9,
   "id": "bbc61794",
   "metadata": {},
   "outputs": [],
   "source": [
    "def start_position_documents():\n",
    "    L = [0]\n",
    "    for x in lengths_of_documents:\n",
    "        L.append(x+L[-1])\n",
    "    return L\n",
    "spd = start_position_documents()"
   ]
  },
  {
   "cell_type": "code",
   "execution_count": 10,
   "id": "9c491c41",
   "metadata": {},
   "outputs": [
    {
     "data": {
      "text/plain": [
       "302031"
      ]
     },
     "execution_count": 10,
     "metadata": {},
     "output_type": "execute_result"
    }
   ],
   "source": [
    "spd[-1]"
   ]
  },
  {
   "cell_type": "code",
   "execution_count": 11,
   "id": "e705ee9f",
   "metadata": {},
   "outputs": [
    {
     "data": {
      "text/plain": [
       "2247"
      ]
     },
     "execution_count": 11,
     "metadata": {},
     "output_type": "execute_result"
    }
   ],
   "source": [
    "len(spd)"
   ]
  },
  {
   "cell_type": "code",
   "execution_count": 12,
   "id": "4552c265",
   "metadata": {},
   "outputs": [
    {
     "data": {
      "text/plain": [
       "2246"
      ]
     },
     "execution_count": 12,
     "metadata": {},
     "output_type": "execute_result"
    }
   ],
   "source": [
    "len(lengths_of_documents)"
   ]
  },
  {
   "cell_type": "code",
   "execution_count": 13,
   "id": "b5fbda91",
   "metadata": {},
   "outputs": [],
   "source": [
    "def _W_():\n",
    "    W = []\n",
    "    for m in range(M):\n",
    "        c = 0\n",
    "        l = lengths_of_documents[m]\n",
    "        W.append(np.zeros(l).astype(int))\n",
    "        L = list_Documents[m].split(' ')[1:]\n",
    "\n",
    "        for w_n in L:\n",
    "            w, n = w_n.split(':')\n",
    "            w = int(w)\n",
    "            n = int(n)\n",
    "            W[-1][c:c+n] += w\n",
    "            c = c + n\n",
    "    return W"
   ]
  },
  {
   "cell_type": "code",
   "execution_count": 14,
   "id": "b6236f3c",
   "metadata": {},
   "outputs": [],
   "source": [
    "W = _W_()"
   ]
  },
  {
   "cell_type": "markdown",
   "id": "55d7174b",
   "metadata": {},
   "source": [
    "### ??"
   ]
  },
  {
   "cell_type": "code",
   "execution_count": 15,
   "id": "5cf66330",
   "metadata": {},
   "outputs": [],
   "source": [
    "Dis = dirichlet(alpha = [.5,.5])"
   ]
  },
  {
   "cell_type": "code",
   "execution_count": 16,
   "id": "99421921",
   "metadata": {},
   "outputs": [
    {
     "data": {
      "text/plain": [
       "array([[0.99307776, 0.00692224],\n",
       "       [0.97460825, 0.02539175],\n",
       "       [0.64749364, 0.35250636],\n",
       "       [0.74272889, 0.25727111],\n",
       "       [0.89487849, 0.10512151]])"
      ]
     },
     "execution_count": 16,
     "metadata": {},
     "output_type": "execute_result"
    }
   ],
   "source": [
    "A = Dis.rvs(size = 5)\n",
    "A"
   ]
  },
  {
   "cell_type": "code",
   "execution_count": 17,
   "id": "268aeacf",
   "metadata": {},
   "outputs": [
    {
     "data": {
      "text/plain": [
       "array([ 1.3452509 ,  0.70479552, -0.40606342, -0.31720537,  0.03712295])"
      ]
     },
     "execution_count": 17,
     "metadata": {},
     "output_type": "execute_result"
    }
   ],
   "source": [
    "Dis.logpdf(x = A.T)"
   ]
  },
  {
   "cell_type": "code",
   "execution_count": 18,
   "id": "47a32b33",
   "metadata": {},
   "outputs": [
    {
     "data": {
      "text/plain": [
       "1.3452509020688042"
      ]
     },
     "execution_count": 18,
     "metadata": {},
     "output_type": "execute_result"
    }
   ],
   "source": [
    "Dis.logpdf(A[0])"
   ]
  },
  {
   "cell_type": "code",
   "execution_count": 19,
   "id": "a479ad6a",
   "metadata": {},
   "outputs": [
    {
     "data": {
      "text/plain": [
       "array([3.83914967, 2.02343289, 0.66626791, 0.7281812 , 1.03782061])"
      ]
     },
     "execution_count": 19,
     "metadata": {},
     "output_type": "execute_result"
    }
   ],
   "source": [
    "Dis.pdf(A.T)"
   ]
  },
  {
   "cell_type": "markdown",
   "id": "488e13bf",
   "metadata": {},
   "source": [
    "## DLA"
   ]
  },
  {
   "cell_type": "code",
   "execution_count": 20,
   "id": "252ba019",
   "metadata": {},
   "outputs": [],
   "source": [
    "K = 10 #number of topics\n",
    "alpha = 1/K* np.ones(K)\n",
    "n_words = sum(lengths_of_documents)"
   ]
  },
  {
   "cell_type": "code",
   "execution_count": 21,
   "id": "dfa22c56",
   "metadata": {},
   "outputs": [],
   "source": [
    "#phi = [1/K*np.ones((l, K)) for l in lengths_of_documents] # a list of l x K matrix: z_nj ~ Mult(phi[n][j])\n",
    "\n",
    "phi = 1/K * np.ones((n_words, K))\n",
    "psi = 1/V * np.ones((K,V))# an K x V matrix whose rows are topics: beta_k ~ a Fir(psi[k])\n",
    "gamma = np.ones((M, K)) # M Mixture parameters: theta_i ~ Dir(gamma[i])\n",
    "alpha = 1/K * np.ones(K)\n",
    "eta = 1"
   ]
  },
  {
   "cell_type": "code",
   "execution_count": 22,
   "id": "8fa70321",
   "metadata": {},
   "outputs": [
    {
     "data": {
      "text/plain": [
       "(2246, 10)"
      ]
     },
     "execution_count": 22,
     "metadata": {},
     "output_type": "execute_result"
    }
   ],
   "source": [
    "gamma.shape"
   ]
  },
  {
   "cell_type": "code",
   "execution_count": 42,
   "id": "8be81cd0",
   "metadata": {},
   "outputs": [],
   "source": [
    "def _phi_():\n",
    "    temp = np.zeros(phi.shape)\n",
    "    A = digamma(gamma) # M x K\n",
    "    B = digamma(psi) # K x V\n",
    "    B = B - B.sum(axis =1, keepdims = True)\n",
    "    for m in range(M):\n",
    "        temp[spd[m]:spd[m+1]] = (A[m] + B[:, W[m]].T).copy()\n",
    "    return softmax(temp)"
   ]
  },
  {
   "cell_type": "code",
   "execution_count": 43,
   "id": "b9080473",
   "metadata": {},
   "outputs": [],
   "source": [
    "#_phi_()"
   ]
  },
  {
   "cell_type": "code",
   "execution_count": 44,
   "id": "227a691d",
   "metadata": {},
   "outputs": [],
   "source": [
    "def _gamma_():\n",
    "    temp = np.zeros(gamma.shape)\n",
    "    for m in range(M):\n",
    "        temp[m] = alpha + phi[spd[m]:spd[m+1]].sum(axis = 0)\n",
    "    return temp"
   ]
  },
  {
   "cell_type": "code",
   "execution_count": 45,
   "id": "233793cd",
   "metadata": {},
   "outputs": [
    {
     "data": {
      "text/plain": [
       "(2246, 10)"
      ]
     },
     "execution_count": 45,
     "metadata": {},
     "output_type": "execute_result"
    }
   ],
   "source": [
    "_gamma_().shape"
   ]
  },
  {
   "cell_type": "code",
   "execution_count": 46,
   "id": "0c7c472d",
   "metadata": {},
   "outputs": [],
   "source": [
    "def _psi_():\n",
    "    temp = np.zeros(psi.shape) # (K, V)\n",
    "    for m in range(M):\n",
    "        for i in range(len(W[m])):\n",
    "            v = W[m][i]\n",
    "            temp[:, v] += (phi[spd[m]:spd[m+1]][i]).copy()\n",
    "    return eta + temp"
   ]
  },
  {
   "cell_type": "code",
   "execution_count": 47,
   "id": "ac93cc3b",
   "metadata": {},
   "outputs": [],
   "source": [
    "for i in range(100):\n",
    "    phi = _phi_()\n",
    "    gamma = _gamma_()\n",
    "    psi = _psi_()\n"
   ]
  },
  {
   "cell_type": "code",
   "execution_count": 48,
   "id": "d4d81d23",
   "metadata": {},
   "outputs": [
    {
     "data": {
      "text/plain": [
       "array([[    0,  6976,  6977, ...,  3495,  3477, 10472],\n",
       "       [ 5236,  6976,  6977, ...,     2,     1,     0],\n",
       "       [    0,  6976,  6977, ...,  3495,  3477, 10472],\n",
       "       ...,\n",
       "       [ 6009,  4071,  9100, ...,     2,     1,     0],\n",
       "       [ 6009,  4071,  9100, ...,     2,     1,     0],\n",
       "       [ 6009,  4071,  9100, ...,     2,     1,     0]])"
      ]
     },
     "execution_count": 48,
     "metadata": {},
     "output_type": "execute_result"
    }
   ],
   "source": [
    "I = np.argsort(psi)[-10:]\n",
    "I"
   ]
  },
  {
   "cell_type": "code",
   "execution_count": 49,
   "id": "2bb23b90",
   "metadata": {},
   "outputs": [
    {
     "data": {
      "text/plain": [
       "array([['i', 'classic', 'tibet', ..., 'wear', 'blocked', 'buffs'],\n",
       "       ['vincennes', 'classic', 'tibet', ..., 'percent', 'new', 'i'],\n",
       "       ['i', 'classic', 'tibet', ..., 'wear', 'blocked', 'buffs'],\n",
       "       ...,\n",
       "       ['steiger', 'confiscated', 'mead', ..., 'percent', 'new', 'i'],\n",
       "       ['steiger', 'confiscated', 'mead', ..., 'percent', 'new', 'i'],\n",
       "       ['steiger', 'confiscated', 'mead', ..., 'percent', 'new', 'i']],\n",
       "      dtype='<U18')"
      ]
     },
     "execution_count": 49,
     "metadata": {},
     "output_type": "execute_result"
    }
   ],
   "source": [
    "np.array(Vocab)[I]"
   ]
  },
  {
   "cell_type": "markdown",
   "id": "cbb74b98",
   "metadata": {},
   "source": [
    "### Optimizing $\\alpha$ and $\\eta$"
   ]
  },
  {
   "cell_type": "code",
   "execution_count": 50,
   "id": "35fc1514",
   "metadata": {},
   "outputs": [],
   "source": [
    "def ell_alpha(alpha):\n",
    "    A = np.log(Gamma(alpha.sum()))\n",
    "    B = np.sum(np.log(Gamma(alpha+1e-7)))\n",
    "    C = np.sum(digamma(gamma+1e-7) @ (alpha -1))\n",
    "    return M*A+M*B+C"
   ]
  },
  {
   "cell_type": "code",
   "execution_count": 51,
   "id": "d8ea0ac5",
   "metadata": {},
   "outputs": [],
   "source": [
    "def d_ell_alpha(alpha):\n",
    "    A = digamma(gamma) #(M,K)\n",
    "    A = A - digamma(gamma.sum(axis = 0))\n",
    "    return M * digamma(alpha.sum()) - M * digamma(alpha) + A.sum(axis =0)"
   ]
  },
  {
   "cell_type": "code",
   "execution_count": 52,
   "id": "481fd568",
   "metadata": {},
   "outputs": [
    {
     "data": {
      "text/plain": [
       "-202140504751.35583"
      ]
     },
     "execution_count": 52,
     "metadata": {},
     "output_type": "execute_result"
    }
   ],
   "source": [
    "ell_alpha(10*np.ones(K))"
   ]
  },
  {
   "cell_type": "code",
   "execution_count": 53,
   "id": "bd9b1651",
   "metadata": {},
   "outputs": [
    {
     "name": "stderr",
     "output_type": "stream",
     "text": [
      "/var/folders/0y/hx4crw9178xfvr_01vxxcmkh0000gn/T/ipykernel_72282/985436813.py:3: RuntimeWarning: invalid value encountered in subtract\n",
      "  A = A - digamma(gamma.sum(axis = 0))\n"
     ]
    },
    {
     "data": {
      "text/plain": [
       "array([             nan, -105770.93791114,  -56725.77348825,\n",
       "        -40719.30191056,  -20925.22145423,  -13825.29072742,\n",
       "        -12781.02619427,  -12573.02535615,  -12513.86763526,\n",
       "        -12492.23443447])"
      ]
     },
     "execution_count": 53,
     "metadata": {},
     "output_type": "execute_result"
    }
   ],
   "source": [
    "d_ell_alpha(10*np.ones(K))"
   ]
  },
  {
   "cell_type": "code",
   "execution_count": 54,
   "id": "6f2e047b",
   "metadata": {},
   "outputs": [],
   "source": [
    "def constraint1(alpha):\n",
    "    return alpha\n",
    "def constraint2(alpha):\n",
    "    return alpha.sum() - 1\n",
    "cons = [{'type':'ineq', 'fun': constraint1}]"
   ]
  },
  {
   "cell_type": "code",
   "execution_count": 55,
   "id": "b7e69621",
   "metadata": {},
   "outputs": [
    {
     "data": {
      "text/plain": [
       "87178291200.0"
      ]
     },
     "execution_count": 55,
     "metadata": {},
     "output_type": "execute_result"
    }
   ],
   "source": [
    "Gamma(15)"
   ]
  },
  {
   "cell_type": "code",
   "execution_count": 56,
   "id": "42e6aab9",
   "metadata": {},
   "outputs": [],
   "source": [
    "alpha = np.arange(K)\n",
    "alpha = alpha/alpha.sum()"
   ]
  },
  {
   "cell_type": "code",
   "execution_count": 57,
   "id": "334d7b10",
   "metadata": {},
   "outputs": [
    {
     "name": "stderr",
     "output_type": "stream",
     "text": [
      "/var/folders/0y/hx4crw9178xfvr_01vxxcmkh0000gn/T/ipykernel_72282/985436813.py:3: RuntimeWarning: invalid value encountered in subtract\n",
      "  A = A - digamma(gamma.sum(axis = 0))\n"
     ]
    },
    {
     "data": {
      "text/plain": [
       "     fun: 22460257419.790447\n",
       "     jac: array([            nan, -10056.25848067, -11624.37339556, -12538.80846343,\n",
       "        -1240.89225514,    733.99628344,  -1660.27064836,  -3926.32230514,\n",
       "        -5737.79817369,  -7184.0044163 ])\n",
       " message: 'Inequality constraints incompatible'\n",
       "    nfev: 1\n",
       "     nit: 1\n",
       "    njev: 1\n",
       "  status: 4\n",
       " success: False\n",
       "       x: array([0.        , 0.02222222, 0.04444444, 0.06666667, 0.08888889,\n",
       "       0.11111111, 0.13333333, 0.15555556, 0.17777778, 0.2       ])"
      ]
     },
     "execution_count": 57,
     "metadata": {},
     "output_type": "execute_result"
    }
   ],
   "source": [
    "minimize(ell_alpha, alpha, jac = d_ell_alpha, method = 'SLSQP',  constraints = cons)"
   ]
  },
  {
   "cell_type": "code",
   "execution_count": 58,
   "id": "7d226254",
   "metadata": {},
   "outputs": [],
   "source": [
    "def ell_eta(eta):\n",
    "    C = digamma(psi) # (K, V)\n",
    "    D = digamma(psi.sum(axis =1, keepdims = True))\n",
    "    return K * np.log(Gamma(V*eta)) - V*K*np.log(Gamma(eta)) + (eta-1) * (C-D).sum()"
   ]
  },
  {
   "cell_type": "code",
   "execution_count": 59,
   "id": "1bb6b538",
   "metadata": {},
   "outputs": [],
   "source": [
    "def d_ell_eta(eta):\n",
    "    C = digamma(psi) # (K, V)\n",
    "    D = digamma(psi.sum(axis =1, keepdims = True))\n",
    "    return K*V * digamma(V*eta) - V*K*digamma(eta) + (C-D).sum()"
   ]
  },
  {
   "cell_type": "code",
   "execution_count": 60,
   "id": "05849d5f",
   "metadata": {},
   "outputs": [],
   "source": [
    "def const1(eta):\n",
    "    return eta\n",
    "cons_eta = [{'type':'ineq', 'fun': const1}]"
   ]
  },
  {
   "cell_type": "code",
   "execution_count": 61,
   "id": "e62ec053",
   "metadata": {},
   "outputs": [
    {
     "data": {
      "text/plain": [
       "     fun: 317689.59036443336\n",
       "     jac: array([1.03989208e+08])\n",
       " message: 'Inequality constraints incompatible'\n",
       "    nfev: 1\n",
       "     nit: 1\n",
       "    njev: 1\n",
       "  status: 4\n",
       " success: False\n",
       "       x: array([0.001])"
      ]
     },
     "execution_count": 61,
     "metadata": {},
     "output_type": "execute_result"
    }
   ],
   "source": [
    "eta = 0.001\n",
    "minimize(ell_eta, eta, jac = d_ell_eta, constraints = cons_eta)"
   ]
  },
  {
   "cell_type": "code",
   "execution_count": null,
   "id": "e25a990c",
   "metadata": {},
   "outputs": [],
   "source": [
    "Gamma(3)"
   ]
  },
  {
   "cell_type": "code",
   "execution_count": null,
   "id": "d21f08af",
   "metadata": {},
   "outputs": [],
   "source": []
  }
 ],
 "metadata": {
  "kernelspec": {
   "display_name": "Python 3 (ipykernel)",
   "language": "python",
   "name": "python3"
  },
  "language_info": {
   "codemirror_mode": {
    "name": "ipython",
    "version": 3
   },
   "file_extension": ".py",
   "mimetype": "text/x-python",
   "name": "python",
   "nbconvert_exporter": "python",
   "pygments_lexer": "ipython3",
   "version": "3.9.7"
  }
 },
 "nbformat": 4,
 "nbformat_minor": 5
}
