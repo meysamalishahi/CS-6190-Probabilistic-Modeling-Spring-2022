{
 "cells": [
  {
   "cell_type": "code",
   "execution_count": 1,
   "id": "d0f84a87",
   "metadata": {},
   "outputs": [],
   "source": [
    "import numpy as np\n",
    "import scipy as sc\n",
    "from scipy.stats import logistic, norm\n",
    "from scipy.optimize import minimize\n",
    "import matplotlib.pyplot as plt"
   ]
  },
  {
   "cell_type": "code",
   "execution_count": 2,
   "id": "08ec0a5f",
   "metadata": {},
   "outputs": [],
   "source": [
    "'''\n",
    "This file contains sample code about how to use Gauss–Hermite quadrature to compute a \n",
    "specific type of integral numerically.\n",
    "\n",
    "The general form of this type of integral is:( see https://en.wikipedia.org/wiki/Gauss%E2%80%93Hermite_quadrature \n",
    "for more details)\n",
    "\n",
    "F = int_{ -inf}^{+inf} e^{-x*x) f(x) dx,  (1)\n",
    "\n",
    "in which we're calculating the integral of f(x) in the range ( -inf, +inf) weighted by e^(-x*x ).\n",
    "Note that for f(x) being polynomial function, this integral is guaranteed to converge. But for some others \n",
    "convergence is not guaranteed.\n",
    "'''\n",
    "\n",
    "import numpy as np\n",
    "\n",
    "\n",
    "def gass_hermite_quad(f, degree):\n",
    "    '''\n",
    "    Calculate the integral (1) numerically.\n",
    "    :param f: target function, takes a array as input x = [x0, x1,...,xn], and return a array of function \n",
    "    values f(x) = [f(x0),f(x1), ..., f(xn)]\n",
    "    :param degree: integer, >=1, number of points\n",
    "    :return:\n",
    "    '''\n",
    "\n",
    "    points, weights = np.polynomial.hermite.hermgauss(degree)\n",
    "\n",
    "    #function values at given points\n",
    "    f_x = f(points)\n",
    "\n",
    "    #weighted sum of function values\n",
    "    F = np.sum(f_x  * weights)\n",
    "\n",
    "    return F"
   ]
  },
  {
   "cell_type": "code",
   "execution_count": 3,
   "id": "4e7bb157",
   "metadata": {},
   "outputs": [],
   "source": [
    "if __name__ == '__main__':\n",
    "\n",
    "    # Example 1, f(x) = x^2, degree = 3, whose closed form solution is sqrt(pi) / 2\n",
    "    def x_square(x):\n",
    "        return x* x\n",
    "\n",
    "    # Example 2, f(x) = x * sin x, degree = 10, whose closed form solution is sqrt( pi) / e^(1/4) / 2)\n",
    "    def my_func(x):\n",
    "        return x * np.sin(x)  "
   ]
  },
  {
   "cell_type": "code",
   "execution_count": 4,
   "id": "186c1f7a",
   "metadata": {},
   "outputs": [
    {
     "name": "stdout",
     "output_type": "stream",
     "text": [
      "0.886226925452758 0.8862269254527579\n"
     ]
    }
   ],
   "source": [
    "F = gass_hermite_quad(x_square, 3)\n",
    "print(F, np.sqrt(np.pi)/2)"
   ]
  },
  {
   "cell_type": "code",
   "execution_count": 5,
   "id": "5ad0da48",
   "metadata": {},
   "outputs": [
    {
     "name": "stdout",
     "output_type": "stream",
     "text": [
      "0.6901942235216169 0.6901942235215714\n"
     ]
    }
   ],
   "source": [
    "F = gass_hermite_quad(my_func, degree=10)\n",
    "print(F, np.sqrt(np.pi)/np.e**(1/4)/2)"
   ]
  },
  {
   "cell_type": "markdown",
   "id": "c67797cb",
   "metadata": {},
   "source": [
    "### Question 1, Part (a)"
   ]
  },
  {
   "cell_type": "code",
   "execution_count": 6,
   "id": "03a1f9fb",
   "metadata": {},
   "outputs": [],
   "source": [
    "alpha = 1\n",
    "a = 10 \n",
    "b = 3"
   ]
  },
  {
   "cell_type": "code",
   "execution_count": 7,
   "id": "38c3d983",
   "metadata": {},
   "outputs": [],
   "source": [
    "sigma = lambda x: logistic.cdf(a*x+b)"
   ]
  },
  {
   "cell_type": "code",
   "execution_count": 8,
   "id": "ef55b666",
   "metadata": {},
   "outputs": [],
   "source": [
    "sigma_ = lambda x: 1/np.sqrt(alpha)*logistic.cdf(a*x/np.sqrt(alpha)+b)"
   ]
  },
  {
   "cell_type": "code",
   "execution_count": 9,
   "id": "55d154e1",
   "metadata": {},
   "outputs": [],
   "source": [
    "G = gass_hermite_quad(sigma_, degree=300)"
   ]
  },
  {
   "cell_type": "code",
   "execution_count": 10,
   "id": "be2be641",
   "metadata": {},
   "outputs": [
    {
     "name": "stdout",
     "output_type": "stream",
     "text": [
      "1.1689795217645669\n"
     ]
    }
   ],
   "source": [
    "print(G)"
   ]
  },
  {
   "cell_type": "markdown",
   "id": "8dcca514",
   "metadata": {},
   "source": [
    "### Question 1: Part (b)"
   ]
  },
  {
   "cell_type": "code",
   "execution_count": 11,
   "id": "0983511b",
   "metadata": {},
   "outputs": [],
   "source": [
    "nlp = lambda x: alpha*x*x -np.log(sigma(x))"
   ]
  },
  {
   "cell_type": "code",
   "execution_count": 12,
   "id": "bac0bcca",
   "metadata": {},
   "outputs": [],
   "source": [
    "d_nlp = lambda x : 2*alpha*x - a *(1-sigma(x))"
   ]
  },
  {
   "cell_type": "code",
   "execution_count": 13,
   "id": "29056d3c",
   "metadata": {},
   "outputs": [],
   "source": [
    "dd_nlp = lambda x: 2*alpha +a*a*sigma(x)*(1-sigma(x))"
   ]
  },
  {
   "cell_type": "code",
   "execution_count": 14,
   "id": "d6a8978a",
   "metadata": {},
   "outputs": [],
   "source": [
    "x =0\n",
    "model_Q1b = minimize(nlp, x, method = 'L-BFGS-B', jac = d_nlp )"
   ]
  },
  {
   "cell_type": "code",
   "execution_count": 15,
   "id": "3ffa140e",
   "metadata": {},
   "outputs": [
    {
     "data": {
      "text/plain": [
       "array([0.09471726])"
      ]
     },
     "execution_count": 15,
     "metadata": {},
     "output_type": "execute_result"
    }
   ],
   "source": [
    "mu_Laplace = model_Q1b.x\n",
    "mu_Laplace"
   ]
  },
  {
   "cell_type": "code",
   "execution_count": 16,
   "id": "183dbb8c",
   "metadata": {},
   "outputs": [
    {
     "data": {
      "text/plain": [
       "array([0.50908828])"
      ]
     },
     "execution_count": 16,
     "metadata": {},
     "output_type": "execute_result"
    }
   ],
   "source": [
    "Sigma_inv = dd_nlp(mu_Laplace)\n",
    "Sigma_Laplace = np.sqrt(1/Sigma_inv)\n",
    "Sigma_Laplace"
   ]
  },
  {
   "cell_type": "code",
   "execution_count": 17,
   "id": "fa58978c",
   "metadata": {},
   "outputs": [
    {
     "data": {
      "text/plain": [
       "array([3.85845823])"
      ]
     },
     "execution_count": 17,
     "metadata": {},
     "output_type": "execute_result"
    }
   ],
   "source": [
    "Sigma_inv"
   ]
  },
  {
   "cell_type": "code",
   "execution_count": 18,
   "id": "7f594a27",
   "metadata": {},
   "outputs": [
    {
     "data": {
      "image/png": "[encoded data removed]",
      "text/plain": [
       "<Figure size 720x720 with 1 Axes>"
      ]
     },
     "metadata": {
      "needs_background": "light"
     },
     "output_type": "display_data"
    }
   ],
   "source": [
    "X = np.linspace(-1, 2, 300)\n",
    "plt.figure(figsize=(10, 10))\n",
    "plt.plot(X, 1/G *np.exp(-nlp(X)), label = 'Ground Truth')\n",
    "plt.plot(X, norm.pdf(X, mu_Laplace, Sigma_Laplace), label = 'Laplace appr.')\n",
    "plt.legend()\n",
    "plt.show()"
   ]
  },
  {
   "cell_type": "markdown",
   "id": "5cec147a",
   "metadata": {},
   "source": [
    "### Question 1: Part (c)"
   ]
  },
  {
   "cell_type": "code",
   "execution_count": 19,
   "id": "e9fe1039",
   "metadata": {},
   "outputs": [],
   "source": [
    "def Lambda(x):\n",
    "    return (logistic.cdf(x)- 1/2)/(2*x)"
   ]
  },
  {
   "cell_type": "code",
   "execution_count": 20,
   "id": "c302ea2e",
   "metadata": {},
   "outputs": [],
   "source": [
    "def EM_Q1(x_0, tolerance = 1e-8):\n",
    "    \n",
    "    while True:\n",
    "        l = Lambda(x_0)\n",
    "        \n",
    "        # E-step:\n",
    "        \n",
    "        sigma_squared = 1/(2*alpha + 2*a*a*l)\n",
    "        \n",
    "        mu = sigma_squared *(a/2 - 2*a*b*l)\n",
    "        \n",
    "        \n",
    "        #M_step:\n",
    "        x_1 = np.sqrt((a*mu+b)**2 + a*a*sigma_squared)\n",
    "        \n",
    "        if np.abs(x_1-x_0) <tolerance:\n",
    "            return mu, sigma_squared\n",
    "        else:\n",
    "            x_0 = x_1"
   ]
  },
  {
   "cell_type": "code",
   "execution_count": 21,
   "id": "82b19d3d",
   "metadata": {},
   "outputs": [
    {
     "data": {
      "text/plain": [
       "(0.306888172193115, 0.32920037650590206)"
      ]
     },
     "execution_count": 21,
     "metadata": {},
     "output_type": "execute_result"
    }
   ],
   "source": [
    "mu_variational,sigma_squared = EM_Q1(1)\n",
    "Sigma_variational = np.sqrt(sigma_squared)\n",
    "mu_variational, Sigma_variational"
   ]
  },
  {
   "cell_type": "code",
   "execution_count": 22,
   "id": "ba7b50dc",
   "metadata": {},
   "outputs": [
    {
     "data": {
      "text/plain": [
       "(array([0.09471726]), array([0.50908828]))"
      ]
     },
     "execution_count": 22,
     "metadata": {},
     "output_type": "execute_result"
    }
   ],
   "source": [
    "mu_Laplace, Sigma_Laplace"
   ]
  },
  {
   "cell_type": "code",
   "execution_count": 23,
   "id": "238de1bb",
   "metadata": {},
   "outputs": [],
   "source": [
    "X = np.linspace(-5, 5, 300)"
   ]
  },
  {
   "cell_type": "code",
   "execution_count": 24,
   "id": "9a375398",
   "metadata": {},
   "outputs": [
    {
     "data": {
      "image/png": "[encoded data removed]",
      "text/plain": [
       "<Figure size 720x720 with 1 Axes>"
      ]
     },
     "metadata": {
      "needs_background": "light"
     },
     "output_type": "display_data"
    }
   ],
   "source": [
    "plt.figure(figsize=(10, 10))\n",
    "plt.plot(X, 1/G *np.exp(-nlp(X)), label = 'Ground Truth')\n",
    "plt.plot(X, norm.pdf(X, mu_Laplace, Sigma_Laplace), label = 'Laplace appr.')\n",
    "plt.plot(X, norm.pdf(X, mu_variational, Sigma_variational), label = ' local var.')\n",
    "plt.legend()\n",
    "plt.show()"
   ]
  },
  {
   "cell_type": "code",
   "execution_count": null,
   "id": "7952e9aa",
   "metadata": {},
   "outputs": [],
   "source": []
  }
 ],
 "metadata": {
  "kernelspec": {
   "display_name": "Python 3 (ipykernel)",
   "language": "python",
   "name": "python3"
  },
  "language_info": {
   "codemirror_mode": {
    "name": "ipython",
    "version": 3
   },
   "file_extension": ".py",
   "mimetype": "text/x-python",
   "name": "python",
   "nbconvert_exporter": "python",
   "pygments_lexer": "ipython3",
   "version": "3.9.7"
  }
 },
 "nbformat": 4,
 "nbformat_minor": 5
}
