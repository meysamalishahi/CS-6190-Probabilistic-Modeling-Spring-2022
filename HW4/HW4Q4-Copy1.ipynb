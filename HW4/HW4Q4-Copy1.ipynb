{
 "cells": [
  {
   "cell_type": "code",
   "execution_count": 1,
   "id": "9a3a3a6c",
   "metadata": {},
   "outputs": [],
   "source": [
    "import pandas as pd\n",
    "import numpy as np\n",
    "from scipy.optimize import minimize\n",
    "from scipy.special import digamma\n",
    "from scipy.stats import dirichlet\n",
    "import time\n",
    "from scipy.special import gamma as Gamma"
   ]
  },
  {
   "cell_type": "markdown",
   "id": "ad36b3bb",
   "metadata": {},
   "source": [
    "### Latent Dirichlet Allocation (LDA). \n",
    "Please download the pre-processed corpus from `data/lda`. From `ap.txt`, you can see the original Associated Press corpus. `ap.dat` are the processed data which you will work on. Each row in `ap.dat` represents a document. In total, we have $2,246$ documents. The first number in each row is the number of words in the document. The following are a list of  **word-id:count** items. Word-id starts with 0. The corresponding word list is given in `vocab.txt`. The first row corresponds to Word-id 0, second, Word-id 1, and continue. \n",
    "The first number in each row is the number of words in the document. The following are a list of word-id:count items. Word-id starts with 0. The corresponding word list is given in `vocab.txt`. The first row correspond to Word-id 0, second, Word-id 1, and continue."
   ]
  },
  {
   "cell_type": "code",
   "execution_count": 3,
   "id": "351ac1b3",
   "metadata": {},
   "outputs": [],
   "source": [
    "def softmax(x):\n",
    "    z = x - np.max(x)\n",
    "    numerator = np.exp(z)\n",
    "    denominator = np.sum(numerator)\n",
    "    softmax = numerator/denominator\n",
    "    return softmax"
   ]
  },
  {
   "cell_type": "markdown",
   "id": "1b3e072c",
   "metadata": {},
   "source": [
    "### Data preparation!"
   ]
  },
  {
   "cell_type": "code",
   "execution_count": 4,
   "id": "ea796f58",
   "metadata": {},
   "outputs": [],
   "source": [
    "h = open(\"data/lda/vocab.txt\", \"r\")\n",
    "Vocab = h.read().splitlines()"
   ]
  },
  {
   "cell_type": "code",
   "execution_count": 5,
   "id": "11f523a6",
   "metadata": {},
   "outputs": [
    {
     "data": {
      "text/plain": [
       "['i', 'new', 'percent', 'people', 'year']"
      ]
     },
     "execution_count": 5,
     "metadata": {},
     "output_type": "execute_result"
    }
   ],
   "source": [
    "Vocab[:5]"
   ]
  },
  {
   "cell_type": "code",
   "execution_count": 6,
   "id": "d1fb116e",
   "metadata": {},
   "outputs": [
    {
     "data": {
      "text/plain": [
       "10473"
      ]
     },
     "execution_count": 6,
     "metadata": {},
     "output_type": "execute_result"
    }
   ],
   "source": [
    "V = len(Vocab)\n",
    "V # number of vocabulary"
   ]
  },
  {
   "cell_type": "code",
   "execution_count": 7,
   "id": "56da6ca8",
   "metadata": {},
   "outputs": [],
   "source": [
    "f = open(\"data/lda/ap.dat\", \"r\")\n",
    "list_Documents = f.read().splitlines()"
   ]
  },
  {
   "cell_type": "code",
   "execution_count": 8,
   "id": "31b108c8",
   "metadata": {},
   "outputs": [
    {
     "data": {
      "text/plain": [
       "2246"
      ]
     },
     "execution_count": 8,
     "metadata": {},
     "output_type": "execute_result"
    }
   ],
   "source": [
    "M = len(list_Documents)\n",
    "M # number of documnets"
   ]
  },
  {
   "cell_type": "code",
   "execution_count": 10,
   "id": "42e8064c",
   "metadata": {},
   "outputs": [],
   "source": [
    "def len_of_documents():\n",
    "    l_o_d = []\n",
    "    for i in range(M):\n",
    "        l_o_d.append(int(list_Documents[i].split(' ')[0]))\n",
    "    return l_o_d\n",
    "lengths_of_documents = len_of_documents()"
   ]
  },
  {
   "cell_type": "code",
   "execution_count": 11,
   "id": "b5fbda91",
   "metadata": {},
   "outputs": [],
   "source": [
    "def _W_():\n",
    "    W = []\n",
    "    c = 0\n",
    "    for m in range(M):\n",
    "        l = lengths_of_documents[m]\n",
    "        D = np.zeros(l).astype(int)\n",
    "        L = list_Documents[m].split(' ')[1:]\n",
    "        for w_n in L:\n",
    "            w, n = w_n.split(':')\n",
    "            w = int(w)\n",
    "            n = int(n)\n",
    "            D[c:c+n] = w\n",
    "            c = c+ n\n",
    "        W.append(D)\n",
    "    return W"
   ]
  },
  {
   "cell_type": "code",
   "execution_count": 12,
   "id": "b6236f3c",
   "metadata": {},
   "outputs": [],
   "source": [
    "W = _W_()"
   ]
  },
  {
   "cell_type": "code",
   "execution_count": 13,
   "id": "79d6c783",
   "metadata": {},
   "outputs": [
    {
     "data": {
      "text/plain": [
       "array([    0,  6144,  3586,  3586,     3,     4,  1541,     8,    10,\n",
       "        3927,    12,    12,    12,    12,    12,    12,    12,  4621,\n",
       "         527,  9232,  1112,  1112,    20,  2587,  6172, 10269, 10269,\n",
       "          37,    42,  3117,  1582,  1585,  1585,  1585,   435,  9268,\n",
       "        9268,  9268,   571,   571,    60,    61,    63,    63,    64,\n",
       "          64,  5185,    11,  4683,   590,   590,  1103,  1103,   592,\n",
       "        5718,  1623,  1623,  1624,  1624,  1624,  1624,    89,    89,\n",
       "        6234,  8802,  1638,   103,   600,  9404,   106,  3691,   720,\n",
       "        2672,   113,  2165,  5751,   123,   123,   123,  1148,   128,\n",
       "         128,  1670,  1670,  4231,  1167,   144,   147,   149,   149,\n",
       "         149,   149,   149,   149,   149,  3735,  3735,  5272,  5272,\n",
       "        1732,   673,   673,  5282,    27,  1700,  9893,  9893,   166,\n",
       "         167,   173,   174,  2224,  2248,   372,   372,   186,  4284,\n",
       "        4284,  4284,  3450,  3450,   117,   117,   203,  2244,  5320,\n",
       "         201,  4215,  9932,  9932,   207,   207,   208,   208,   208,\n",
       "         208,   208,  8914,  7898,   733,   733,  1760,  1744,   744,\n",
       "         234,  1259,  1259,  4287,  7254,   249,  8311,  5884,  5884,\n",
       "         298,   254,   767,   767,  2304,  4876,   270,   557,   786,\n",
       "         789,   789,  2331,   287,  5409,   290,  5923,  2854,  1834,\n",
       "        1834,  1834,   303,  3888,  3888,  3888,  3888,   817,   817,\n",
       "        9523,   334,  1333,   311,   311,  1855])"
      ]
     },
     "execution_count": 13,
     "metadata": {},
     "output_type": "execute_result"
    }
   ],
   "source": [
    "W[0]"
   ]
  },
  {
   "cell_type": "code",
   "execution_count": 14,
   "id": "2f429a7e",
   "metadata": {},
   "outputs": [
    {
     "data": {
      "text/plain": [
       "['186',\n",
       " '0:1',\n",
       " '6144:1',\n",
       " '3586:2',\n",
       " '3:1',\n",
       " '4:1',\n",
       " '1541:1',\n",
       " '8:1',\n",
       " '10:1',\n",
       " '3927:1']"
      ]
     },
     "execution_count": 14,
     "metadata": {},
     "output_type": "execute_result"
    }
   ],
   "source": [
    "list_Documents[0].split(' ')[:10]"
   ]
  },
  {
   "cell_type": "markdown",
   "id": "55d7174b",
   "metadata": {},
   "source": [
    "### ??"
   ]
  },
  {
   "cell_type": "code",
   "execution_count": 15,
   "id": "5cf66330",
   "metadata": {},
   "outputs": [],
   "source": [
    "Dis = dirichlet(alpha = [.5,.5])"
   ]
  },
  {
   "cell_type": "code",
   "execution_count": 16,
   "id": "99421921",
   "metadata": {},
   "outputs": [
    {
     "data": {
      "text/plain": [
       "array([[0.20746881, 0.79253119],\n",
       "       [0.25744619, 0.74255381],\n",
       "       [0.02923932, 0.97076068],\n",
       "       [0.67333925, 0.32666075],\n",
       "       [0.72967768, 0.27032232]])"
      ]
     },
     "execution_count": 16,
     "metadata": {},
     "output_type": "execute_result"
    }
   ],
   "source": [
    "A = Dis.rvs(size = 5)\n",
    "A"
   ]
  },
  {
   "cell_type": "code",
   "execution_count": 17,
   "id": "268aeacf",
   "metadata": {},
   "outputs": [
    {
     "data": {
      "text/plain": [
       "array([-0.24208105, -0.31742764,  0.63622827, -0.38756034, -0.33308357])"
      ]
     },
     "execution_count": 17,
     "metadata": {},
     "output_type": "execute_result"
    }
   ],
   "source": [
    "Dis.logpdf(x = A.T)"
   ]
  },
  {
   "cell_type": "code",
   "execution_count": 18,
   "id": "47a32b33",
   "metadata": {},
   "outputs": [
    {
     "data": {
      "text/plain": [
       "-0.2420810493857063"
      ]
     },
     "execution_count": 18,
     "metadata": {},
     "output_type": "execute_result"
    }
   ],
   "source": [
    "Dis.logpdf(A[0])"
   ]
  },
  {
   "cell_type": "code",
   "execution_count": 19,
   "id": "a479ad6a",
   "metadata": {},
   "outputs": [
    {
     "data": {
      "text/plain": [
       "array([0.78499255, 0.72801936, 1.88934134, 0.67871068, 0.71671029])"
      ]
     },
     "execution_count": 19,
     "metadata": {},
     "output_type": "execute_result"
    }
   ],
   "source": [
    "Dis.pdf(A.T)"
   ]
  },
  {
   "cell_type": "markdown",
   "id": "488e13bf",
   "metadata": {},
   "source": [
    "## DLA"
   ]
  },
  {
   "cell_type": "code",
   "execution_count": 20,
   "id": "252ba019",
   "metadata": {},
   "outputs": [],
   "source": [
    "K = 5 #number of topics\n",
    "alpha = 1/K* np.ones(K)"
   ]
  },
  {
   "cell_type": "code",
   "execution_count": 21,
   "id": "dfa22c56",
   "metadata": {},
   "outputs": [],
   "source": [
    "phi = [1/K*np.ones((l, K)) for l in lengths_of_documents] # a list of l x K matrix: z_nj ~ Mult(phi[n][j])\n",
    "psi = 1/V* np.ones((K,V))# an K x V matrix whose rows are topics: beta_k ~ a Fir(psi[k])\n",
    "gamma = np.ones((M, K)) # M Mixture parameters: theta_i ~ Dir(gamma[i])"
   ]
  },
  {
   "cell_type": "code",
   "execution_count": 22,
   "id": "e3784883",
   "metadata": {},
   "outputs": [],
   "source": [
    "def phi_nj(gamma_n, psi, w_nj):\n",
    "    dg_gamma_n = digamma(gamma_n) # (K,)\n",
    "    dg_psi = digamma(psi[:,w_nj]) # (K,)\n",
    "    return softmax(dg_gamma_n + dg_psi)"
   ]
  },
  {
   "cell_type": "code",
   "execution_count": 23,
   "id": "afbbfcb4",
   "metadata": {},
   "outputs": [],
   "source": [
    "def gamma_n(alpha, phi_n):\n",
    "    return alpha + phi_n.sum(axis = 0) # (K,)"
   ]
  },
  {
   "cell_type": "code",
   "execution_count": 24,
   "id": "afec28bc",
   "metadata": {},
   "outputs": [],
   "source": [
    "def psi_(eta, phi):\n",
    "    temp = eta*np.ones((K,V))\n",
    "    for v in range(V):\n",
    "        for n in range(M):\n",
    "            J = (W[n] == v)\n",
    "            temp[:,v] += phi[n][J,:].sum(axis = 0) # (k,)\n",
    "    return temp"
   ]
  },
  {
   "cell_type": "code",
   "execution_count": 25,
   "id": "722a3b2c",
   "metadata": {},
   "outputs": [
    {
     "data": {
      "text/plain": [
       "array([0.2, 0.2, 0.2, 0.2, 0.2])"
      ]
     },
     "execution_count": 25,
     "metadata": {},
     "output_type": "execute_result"
    }
   ],
   "source": [
    "phi_nj(gamma[0], psi, w_nj=3)"
   ]
  },
  {
   "cell_type": "code",
   "execution_count": 26,
   "id": "46438bd2",
   "metadata": {},
   "outputs": [],
   "source": [
    "for n in range(M):\n",
    "    for j in range(lengths_of_documents[n]):\n",
    "        phi[n][j] = phi_nj(gamma[n], psi, W[n][j])"
   ]
  },
  {
   "cell_type": "code",
   "execution_count": 27,
   "id": "b1f1ca6c",
   "metadata": {},
   "outputs": [
    {
     "name": "stdout",
     "output_type": "stream",
     "text": [
      "147.2027997970581\n"
     ]
    }
   ],
   "source": [
    "t = time.time()\n",
    "psi =  psi_(eta=1/V, phi = phi)\n",
    "print(time.time()-t)"
   ]
  },
  {
   "cell_type": "code",
   "execution_count": 28,
   "id": "9261659a",
   "metadata": {},
   "outputs": [
    {
     "data": {
      "text/plain": [
       "array([6.03692001e+04, 9.54836246e-05, 9.54836246e-05, ...,\n",
       "       9.54836246e-05, 9.54836246e-05, 9.54836246e-05])"
      ]
     },
     "execution_count": 28,
     "metadata": {},
     "output_type": "execute_result"
    }
   ],
   "source": [
    "psi[0]"
   ]
  },
  {
   "cell_type": "code",
   "execution_count": 29,
   "id": "48e8f38d",
   "metadata": {},
   "outputs": [],
   "source": [
    "for n in range(M):\n",
    "    gamma[n] = gamma_n(alpha, phi[n])"
   ]
  },
  {
   "cell_type": "code",
   "execution_count": 30,
   "id": "b98eff7c",
   "metadata": {},
   "outputs": [
    {
     "data": {
      "text/plain": [
       "array([37.4, 37.4, 37.4, 37.4, 37.4])"
      ]
     },
     "execution_count": 30,
     "metadata": {},
     "output_type": "execute_result"
    }
   ],
   "source": [
    "gamma[0]"
   ]
  },
  {
   "cell_type": "code",
   "execution_count": 55,
   "id": "35fc1514",
   "metadata": {},
   "outputs": [],
   "source": [
    "def ell(alpha):\n",
    "    A = np.log(Gamma(alpha.sum()))\n",
    "    B = np.sum(np.log(Gamma(alpha+1e-7)))\n",
    "    C = np.sum(digamma(gamma+1e-7)@ (alpha -1))\n",
    "    return A+B+C"
   ]
  },
  {
   "cell_type": "code",
   "execution_count": 56,
   "id": "d8ea0ac5",
   "metadata": {},
   "outputs": [],
   "source": [
    "def d_ell(alpha):\n",
    "    return M * digamma(alpha.sum()) - M * digamma(alpha) + digamma(gamma).sum(axis =0)"
   ]
  },
  {
   "cell_type": "code",
   "execution_count": 57,
   "id": "481fd568",
   "metadata": {},
   "outputs": [
    {
     "data": {
      "text/plain": [
       "312408.7650221522"
      ]
     },
     "execution_count": 57,
     "metadata": {},
     "output_type": "execute_result"
    }
   ],
   "source": [
    "ell(10*np.ones(5))"
   ]
  },
  {
   "cell_type": "code",
   "execution_count": 58,
   "id": "bd9b1651",
   "metadata": {},
   "outputs": [
    {
     "data": {
      "text/plain": [
       "array([10644.21447865, 10644.21447865, 10644.21447865, 10644.21447865,\n",
       "       10644.21447865])"
      ]
     },
     "execution_count": 58,
     "metadata": {},
     "output_type": "execute_result"
    }
   ],
   "source": [
    "d_ell(10*np.ones(5))"
   ]
  },
  {
   "cell_type": "code",
   "execution_count": 75,
   "id": "6f2e047b",
   "metadata": {},
   "outputs": [],
   "source": [
    "def constraint1(alpha):\n",
    "    return alpha - 1e-3\n",
    "def constraint2(alpha):\n",
    "    return alpha.sum() - 1\n",
    "cons = [{'type':'ineq', 'fun': constraint1}]"
   ]
  },
  {
   "cell_type": "code",
   "execution_count": 87,
   "id": "42e6aab9",
   "metadata": {},
   "outputs": [
    {
     "name": "stderr",
     "output_type": "stream",
     "text": [
      "/var/folders/0y/hx4crw9178xfvr_01vxxcmkh0000gn/T/ipykernel_57791/1610442623.py:2: RuntimeWarning: divide by zero encountered in log\n",
      "  A = np.log(Gamma(alpha.sum()))\n",
      "/var/folders/0y/hx4crw9178xfvr_01vxxcmkh0000gn/T/ipykernel_57791/1610442623.py:3: RuntimeWarning: divide by zero encountered in log\n",
      "  B = np.sum(np.log(Gamma(alpha+1e-7)))\n",
      "/var/folders/0y/hx4crw9178xfvr_01vxxcmkh0000gn/T/ipykernel_57791/1610442623.py:3: RuntimeWarning: invalid value encountered in log\n",
      "  B = np.sum(np.log(Gamma(alpha+1e-7)))\n",
      "/var/folders/0y/hx4crw9178xfvr_01vxxcmkh0000gn/T/ipykernel_57791/1610442623.py:2: RuntimeWarning: invalid value encountered in log\n",
      "  A = np.log(Gamma(alpha.sum()))\n"
     ]
    },
    {
     "data": {
      "text/plain": [
       "     fun: -inf\n",
       "     jac: array([32901.33942471,  4233.36686244,  2840.41848468,  9767.65852805,\n",
       "       13115.53260162])\n",
       " message: 'Positive directional derivative for linesearch'\n",
       "    nfev: 443\n",
       "     nit: 47\n",
       "    njev: 43\n",
       "  status: 8\n",
       " success: False\n",
       "       x: array([-24643.89870251, -31174.25773155, -36545.23494319, -41483.4754476 ,\n",
       "       -46189.62963799])"
      ]
     },
     "execution_count": 87,
     "metadata": {},
     "output_type": "execute_result"
    }
   ],
   "source": [
    "alpha = np.array([1, 2, 3, 4, 5])\n",
    "minimize(ell, alpha, jac = d_ell, constraints = cons)"
   ]
  },
  {
   "cell_type": "code",
   "execution_count": 84,
   "id": "d9e9ef3b",
   "metadata": {},
   "outputs": [
    {
     "data": {
      "text/plain": [
       "array([0.2141476 , 0.21416492, 0.31227514, 0.12970361, 0.12970873])"
      ]
     },
     "execution_count": 84,
     "metadata": {},
     "output_type": "execute_result"
    }
   ],
   "source": [
    "model.x/model.x.sum()"
   ]
  },
  {
   "cell_type": "code",
   "execution_count": 85,
   "id": "a53057b0",
   "metadata": {},
   "outputs": [
    {
     "data": {
      "text/plain": [
       "array([0.2141476 , 0.21416492, 0.31227514, 0.12970361, 0.12970873])"
      ]
     },
     "execution_count": 85,
     "metadata": {},
     "output_type": "execute_result"
    }
   ],
   "source": [
    "model.x/model.x.sum()"
   ]
  },
  {
   "cell_type": "code",
   "execution_count": 105,
   "id": "7d226254",
   "metadata": {},
   "outputs": [],
   "source": [
    "def ell_eta(eta):\n",
    "    return K * np.log(Gamma(V*eta)) - V*K*Gamma(eta) + (eta-1) * digamma(psi).sum()"
   ]
  },
  {
   "cell_type": "code",
   "execution_count": 106,
   "id": "1bb6b538",
   "metadata": {},
   "outputs": [],
   "source": [
    "def d_ell_eta(eta):\n",
    "    return K*V * digamma(V*eta) - V*K*digamma(eta)"
   ]
  },
  {
   "cell_type": "code",
   "execution_count": 116,
   "id": "05849d5f",
   "metadata": {},
   "outputs": [],
   "source": [
    "def const1(eta):\n",
    "    return eta -1e-5 \n",
    "cons_eta = [{'type':'ineq', 'fun': const1}]"
   ]
  },
  {
   "cell_type": "code",
   "execution_count": 118,
   "id": "e62ec053",
   "metadata": {},
   "outputs": [
    {
     "data": {
      "text/plain": [
       "     fun: -5.236499999999999e+24\n",
       "     jac: array([5.236e+24])\n",
       " message: 'Inequality constraints incompatible'\n",
       "    nfev: 1\n",
       "     nit: 1\n",
       "    njev: 1\n",
       "  status: 4\n",
       " success: False\n",
       "       x: array([1.e-20])"
      ]
     },
     "execution_count": 118,
     "metadata": {},
     "output_type": "execute_result"
    }
   ],
   "source": [
    "eta = 1e-20\n",
    "minimize(ell_eta, eta, jac = d_ell_eta, constraints = cons_eta)"
   ]
  },
  {
   "cell_type": "code",
   "execution_count": null,
   "id": "e25a990c",
   "metadata": {},
   "outputs": [],
   "source": []
  }
 ],
 "metadata": {
  "kernelspec": {
   "display_name": "Python 3 (ipykernel)",
   "language": "python",
   "name": "python3"
  },
  "language_info": {
   "codemirror_mode": {
    "name": "ipython",
    "version": 3
   },
   "file_extension": ".py",
   "mimetype": "text/x-python",
   "name": "python",
   "nbconvert_exporter": "python",
   "pygments_lexer": "ipython3",
   "version": "3.9.7"
  }
 },
 "nbformat": 4,
 "nbformat_minor": 5
}
